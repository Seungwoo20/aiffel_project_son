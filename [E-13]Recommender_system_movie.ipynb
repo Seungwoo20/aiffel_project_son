{
 "cells": [
  {
   "cell_type": "code",
   "execution_count": 1,
   "id": "b8f29d3a",
   "metadata": {},
   "outputs": [
    {
     "name": "stdout",
     "output_type": "stream",
     "text": [
      "1.21.4\n",
      "1.7.1\n",
      "0.4.8\n"
     ]
    }
   ],
   "source": [
    "import numpy as np\n",
    "import scipy\n",
    "import implicit\n",
    "import pandas as pd\n",
    "print(np.__version__)\n",
    "print(scipy.__version__)\n",
    "print(implicit.__version__)"
   ]
  },
  {
   "cell_type": "markdown",
   "id": "9a54ee16",
   "metadata": {},
   "source": [
    "# 01. 데이터 준비/ 전처리"
   ]
  },
  {
   "cell_type": "code",
   "execution_count": 2,
   "id": "8f99eca2",
   "metadata": {},
   "outputs": [
    {
     "data": {
      "text/html": [
       "<div>\n",
       "<style scoped>\n",
       "    .dataframe tbody tr th:only-of-type {\n",
       "        vertical-align: middle;\n",
       "    }\n",
       "\n",
       "    .dataframe tbody tr th {\n",
       "        vertical-align: top;\n",
       "    }\n",
       "\n",
       "    .dataframe thead th {\n",
       "        text-align: right;\n",
       "    }\n",
       "</style>\n",
       "<table border=\"1\" class=\"dataframe\">\n",
       "  <thead>\n",
       "    <tr style=\"text-align: right;\">\n",
       "      <th></th>\n",
       "      <th>user_id</th>\n",
       "      <th>movie_id</th>\n",
       "      <th>ratings</th>\n",
       "      <th>timestamp</th>\n",
       "    </tr>\n",
       "  </thead>\n",
       "  <tbody>\n",
       "    <tr>\n",
       "      <th>0</th>\n",
       "      <td>1</td>\n",
       "      <td>1193</td>\n",
       "      <td>5</td>\n",
       "      <td>978300760</td>\n",
       "    </tr>\n",
       "    <tr>\n",
       "      <th>1</th>\n",
       "      <td>1</td>\n",
       "      <td>661</td>\n",
       "      <td>3</td>\n",
       "      <td>978302109</td>\n",
       "    </tr>\n",
       "    <tr>\n",
       "      <th>2</th>\n",
       "      <td>1</td>\n",
       "      <td>914</td>\n",
       "      <td>3</td>\n",
       "      <td>978301968</td>\n",
       "    </tr>\n",
       "    <tr>\n",
       "      <th>3</th>\n",
       "      <td>1</td>\n",
       "      <td>3408</td>\n",
       "      <td>4</td>\n",
       "      <td>978300275</td>\n",
       "    </tr>\n",
       "    <tr>\n",
       "      <th>4</th>\n",
       "      <td>1</td>\n",
       "      <td>2355</td>\n",
       "      <td>5</td>\n",
       "      <td>978824291</td>\n",
       "    </tr>\n",
       "    <tr>\n",
       "      <th>5</th>\n",
       "      <td>1</td>\n",
       "      <td>1197</td>\n",
       "      <td>3</td>\n",
       "      <td>978302268</td>\n",
       "    </tr>\n",
       "    <tr>\n",
       "      <th>6</th>\n",
       "      <td>1</td>\n",
       "      <td>1287</td>\n",
       "      <td>5</td>\n",
       "      <td>978302039</td>\n",
       "    </tr>\n",
       "    <tr>\n",
       "      <th>7</th>\n",
       "      <td>1</td>\n",
       "      <td>2804</td>\n",
       "      <td>5</td>\n",
       "      <td>978300719</td>\n",
       "    </tr>\n",
       "    <tr>\n",
       "      <th>8</th>\n",
       "      <td>1</td>\n",
       "      <td>594</td>\n",
       "      <td>4</td>\n",
       "      <td>978302268</td>\n",
       "    </tr>\n",
       "    <tr>\n",
       "      <th>9</th>\n",
       "      <td>1</td>\n",
       "      <td>919</td>\n",
       "      <td>4</td>\n",
       "      <td>978301368</td>\n",
       "    </tr>\n",
       "  </tbody>\n",
       "</table>\n",
       "</div>"
      ],
      "text/plain": [
       "   user_id  movie_id  ratings  timestamp\n",
       "0        1      1193        5  978300760\n",
       "1        1       661        3  978302109\n",
       "2        1       914        3  978301968\n",
       "3        1      3408        4  978300275\n",
       "4        1      2355        5  978824291\n",
       "5        1      1197        3  978302268\n",
       "6        1      1287        5  978302039\n",
       "7        1      2804        5  978300719\n",
       "8        1       594        4  978302268\n",
       "9        1       919        4  978301368"
      ]
     },
     "execution_count": 2,
     "metadata": {},
     "output_type": "execute_result"
    }
   ],
   "source": [
    "import os\n",
    "\n",
    "# 평점 데이터\n",
    "rating_file_path = os.getenv('HOME')+'/aiffel/recommendata_iu/data/ml-1m/ratings.dat'\n",
    "ratings_cols = ['user_id', 'movie_id', 'ratings', 'timestamp']\n",
    "ratings = pd.read_csv(rating_file_path, sep='::', names=ratings_cols, engine='python', encoding = \"ISO-8859-1\")\n",
    "original_data_size = len(ratings)\n",
    "ratings.head(10)"
   ]
  },
  {
   "cell_type": "code",
   "execution_count": 3,
   "id": "02b7c18a",
   "metadata": {},
   "outputs": [
    {
     "name": "stdout",
     "output_type": "stream",
     "text": [
      "original_data_size: 1000209, filtered_data_size: 836478\n",
      "Ratio of Remaining Data is 83.63%\n"
     ]
    }
   ],
   "source": [
    "# 3점 이상만 남김\n",
    "ratings = ratings[ratings['ratings']>=3]\n",
    "filtered_data_size = len(ratings)\n",
    "\n",
    "print(f'original_data_size: {original_data_size}, filtered_data_size: {filtered_data_size}')\n",
    "print(f'Ratio of Remaining Data is {filtered_data_size / original_data_size:.2%}')"
   ]
  },
  {
   "cell_type": "code",
   "execution_count": 4,
   "id": "a670dbf4",
   "metadata": {},
   "outputs": [],
   "source": [
    "# ratings 컬럼 이름 counts로\n",
    "ratings.rename(columns={'ratings':'counts'}, inplace=True)"
   ]
  },
  {
   "cell_type": "code",
   "execution_count": 5,
   "id": "4f9000bc",
   "metadata": {},
   "outputs": [
    {
     "data": {
      "text/plain": [
       "0          5\n",
       "1          3\n",
       "2          3\n",
       "3          4\n",
       "4          5\n",
       "          ..\n",
       "1000203    3\n",
       "1000205    5\n",
       "1000206    5\n",
       "1000207    4\n",
       "1000208    4\n",
       "Name: counts, Length: 836478, dtype: int64"
      ]
     },
     "execution_count": 5,
     "metadata": {},
     "output_type": "execute_result"
    }
   ],
   "source": [
    "ratings['counts']"
   ]
  },
  {
   "cell_type": "code",
   "execution_count": 6,
   "id": "3ebfa49a",
   "metadata": {},
   "outputs": [
    {
     "data": {
      "text/html": [
       "<div>\n",
       "<style scoped>\n",
       "    .dataframe tbody tr th:only-of-type {\n",
       "        vertical-align: middle;\n",
       "    }\n",
       "\n",
       "    .dataframe tbody tr th {\n",
       "        vertical-align: top;\n",
       "    }\n",
       "\n",
       "    .dataframe thead th {\n",
       "        text-align: right;\n",
       "    }\n",
       "</style>\n",
       "<table border=\"1\" class=\"dataframe\">\n",
       "  <thead>\n",
       "    <tr style=\"text-align: right;\">\n",
       "      <th></th>\n",
       "      <th>movie_id</th>\n",
       "      <th>title</th>\n",
       "      <th>genre</th>\n",
       "    </tr>\n",
       "  </thead>\n",
       "  <tbody>\n",
       "    <tr>\n",
       "      <th>0</th>\n",
       "      <td>1</td>\n",
       "      <td>Toy Story (1995)</td>\n",
       "      <td>Animation|Children's|Comedy</td>\n",
       "    </tr>\n",
       "    <tr>\n",
       "      <th>1</th>\n",
       "      <td>2</td>\n",
       "      <td>Jumanji (1995)</td>\n",
       "      <td>Adventure|Children's|Fantasy</td>\n",
       "    </tr>\n",
       "    <tr>\n",
       "      <th>2</th>\n",
       "      <td>3</td>\n",
       "      <td>Grumpier Old Men (1995)</td>\n",
       "      <td>Comedy|Romance</td>\n",
       "    </tr>\n",
       "    <tr>\n",
       "      <th>3</th>\n",
       "      <td>4</td>\n",
       "      <td>Waiting to Exhale (1995)</td>\n",
       "      <td>Comedy|Drama</td>\n",
       "    </tr>\n",
       "    <tr>\n",
       "      <th>4</th>\n",
       "      <td>5</td>\n",
       "      <td>Father of the Bride Part II (1995)</td>\n",
       "      <td>Comedy</td>\n",
       "    </tr>\n",
       "  </tbody>\n",
       "</table>\n",
       "</div>"
      ],
      "text/plain": [
       "   movie_id                               title                         genre\n",
       "0         1                    Toy Story (1995)   Animation|Children's|Comedy\n",
       "1         2                      Jumanji (1995)  Adventure|Children's|Fantasy\n",
       "2         3             Grumpier Old Men (1995)                Comedy|Romance\n",
       "3         4            Waiting to Exhale (1995)                  Comedy|Drama\n",
       "4         5  Father of the Bride Part II (1995)                        Comedy"
      ]
     },
     "execution_count": 6,
     "metadata": {},
     "output_type": "execute_result"
    }
   ],
   "source": [
    "# 영화제목\n",
    "movie_file_path=os.getenv('HOME') + '/aiffel/recommendata_iu/data/ml-1m/movies.dat'\n",
    "cols = ['movie_id', 'title', 'genre'] \n",
    "movies = pd.read_csv(movie_file_path, sep='::', names=cols, engine='python', encoding='ISO-8859-1')\n",
    "movies.head()"
   ]
  },
  {
   "cell_type": "code",
   "execution_count": 7,
   "id": "1a72869e",
   "metadata": {},
   "outputs": [
    {
     "name": "stdout",
     "output_type": "stream",
     "text": [
      "<class 'pandas.core.frame.DataFrame'>\n",
      "Int64Index: 836478 entries, 0 to 1000208\n",
      "Data columns (total 4 columns):\n",
      " #   Column     Non-Null Count   Dtype\n",
      "---  ------     --------------   -----\n",
      " 0   user_id    836478 non-null  int64\n",
      " 1   movie_id   836478 non-null  int64\n",
      " 2   counts     836478 non-null  int64\n",
      " 3   timestamp  836478 non-null  int64\n",
      "dtypes: int64(4)\n",
      "memory usage: 31.9 MB\n"
     ]
    }
   ],
   "source": [
    "ratings.info()"
   ]
  },
  {
   "cell_type": "markdown",
   "id": "cf0a8c81",
   "metadata": {},
   "source": [
    "# 02. EDA"
   ]
  },
  {
   "cell_type": "markdown",
   "id": "e77a77e2",
   "metadata": {},
   "source": [
    "- ratings에 있는 유니크한 영화 개수"
   ]
  },
  {
   "cell_type": "code",
   "execution_count": 8,
   "id": "062c40a3",
   "metadata": {},
   "outputs": [
    {
     "data": {
      "text/plain": [
       "3628"
      ]
     },
     "execution_count": 8,
     "metadata": {},
     "output_type": "execute_result"
    }
   ],
   "source": [
    "ratings['movie_id'].nunique()"
   ]
  },
  {
   "cell_type": "markdown",
   "id": "83caed59",
   "metadata": {},
   "source": [
    "- ratings에 있는 유니크한 사용자 수"
   ]
  },
  {
   "cell_type": "code",
   "execution_count": 9,
   "id": "d91c8dc2",
   "metadata": {},
   "outputs": [
    {
     "data": {
      "text/plain": [
       "6039"
      ]
     },
     "execution_count": 9,
     "metadata": {},
     "output_type": "execute_result"
    }
   ],
   "source": [
    "ratings['user_id'].nunique()"
   ]
  },
  {
   "cell_type": "markdown",
   "id": "bd984785",
   "metadata": {},
   "source": [
    "- 가장 인기 있는 영화 30개(제일 시청 횟수가 많은)"
   ]
  },
  {
   "cell_type": "code",
   "execution_count": 10,
   "id": "3d07ea42",
   "metadata": {},
   "outputs": [
    {
     "data": {
      "text/html": [
       "<div>\n",
       "<style scoped>\n",
       "    .dataframe tbody tr th:only-of-type {\n",
       "        vertical-align: middle;\n",
       "    }\n",
       "\n",
       "    .dataframe tbody tr th {\n",
       "        vertical-align: top;\n",
       "    }\n",
       "\n",
       "    .dataframe thead th {\n",
       "        text-align: right;\n",
       "    }\n",
       "</style>\n",
       "<table border=\"1\" class=\"dataframe\">\n",
       "  <thead>\n",
       "    <tr style=\"text-align: right;\">\n",
       "      <th></th>\n",
       "      <th>title</th>\n",
       "      <th>genre</th>\n",
       "    </tr>\n",
       "    <tr>\n",
       "      <th>movie_id</th>\n",
       "      <th></th>\n",
       "      <th></th>\n",
       "    </tr>\n",
       "  </thead>\n",
       "  <tbody>\n",
       "    <tr>\n",
       "      <th>233</th>\n",
       "      <td>Exotica (1994)</td>\n",
       "      <td>Drama</td>\n",
       "    </tr>\n",
       "    <tr>\n",
       "      <th>2402</th>\n",
       "      <td>Rambo: First Blood Part II (1985)</td>\n",
       "      <td>Action|War</td>\n",
       "    </tr>\n",
       "    <tr>\n",
       "      <th>1878</th>\n",
       "      <td>Woo (1998)</td>\n",
       "      <td>Comedy|Romance</td>\n",
       "    </tr>\n",
       "    <tr>\n",
       "      <th>2532</th>\n",
       "      <td>Conquest of the Planet of the Apes (1972)</td>\n",
       "      <td>Action|Sci-Fi</td>\n",
       "    </tr>\n",
       "    <tr>\n",
       "      <th>1296</th>\n",
       "      <td>Room with a View, A (1986)</td>\n",
       "      <td>Drama|Romance</td>\n",
       "    </tr>\n",
       "    <tr>\n",
       "      <th>847</th>\n",
       "      <td>Big Squeeze, The (1996)</td>\n",
       "      <td>Comedy|Drama</td>\n",
       "    </tr>\n",
       "    <tr>\n",
       "      <th>2232</th>\n",
       "      <td>Cube (1997)</td>\n",
       "      <td>Sci-Fi|Thriller</td>\n",
       "    </tr>\n",
       "    <tr>\n",
       "      <th>2443</th>\n",
       "      <td>Playing by Heart (1998)</td>\n",
       "      <td>Drama|Romance</td>\n",
       "    </tr>\n",
       "    <tr>\n",
       "      <th>3616</th>\n",
       "      <td>Loser (2000)</td>\n",
       "      <td>Comedy|Romance</td>\n",
       "    </tr>\n",
       "    <tr>\n",
       "      <th>1272</th>\n",
       "      <td>Patton (1970)</td>\n",
       "      <td>Drama|War</td>\n",
       "    </tr>\n",
       "    <tr>\n",
       "      <th>2875</th>\n",
       "      <td>Sommersby (1993)</td>\n",
       "      <td>Drama|Mystery|Romance</td>\n",
       "    </tr>\n",
       "    <tr>\n",
       "      <th>3448</th>\n",
       "      <td>Good Morning, Vietnam (1987)</td>\n",
       "      <td>Comedy|Drama|War</td>\n",
       "    </tr>\n",
       "    <tr>\n",
       "      <th>147</th>\n",
       "      <td>Basketball Diaries, The (1995)</td>\n",
       "      <td>Drama</td>\n",
       "    </tr>\n",
       "    <tr>\n",
       "      <th>673</th>\n",
       "      <td>Space Jam (1996)</td>\n",
       "      <td>Adventure|Animation|Children's|Comedy|Fantasy</td>\n",
       "    </tr>\n",
       "    <tr>\n",
       "      <th>1131</th>\n",
       "      <td>Jean de Florette (1986)</td>\n",
       "      <td>Drama</td>\n",
       "    </tr>\n",
       "    <tr>\n",
       "      <th>1096</th>\n",
       "      <td>Sophie's Choice (1982)</td>\n",
       "      <td>Drama</td>\n",
       "    </tr>\n",
       "    <tr>\n",
       "      <th>2513</th>\n",
       "      <td>Pet Sematary (1989)</td>\n",
       "      <td>Horror</td>\n",
       "    </tr>\n",
       "    <tr>\n",
       "      <th>3689</th>\n",
       "      <td>Porky's II: The Next Day (1983)</td>\n",
       "      <td>Comedy</td>\n",
       "    </tr>\n",
       "    <tr>\n",
       "      <th>3926</th>\n",
       "      <td>Voyage to the Bottom of the Sea (1961)</td>\n",
       "      <td>Adventure|Sci-Fi</td>\n",
       "    </tr>\n",
       "    <tr>\n",
       "      <th>2144</th>\n",
       "      <td>Sixteen Candles (1984)</td>\n",
       "      <td>Comedy</td>\n",
       "    </tr>\n",
       "    <tr>\n",
       "      <th>802</th>\n",
       "      <td>Phenomenon (1996)</td>\n",
       "      <td>Drama|Romance</td>\n",
       "    </tr>\n",
       "    <tr>\n",
       "      <th>2826</th>\n",
       "      <td>13th Warrior, The (1999)</td>\n",
       "      <td>Action|Horror|Thriller</td>\n",
       "    </tr>\n",
       "    <tr>\n",
       "      <th>2126</th>\n",
       "      <td>Snake Eyes (1998)</td>\n",
       "      <td>Action|Crime|Mystery|Thriller</td>\n",
       "    </tr>\n",
       "    <tr>\n",
       "      <th>798</th>\n",
       "      <td>Daylight (1996)</td>\n",
       "      <td>Action|Adventure|Thriller</td>\n",
       "    </tr>\n",
       "    <tr>\n",
       "      <th>1562</th>\n",
       "      <td>Batman &amp; Robin (1997)</td>\n",
       "      <td>Action|Adventure|Crime</td>\n",
       "    </tr>\n",
       "    <tr>\n",
       "      <th>1002</th>\n",
       "      <td>Ed's Next Move (1996)</td>\n",
       "      <td>Comedy</td>\n",
       "    </tr>\n",
       "    <tr>\n",
       "      <th>2438</th>\n",
       "      <td>Outside Ozona (1998)</td>\n",
       "      <td>Drama|Thriller</td>\n",
       "    </tr>\n",
       "    <tr>\n",
       "      <th>2393</th>\n",
       "      <td>Star Trek: Insurrection (1998)</td>\n",
       "      <td>Action|Sci-Fi</td>\n",
       "    </tr>\n",
       "    <tr>\n",
       "      <th>3898</th>\n",
       "      <td>Bait (2000)</td>\n",
       "      <td>Action|Comedy</td>\n",
       "    </tr>\n",
       "    <tr>\n",
       "      <th>3836</th>\n",
       "      <td>Kelly's Heroes (1970)</td>\n",
       "      <td>Action|Comedy|War</td>\n",
       "    </tr>\n",
       "  </tbody>\n",
       "</table>\n",
       "</div>"
      ],
      "text/plain": [
       "                                              title  \\\n",
       "movie_id                                              \n",
       "233                                  Exotica (1994)   \n",
       "2402              Rambo: First Blood Part II (1985)   \n",
       "1878                                     Woo (1998)   \n",
       "2532      Conquest of the Planet of the Apes (1972)   \n",
       "1296                     Room with a View, A (1986)   \n",
       "847                         Big Squeeze, The (1996)   \n",
       "2232                                    Cube (1997)   \n",
       "2443                        Playing by Heart (1998)   \n",
       "3616                                   Loser (2000)   \n",
       "1272                                  Patton (1970)   \n",
       "2875                               Sommersby (1993)   \n",
       "3448                   Good Morning, Vietnam (1987)   \n",
       "147                  Basketball Diaries, The (1995)   \n",
       "673                                Space Jam (1996)   \n",
       "1131                        Jean de Florette (1986)   \n",
       "1096                         Sophie's Choice (1982)   \n",
       "2513                            Pet Sematary (1989)   \n",
       "3689                Porky's II: The Next Day (1983)   \n",
       "3926         Voyage to the Bottom of the Sea (1961)   \n",
       "2144                         Sixteen Candles (1984)   \n",
       "802                               Phenomenon (1996)   \n",
       "2826                       13th Warrior, The (1999)   \n",
       "2126                              Snake Eyes (1998)   \n",
       "798                                 Daylight (1996)   \n",
       "1562                          Batman & Robin (1997)   \n",
       "1002                          Ed's Next Move (1996)   \n",
       "2438                           Outside Ozona (1998)   \n",
       "2393                 Star Trek: Insurrection (1998)   \n",
       "3898                                    Bait (2000)   \n",
       "3836                          Kelly's Heroes (1970)   \n",
       "\n",
       "                                                  genre  \n",
       "movie_id                                                 \n",
       "233                                               Drama  \n",
       "2402                                         Action|War  \n",
       "1878                                     Comedy|Romance  \n",
       "2532                                      Action|Sci-Fi  \n",
       "1296                                      Drama|Romance  \n",
       "847                                        Comedy|Drama  \n",
       "2232                                    Sci-Fi|Thriller  \n",
       "2443                                      Drama|Romance  \n",
       "3616                                     Comedy|Romance  \n",
       "1272                                          Drama|War  \n",
       "2875                              Drama|Mystery|Romance  \n",
       "3448                                   Comedy|Drama|War  \n",
       "147                                               Drama  \n",
       "673       Adventure|Animation|Children's|Comedy|Fantasy  \n",
       "1131                                              Drama  \n",
       "1096                                              Drama  \n",
       "2513                                             Horror  \n",
       "3689                                             Comedy  \n",
       "3926                                   Adventure|Sci-Fi  \n",
       "2144                                             Comedy  \n",
       "802                                       Drama|Romance  \n",
       "2826                             Action|Horror|Thriller  \n",
       "2126                      Action|Crime|Mystery|Thriller  \n",
       "798                           Action|Adventure|Thriller  \n",
       "1562                             Action|Adventure|Crime  \n",
       "1002                                             Comedy  \n",
       "2438                                     Drama|Thriller  \n",
       "2393                                      Action|Sci-Fi  \n",
       "3898                                      Action|Comedy  \n",
       "3836                                  Action|Comedy|War  "
      ]
     },
     "execution_count": 10,
     "metadata": {},
     "output_type": "execute_result"
    }
   ],
   "source": [
    "temp=movies.set_index('movie_id')\n",
    "top_pop30=ratings.groupby(['movie_id']).sum().sort_values(by='counts',ascending=False).sample(30).index.to_list()\n",
    "temp.loc[top_pop30,:]"
   ]
  },
  {
   "cell_type": "code",
   "execution_count": 11,
   "id": "d6bbfd94",
   "metadata": {},
   "outputs": [
    {
     "data": {
      "text/plain": [
       "1046454590"
      ]
     },
     "execution_count": 11,
     "metadata": {},
     "output_type": "execute_result"
    }
   ],
   "source": [
    "ratings['timestamp'].max()"
   ]
  },
  {
   "cell_type": "markdown",
   "id": "60389403",
   "metadata": {},
   "source": [
    "# 03. 선호하는 영화 추가"
   ]
  },
  {
   "cell_type": "code",
   "execution_count": 12,
   "id": "57b487b8",
   "metadata": {},
   "outputs": [
    {
     "data": {
      "text/html": [
       "<div>\n",
       "<style scoped>\n",
       "    .dataframe tbody tr th:only-of-type {\n",
       "        vertical-align: middle;\n",
       "    }\n",
       "\n",
       "    .dataframe tbody tr th {\n",
       "        vertical-align: top;\n",
       "    }\n",
       "\n",
       "    .dataframe thead th {\n",
       "        text-align: right;\n",
       "    }\n",
       "</style>\n",
       "<table border=\"1\" class=\"dataframe\">\n",
       "  <thead>\n",
       "    <tr style=\"text-align: right;\">\n",
       "      <th></th>\n",
       "      <th>user_id</th>\n",
       "      <th>movie_id</th>\n",
       "      <th>counts</th>\n",
       "      <th>timestamp</th>\n",
       "    </tr>\n",
       "  </thead>\n",
       "  <tbody>\n",
       "    <tr>\n",
       "      <th>1000203</th>\n",
       "      <td>6040</td>\n",
       "      <td>1090</td>\n",
       "      <td>3</td>\n",
       "      <td>956715518</td>\n",
       "    </tr>\n",
       "    <tr>\n",
       "      <th>1000205</th>\n",
       "      <td>6040</td>\n",
       "      <td>1094</td>\n",
       "      <td>5</td>\n",
       "      <td>956704887</td>\n",
       "    </tr>\n",
       "    <tr>\n",
       "      <th>1000206</th>\n",
       "      <td>6040</td>\n",
       "      <td>562</td>\n",
       "      <td>5</td>\n",
       "      <td>956704746</td>\n",
       "    </tr>\n",
       "    <tr>\n",
       "      <th>1000207</th>\n",
       "      <td>6040</td>\n",
       "      <td>1096</td>\n",
       "      <td>4</td>\n",
       "      <td>956715648</td>\n",
       "    </tr>\n",
       "    <tr>\n",
       "      <th>1000208</th>\n",
       "      <td>6040</td>\n",
       "      <td>1097</td>\n",
       "      <td>4</td>\n",
       "      <td>956715569</td>\n",
       "    </tr>\n",
       "    <tr>\n",
       "      <th>0</th>\n",
       "      <td>son</td>\n",
       "      <td>2</td>\n",
       "      <td>5</td>\n",
       "      <td>1046454590</td>\n",
       "    </tr>\n",
       "    <tr>\n",
       "      <th>1</th>\n",
       "      <td>son</td>\n",
       "      <td>1</td>\n",
       "      <td>5</td>\n",
       "      <td>1046454590</td>\n",
       "    </tr>\n",
       "    <tr>\n",
       "      <th>2</th>\n",
       "      <td>son</td>\n",
       "      <td>1063</td>\n",
       "      <td>5</td>\n",
       "      <td>1046454590</td>\n",
       "    </tr>\n",
       "    <tr>\n",
       "      <th>3</th>\n",
       "      <td>son</td>\n",
       "      <td>3948</td>\n",
       "      <td>5</td>\n",
       "      <td>1046454590</td>\n",
       "    </tr>\n",
       "    <tr>\n",
       "      <th>4</th>\n",
       "      <td>son</td>\n",
       "      <td>592</td>\n",
       "      <td>5</td>\n",
       "      <td>1046454590</td>\n",
       "    </tr>\n",
       "  </tbody>\n",
       "</table>\n",
       "</div>"
      ],
      "text/plain": [
       "        user_id  movie_id  counts   timestamp\n",
       "1000203    6040      1090       3   956715518\n",
       "1000205    6040      1094       5   956704887\n",
       "1000206    6040       562       5   956704746\n",
       "1000207    6040      1096       4   956715648\n",
       "1000208    6040      1097       4   956715569\n",
       "0           son         2       5  1046454590\n",
       "1           son         1       5  1046454590\n",
       "2           son      1063       5  1046454590\n",
       "3           son      3948       5  1046454590\n",
       "4           son       592       5  1046454590"
      ]
     },
     "execution_count": 12,
     "metadata": {},
     "output_type": "execute_result"
    }
   ],
   "source": [
    "favorite_mv=['Jumanji (1995)','Toy Story (1995)','Johns (1996)','Meet the Parents (2000)','Batman (1989)']\n",
    "movies_idx=movies.set_index('movie_id')\n",
    "\n",
    "my_idx=[]\n",
    "for i in range(5):\n",
    "    my_idx.append(movies_idx[movies_idx['title']==favorite_mv[i]].index.values[0])\n",
    "\n",
    "my_mv = pd.DataFrame({'user_id':['son']*5, 'movie_id':my_idx,'counts':[5]*5,'timestamp':[1046454590]*5})\n",
    "\n",
    "if not ratings.isin({'user_id':['son']})['user_id'].any():\n",
    "    ratings = ratings.append(my_mv)\n",
    "\n",
    "ratings.tail(10)"
   ]
  },
  {
   "cell_type": "code",
   "execution_count": 13,
   "id": "76360d6b",
   "metadata": {},
   "outputs": [],
   "source": [
    "user_unique = ratings['user_id'].unique()\n",
    "movie_unique = ratings['movie_id'].unique()\n",
    "\n",
    "user_to_idx = {v:k for k,v in enumerate(user_unique)}\n",
    "movie_to_idx = {v:k for k,v in enumerate(movie_unique)}"
   ]
  },
  {
   "cell_type": "code",
   "execution_count": 14,
   "id": "bba0e57d",
   "metadata": {},
   "outputs": [
    {
     "name": "stdout",
     "output_type": "stream",
     "text": [
      "6039\n"
     ]
    }
   ],
   "source": [
    "print(user_to_idx['son'])"
   ]
  },
  {
   "cell_type": "code",
   "execution_count": 15,
   "id": "ee89c18f",
   "metadata": {},
   "outputs": [],
   "source": [
    "temp_user_data = ratings['user_id'].map(user_to_idx.get).dropna()\n",
    "if len(temp_user_data) == len(ratings):\n",
    "    ratings['user_id'] = temp_user_data\n",
    "else:\n",
    "    print('user Nope')\n",
    "\n",
    "\n",
    "temp_movie_data = ratings['movie_id'].map(movie_to_idx).dropna()  \n",
    "if len(temp_movie_data) == len(ratings):\n",
    "    ratings['movie_id'] = temp_movie_data\n",
    "else:\n",
    "    print('movie Nope')"
   ]
  },
  {
   "cell_type": "code",
   "execution_count": 16,
   "id": "374e26d0",
   "metadata": {
    "scrolled": true
   },
   "outputs": [
    {
     "data": {
      "text/html": [
       "<div>\n",
       "<style scoped>\n",
       "    .dataframe tbody tr th:only-of-type {\n",
       "        vertical-align: middle;\n",
       "    }\n",
       "\n",
       "    .dataframe tbody tr th {\n",
       "        vertical-align: top;\n",
       "    }\n",
       "\n",
       "    .dataframe thead th {\n",
       "        text-align: right;\n",
       "    }\n",
       "</style>\n",
       "<table border=\"1\" class=\"dataframe\">\n",
       "  <thead>\n",
       "    <tr style=\"text-align: right;\">\n",
       "      <th></th>\n",
       "      <th>user_id</th>\n",
       "      <th>movie_id</th>\n",
       "      <th>counts</th>\n",
       "      <th>timestamp</th>\n",
       "    </tr>\n",
       "  </thead>\n",
       "  <tbody>\n",
       "    <tr>\n",
       "      <th>836473</th>\n",
       "      <td>6038</td>\n",
       "      <td>1030</td>\n",
       "      <td>3</td>\n",
       "      <td>956715518</td>\n",
       "    </tr>\n",
       "    <tr>\n",
       "      <th>836474</th>\n",
       "      <td>6038</td>\n",
       "      <td>986</td>\n",
       "      <td>5</td>\n",
       "      <td>956704887</td>\n",
       "    </tr>\n",
       "    <tr>\n",
       "      <th>836475</th>\n",
       "      <td>6038</td>\n",
       "      <td>311</td>\n",
       "      <td>5</td>\n",
       "      <td>956704746</td>\n",
       "    </tr>\n",
       "    <tr>\n",
       "      <th>836476</th>\n",
       "      <td>6038</td>\n",
       "      <td>142</td>\n",
       "      <td>4</td>\n",
       "      <td>956715648</td>\n",
       "    </tr>\n",
       "    <tr>\n",
       "      <th>836477</th>\n",
       "      <td>6038</td>\n",
       "      <td>26</td>\n",
       "      <td>4</td>\n",
       "      <td>956715569</td>\n",
       "    </tr>\n",
       "    <tr>\n",
       "      <th>836478</th>\n",
       "      <td>6039</td>\n",
       "      <td>513</td>\n",
       "      <td>5</td>\n",
       "      <td>1046454590</td>\n",
       "    </tr>\n",
       "    <tr>\n",
       "      <th>836479</th>\n",
       "      <td>6039</td>\n",
       "      <td>40</td>\n",
       "      <td>5</td>\n",
       "      <td>1046454590</td>\n",
       "    </tr>\n",
       "    <tr>\n",
       "      <th>836480</th>\n",
       "      <td>6039</td>\n",
       "      <td>2232</td>\n",
       "      <td>5</td>\n",
       "      <td>1046454590</td>\n",
       "    </tr>\n",
       "    <tr>\n",
       "      <th>836481</th>\n",
       "      <td>6039</td>\n",
       "      <td>461</td>\n",
       "      <td>5</td>\n",
       "      <td>1046454590</td>\n",
       "    </tr>\n",
       "    <tr>\n",
       "      <th>836482</th>\n",
       "      <td>6039</td>\n",
       "      <td>527</td>\n",
       "      <td>5</td>\n",
       "      <td>1046454590</td>\n",
       "    </tr>\n",
       "  </tbody>\n",
       "</table>\n",
       "</div>"
      ],
      "text/plain": [
       "        user_id  movie_id  counts   timestamp\n",
       "836473     6038      1030       3   956715518\n",
       "836474     6038       986       5   956704887\n",
       "836475     6038       311       5   956704746\n",
       "836476     6038       142       4   956715648\n",
       "836477     6038        26       4   956715569\n",
       "836478     6039       513       5  1046454590\n",
       "836479     6039        40       5  1046454590\n",
       "836480     6039      2232       5  1046454590\n",
       "836481     6039       461       5  1046454590\n",
       "836482     6039       527       5  1046454590"
      ]
     },
     "execution_count": 16,
     "metadata": {},
     "output_type": "execute_result"
    }
   ],
   "source": [
    "ratings.reset_index(drop=True,inplace=True)\n",
    "ratings.tail(10)"
   ]
  },
  {
   "cell_type": "markdown",
   "id": "5ec65e76",
   "metadata": {},
   "source": [
    "# 04. CSR matrix"
   ]
  },
  {
   "cell_type": "code",
   "execution_count": 17,
   "id": "b226dd35",
   "metadata": {},
   "outputs": [
    {
     "data": {
      "text/plain": [
       "<6040x3628 sparse matrix of type '<class 'numpy.int64'>'\n",
       "\twith 836483 stored elements in Compressed Sparse Row format>"
      ]
     },
     "execution_count": 17,
     "metadata": {},
     "output_type": "execute_result"
    }
   ],
   "source": [
    "from scipy.sparse import csr_matrix\n",
    "\n",
    "num_user = ratings['user_id'].nunique()\n",
    "num_movie = ratings['movie_id'].nunique()\n",
    "\n",
    "csr_data = csr_matrix((ratings.counts, (ratings.user_id, ratings.movie_id)), shape= (num_user, num_movie))\n",
    "csr_data"
   ]
  },
  {
   "cell_type": "markdown",
   "id": "34d9cbb7",
   "metadata": {},
   "source": [
    "# 05. 모델 훈련"
   ]
  },
  {
   "cell_type": "code",
   "execution_count": 18,
   "id": "4575e8f1",
   "metadata": {},
   "outputs": [],
   "source": [
    "from implicit.als import AlternatingLeastSquares\n",
    "import os\n",
    "\n",
    "os.environ['OPENBLAS_NUM_THREADS']='1'\n",
    "os.environ['KMP_DUPLICATE_LIB_OK']='True'\n",
    "os.environ['MKL_NUM_THREADS']='1'"
   ]
  },
  {
   "cell_type": "code",
   "execution_count": 19,
   "id": "011f48c9",
   "metadata": {},
   "outputs": [],
   "source": [
    "# Implicit AlternatingLeastSquares 모델의 선언\n",
    "als_model = AlternatingLeastSquares(factors=100, regularization=0.01,\n",
    "                                    use_gpu=False, iterations=15, \n",
    "                                    dtype=np.float32)"
   ]
  },
  {
   "cell_type": "code",
   "execution_count": 20,
   "id": "9f36e945",
   "metadata": {},
   "outputs": [
    {
     "data": {
      "text/plain": [
       "<3628x6040 sparse matrix of type '<class 'numpy.int64'>'\n",
       "\twith 836483 stored elements in Compressed Sparse Column format>"
      ]
     },
     "execution_count": 20,
     "metadata": {},
     "output_type": "execute_result"
    }
   ],
   "source": [
    "# als 모델은 input으로 (item X user 꼴의 matrix를 받기 때문에 Transpose해줍니다.)\n",
    "csr_data_transpose = csr_data.T\n",
    "csr_data_transpose"
   ]
  },
  {
   "cell_type": "code",
   "execution_count": 21,
   "id": "c0a89ea6",
   "metadata": {},
   "outputs": [
    {
     "data": {
      "application/vnd.jupyter.widget-view+json": {
       "model_id": "3b1214a713924d92a1d64a171f3bfb00",
       "version_major": 2,
       "version_minor": 0
      },
      "text/plain": [
       "  0%|          | 0/15 [00:00<?, ?it/s]"
      ]
     },
     "metadata": {},
     "output_type": "display_data"
    }
   ],
   "source": [
    "als_model.fit(csr_data_transpose)"
   ]
  },
  {
   "cell_type": "code",
   "execution_count": 22,
   "id": "2cf6214a",
   "metadata": {},
   "outputs": [],
   "source": [
    "son, jumanzi = user_to_idx['son'], movie_to_idx[1]\n",
    "son_vector, jumanzi_vector = als_model.user_factors[son], als_model.item_factors[jumanzi]"
   ]
  },
  {
   "cell_type": "code",
   "execution_count": 23,
   "id": "74108349",
   "metadata": {},
   "outputs": [
    {
     "data": {
      "text/plain": [
       "array([-0.07165094, -0.03296149,  0.60203046, -0.5663036 , -0.02866571,\n",
       "       -0.83111805,  0.4297778 ,  0.2545107 , -0.4335289 ,  0.23983052,\n",
       "       -0.49603674,  0.30919674,  0.59416604,  0.09444896, -0.64263964,\n",
       "        0.5567203 ,  0.3380822 , -0.49345428, -0.70030636, -0.34830853,\n",
       "       -0.47008196, -0.57751036, -0.75894666, -0.12553076,  0.68662083,\n",
       "       -0.54275507,  0.06577144,  0.3966685 ,  0.11561286,  0.22672306,\n",
       "        0.38508627,  0.501404  ,  0.75598776, -0.7376049 , -0.45625824,\n",
       "        0.5872793 ,  0.05356599, -0.3378719 , -0.1293606 , -0.25590315,\n",
       "       -0.03190133, -0.61608917, -0.20958298,  0.16666692,  0.0901476 ,\n",
       "        0.4569527 ,  0.25170004,  0.3640158 , -0.12477922,  0.41397265,\n",
       "       -0.12757225, -0.67097074, -0.38476878,  0.05535836,  0.37191036,\n",
       "        0.49185413, -0.12563118,  0.82903033,  0.2769626 , -0.38354823,\n",
       "        0.5355651 ,  0.15015471, -0.47437444, -0.47210297,  0.16667897,\n",
       "        0.10373396, -0.20625931, -0.00175547,  0.239686  , -0.07456172,\n",
       "       -0.5510974 , -0.87942857,  0.3706405 ,  0.04511399, -0.25556362,\n",
       "       -0.2152797 ,  0.13782904,  0.1649419 , -0.40489593,  0.27023232,\n",
       "       -0.81373626,  0.3767471 , -0.19288388,  0.7924937 , -0.31035048,\n",
       "        0.78635085,  0.38242602, -0.04627092, -0.4071865 , -0.01383131,\n",
       "        1.1414019 , -0.3674215 , -0.3593547 ,  0.3562811 ,  0.7721667 ,\n",
       "       -0.15692936,  0.37742403,  0.56197417, -0.03002397,  0.97517014],\n",
       "      dtype=float32)"
      ]
     },
     "execution_count": 23,
     "metadata": {},
     "output_type": "execute_result"
    }
   ],
   "source": [
    "son_vector"
   ]
  },
  {
   "cell_type": "code",
   "execution_count": 24,
   "id": "d1124834",
   "metadata": {},
   "outputs": [
    {
     "data": {
      "text/plain": [
       "array([ 0.00667473,  0.00780472,  0.00470632,  0.01349532, -0.02031371,\n",
       "       -0.02107431,  0.0249759 ,  0.01271361, -0.00974342,  0.00748174,\n",
       "       -0.00626786,  0.02899953,  0.00693814, -0.01142909, -0.01136255,\n",
       "        0.04723967, -0.00910166,  0.03192261, -0.00258996, -0.01262324,\n",
       "       -0.01339355, -0.00518042, -0.04728771,  0.01645847,  0.0120601 ,\n",
       "       -0.01723992,  0.03159207,  0.0240054 ,  0.00738945, -0.00809108,\n",
       "        0.00264922,  0.02090364,  0.02335256, -0.01392293,  0.00918804,\n",
       "       -0.03042461, -0.01232472,  0.01607889,  0.01424689, -0.02163776,\n",
       "        0.01256819, -0.02411241,  0.00808249, -0.00091583,  0.00255568,\n",
       "        0.05115049,  0.02858164,  0.01875778, -0.00364864, -0.01081224,\n",
       "        0.01086081, -0.01272353, -0.01189496,  0.00188437,  0.01639898,\n",
       "        0.01339746, -0.01339734,  0.021716  , -0.00492687, -0.01814526,\n",
       "        0.0048024 , -0.02471838,  0.01585431, -0.01623305,  0.00874303,\n",
       "       -0.00481173, -0.00615449, -0.00663854, -0.01698514,  0.00601396,\n",
       "       -0.02013798,  0.00381359,  0.04599193,  0.02034556,  0.01297654,\n",
       "        0.00532323, -0.00274389,  0.01235249,  0.00809358,  0.0031119 ,\n",
       "       -0.01955722,  0.02169457, -0.02034063,  0.02492663, -0.0085371 ,\n",
       "        0.01429284,  0.03472459,  0.00879525, -0.00162318,  0.00956276,\n",
       "        0.0349494 , -0.02218206,  0.01372772,  0.00928858,  0.01929916,\n",
       "        0.02755068,  0.0157872 , -0.00943215,  0.04980042,  0.02638449],\n",
       "      dtype=float32)"
      ]
     },
     "execution_count": 24,
     "metadata": {},
     "output_type": "execute_result"
    }
   ],
   "source": [
    "jumanzi_vector"
   ]
  },
  {
   "cell_type": "markdown",
   "id": "e3298925",
   "metadata": {},
   "source": [
    "# 06. 내가 선호하는 5가지 영화 중 하나와 그 외의 영화 하나를 골라 훈련된 모델이 예측한 나의 선호도 확인"
   ]
  },
  {
   "cell_type": "code",
   "execution_count": 25,
   "id": "a310df42",
   "metadata": {},
   "outputs": [
    {
     "data": {
      "text/plain": [
       "0.42512885"
      ]
     },
     "execution_count": 25,
     "metadata": {},
     "output_type": "execute_result"
    }
   ],
   "source": [
    "np.dot(son_vector, jumanzi_vector)"
   ]
  },
  {
   "cell_type": "code",
   "execution_count": 26,
   "id": "e4878f0b",
   "metadata": {},
   "outputs": [
    {
     "data": {
      "text/plain": [
       "movie_id                   236\n",
       "title       French Kiss (1995)\n",
       "genre           Comedy|Romance\n",
       "Name: 233, dtype: object"
      ]
     },
     "execution_count": 26,
     "metadata": {},
     "output_type": "execute_result"
    }
   ],
   "source": [
    "idx = movie_to_idx[50]\n",
    "movies.iloc[idx,:]"
   ]
  },
  {
   "cell_type": "code",
   "execution_count": 27,
   "id": "fc847b73",
   "metadata": {},
   "outputs": [
    {
     "data": {
      "text/plain": [
       "0.0033341916"
      ]
     },
     "execution_count": 27,
     "metadata": {},
     "output_type": "execute_result"
    }
   ],
   "source": [
    "french_kiss = movie_to_idx[236]\n",
    "french_vector = als_model.item_factors[french_kiss]\n",
    "np.dot(son_vector, french_vector)"
   ]
  },
  {
   "cell_type": "markdown",
   "id": "b9f08ba8",
   "metadata": {},
   "source": [
    "# 07. 선호하는 영화와 비슷한 영화 추천"
   ]
  },
  {
   "cell_type": "code",
   "execution_count": 28,
   "id": "91e351fe",
   "metadata": {},
   "outputs": [
    {
     "data": {
      "text/plain": [
       "[(40, 1.0),\n",
       " (50, 0.7924648),\n",
       " (4, 0.5612359),\n",
       " (33, 0.55537516),\n",
       " (110, 0.5513543),\n",
       " (322, 0.5302504),\n",
       " (255, 0.4582389),\n",
       " (20, 0.45761758),\n",
       " (330, 0.45212117),\n",
       " (10, 0.4200844),\n",
       " (34, 0.3751218),\n",
       " (126, 0.3561919),\n",
       " (478, 0.3532287),\n",
       " (16, 0.35274252),\n",
       " (32, 0.34697092)]"
      ]
     },
     "execution_count": 28,
     "metadata": {},
     "output_type": "execute_result"
    }
   ],
   "source": [
    "similar_movie = als_model.similar_items(40,N=15) # jumanzi\n",
    "similar_movie"
   ]
  },
  {
   "cell_type": "code",
   "execution_count": 29,
   "id": "1080e3f2",
   "metadata": {},
   "outputs": [
    {
     "data": {
      "text/html": [
       "<div>\n",
       "<style scoped>\n",
       "    .dataframe tbody tr th:only-of-type {\n",
       "        vertical-align: middle;\n",
       "    }\n",
       "\n",
       "    .dataframe tbody tr th {\n",
       "        vertical-align: top;\n",
       "    }\n",
       "\n",
       "    .dataframe thead th {\n",
       "        text-align: right;\n",
       "    }\n",
       "</style>\n",
       "<table border=\"1\" class=\"dataframe\">\n",
       "  <thead>\n",
       "    <tr style=\"text-align: right;\">\n",
       "      <th></th>\n",
       "      <th>title</th>\n",
       "      <th>genre</th>\n",
       "    </tr>\n",
       "    <tr>\n",
       "      <th>movie_id</th>\n",
       "      <th></th>\n",
       "      <th></th>\n",
       "    </tr>\n",
       "  </thead>\n",
       "  <tbody>\n",
       "    <tr>\n",
       "      <th>2</th>\n",
       "      <td>Jumanji (1995)</td>\n",
       "      <td>Adventure|Children's|Fantasy</td>\n",
       "    </tr>\n",
       "    <tr>\n",
       "      <th>3183</th>\n",
       "      <td>Third Miracle, The (1999)</td>\n",
       "      <td>Drama</td>\n",
       "    </tr>\n",
       "    <tr>\n",
       "      <th>2424</th>\n",
       "      <td>You've Got Mail (1998)</td>\n",
       "      <td>Comedy|Romance</td>\n",
       "    </tr>\n",
       "    <tr>\n",
       "      <th>592</th>\n",
       "      <td>Batman (1989)</td>\n",
       "      <td>Action|Adventure|Crime|Drama</td>\n",
       "    </tr>\n",
       "    <tr>\n",
       "      <th>1285</th>\n",
       "      <td>Heathers (1989)</td>\n",
       "      <td>Comedy</td>\n",
       "    </tr>\n",
       "    <tr>\n",
       "      <th>35</th>\n",
       "      <td>Carrington (1995)</td>\n",
       "      <td>Drama|Romance</td>\n",
       "    </tr>\n",
       "    <tr>\n",
       "      <th>1992</th>\n",
       "      <td>Child's Play 2 (1990)</td>\n",
       "      <td>Horror</td>\n",
       "    </tr>\n",
       "    <tr>\n",
       "      <th>2390</th>\n",
       "      <td>Little Voice (1998)</td>\n",
       "      <td>Comedy</td>\n",
       "    </tr>\n",
       "    <tr>\n",
       "      <th>368</th>\n",
       "      <td>Maverick (1994)</td>\n",
       "      <td>Action|Comedy|Western</td>\n",
       "    </tr>\n",
       "    <tr>\n",
       "      <th>599</th>\n",
       "      <td>Wild Bunch, The (1969)</td>\n",
       "      <td>Western</td>\n",
       "    </tr>\n",
       "    <tr>\n",
       "      <th>1976</th>\n",
       "      <td>Friday the 13th Part 3: 3D (1982)</td>\n",
       "      <td>Horror</td>\n",
       "    </tr>\n",
       "    <tr>\n",
       "      <th>2465</th>\n",
       "      <td>Deadly Friend (1986)</td>\n",
       "      <td>Horror</td>\n",
       "    </tr>\n",
       "    <tr>\n",
       "      <th>3322</th>\n",
       "      <td>3 Strikes (2000)</td>\n",
       "      <td>Comedy</td>\n",
       "    </tr>\n",
       "    <tr>\n",
       "      <th>2756</th>\n",
       "      <td>Wanted: Dead or Alive (1987)</td>\n",
       "      <td>Action</td>\n",
       "    </tr>\n",
       "    <tr>\n",
       "      <th>1608</th>\n",
       "      <td>Air Force One (1997)</td>\n",
       "      <td>Action|Thriller</td>\n",
       "    </tr>\n",
       "  </tbody>\n",
       "</table>\n",
       "</div>"
      ],
      "text/plain": [
       "                                      title                         genre\n",
       "movie_id                                                                 \n",
       "2                            Jumanji (1995)  Adventure|Children's|Fantasy\n",
       "3183              Third Miracle, The (1999)                         Drama\n",
       "2424                 You've Got Mail (1998)                Comedy|Romance\n",
       "592                           Batman (1989)  Action|Adventure|Crime|Drama\n",
       "1285                        Heathers (1989)                        Comedy\n",
       "35                        Carrington (1995)                 Drama|Romance\n",
       "1992                  Child's Play 2 (1990)                        Horror\n",
       "2390                    Little Voice (1998)                        Comedy\n",
       "368                         Maverick (1994)         Action|Comedy|Western\n",
       "599                  Wild Bunch, The (1969)                       Western\n",
       "1976      Friday the 13th Part 3: 3D (1982)                        Horror\n",
       "2465                   Deadly Friend (1986)                        Horror\n",
       "3322                       3 Strikes (2000)                        Comedy\n",
       "2756           Wanted: Dead or Alive (1987)                        Action\n",
       "1608                   Air Force One (1997)               Action|Thriller"
      ]
     },
     "execution_count": 29,
     "metadata": {},
     "output_type": "execute_result"
    }
   ],
   "source": [
    "idx_to_movie = {v:k for k,v in movie_to_idx.items()}\n",
    "idx_mv = [idx_to_movie[i[0]] for i in similar_movie]\n",
    "\n",
    "movies_idx.iloc[idx_mv,:]"
   ]
  },
  {
   "cell_type": "code",
   "execution_count": 30,
   "id": "b11497bc",
   "metadata": {},
   "outputs": [],
   "source": [
    "# 함수화\n",
    "def get_similar_movie(movie_name: str):\n",
    "    movie_name = movies_idx[movies_idx['title']==movie_name].index[0]\n",
    "    movie_idx = movie_to_idx[movie_name]\n",
    "    similar_movie = als_model.similar_items(movie_idx)\n",
    "    similar_movie = [idx_to_movie[i[0]] for i in similar_movie]\n",
    "    similar_movie = movies_idx.loc[similar_movie,:]\n",
    "    return similar_movie"
   ]
  },
  {
   "cell_type": "code",
   "execution_count": 31,
   "id": "95c746a2",
   "metadata": {},
   "outputs": [
    {
     "data": {
      "text/html": [
       "<div>\n",
       "<style scoped>\n",
       "    .dataframe tbody tr th:only-of-type {\n",
       "        vertical-align: middle;\n",
       "    }\n",
       "\n",
       "    .dataframe tbody tr th {\n",
       "        vertical-align: top;\n",
       "    }\n",
       "\n",
       "    .dataframe thead th {\n",
       "        text-align: right;\n",
       "    }\n",
       "</style>\n",
       "<table border=\"1\" class=\"dataframe\">\n",
       "  <thead>\n",
       "    <tr style=\"text-align: right;\">\n",
       "      <th></th>\n",
       "      <th>title</th>\n",
       "      <th>genre</th>\n",
       "    </tr>\n",
       "    <tr>\n",
       "      <th>movie_id</th>\n",
       "      <th></th>\n",
       "      <th></th>\n",
       "    </tr>\n",
       "  </thead>\n",
       "  <tbody>\n",
       "    <tr>\n",
       "      <th>592</th>\n",
       "      <td>Batman (1989)</td>\n",
       "      <td>Action|Adventure|Crime|Drama</td>\n",
       "    </tr>\n",
       "    <tr>\n",
       "      <th>2115</th>\n",
       "      <td>Indiana Jones and the Temple of Doom (1984)</td>\n",
       "      <td>Action|Adventure</td>\n",
       "    </tr>\n",
       "    <tr>\n",
       "      <th>1291</th>\n",
       "      <td>Indiana Jones and the Last Crusade (1989)</td>\n",
       "      <td>Action|Adventure</td>\n",
       "    </tr>\n",
       "    <tr>\n",
       "      <th>2194</th>\n",
       "      <td>Untouchables, The (1987)</td>\n",
       "      <td>Action|Crime|Drama</td>\n",
       "    </tr>\n",
       "    <tr>\n",
       "      <th>1377</th>\n",
       "      <td>Batman Returns (1992)</td>\n",
       "      <td>Action|Adventure|Comedy|Crime</td>\n",
       "    </tr>\n",
       "    <tr>\n",
       "      <th>2640</th>\n",
       "      <td>Superman (1978)</td>\n",
       "      <td>Action|Adventure|Sci-Fi</td>\n",
       "    </tr>\n",
       "    <tr>\n",
       "      <th>1275</th>\n",
       "      <td>Highlander (1986)</td>\n",
       "      <td>Action|Adventure</td>\n",
       "    </tr>\n",
       "    <tr>\n",
       "      <th>153</th>\n",
       "      <td>Batman Forever (1995)</td>\n",
       "      <td>Action|Adventure|Comedy|Crime</td>\n",
       "    </tr>\n",
       "    <tr>\n",
       "      <th>2470</th>\n",
       "      <td>Crocodile Dundee (1986)</td>\n",
       "      <td>Adventure|Comedy</td>\n",
       "    </tr>\n",
       "    <tr>\n",
       "      <th>2406</th>\n",
       "      <td>Romancing the Stone (1984)</td>\n",
       "      <td>Action|Adventure|Comedy|Romance</td>\n",
       "    </tr>\n",
       "  </tbody>\n",
       "</table>\n",
       "</div>"
      ],
      "text/plain": [
       "                                                title  \\\n",
       "movie_id                                                \n",
       "592                                     Batman (1989)   \n",
       "2115      Indiana Jones and the Temple of Doom (1984)   \n",
       "1291        Indiana Jones and the Last Crusade (1989)   \n",
       "2194                         Untouchables, The (1987)   \n",
       "1377                            Batman Returns (1992)   \n",
       "2640                                  Superman (1978)   \n",
       "1275                                Highlander (1986)   \n",
       "153                             Batman Forever (1995)   \n",
       "2470                          Crocodile Dundee (1986)   \n",
       "2406                       Romancing the Stone (1984)   \n",
       "\n",
       "                                    genre  \n",
       "movie_id                                   \n",
       "592          Action|Adventure|Crime|Drama  \n",
       "2115                     Action|Adventure  \n",
       "1291                     Action|Adventure  \n",
       "2194                   Action|Crime|Drama  \n",
       "1377        Action|Adventure|Comedy|Crime  \n",
       "2640              Action|Adventure|Sci-Fi  \n",
       "1275                     Action|Adventure  \n",
       "153         Action|Adventure|Comedy|Crime  \n",
       "2470                     Adventure|Comedy  \n",
       "2406      Action|Adventure|Comedy|Romance  "
      ]
     },
     "execution_count": 31,
     "metadata": {},
     "output_type": "execute_result"
    }
   ],
   "source": [
    "get_similar_movie('Batman (1989)')"
   ]
  },
  {
   "cell_type": "markdown",
   "id": "5afddaca",
   "metadata": {},
   "source": [
    "# 08. 가장 선호하는 영화 추천"
   ]
  },
  {
   "cell_type": "code",
   "execution_count": 32,
   "id": "7094232a",
   "metadata": {},
   "outputs": [
    {
     "data": {
      "text/plain": [
       "[(50, 0.5020976),\n",
       " (755, 0.34014055),\n",
       " (458, 0.25791588),\n",
       " (1853, 0.25107628),\n",
       " (188, 0.2461956),\n",
       " (678, 0.242724),\n",
       " (172, 0.23739767),\n",
       " (1814, 0.22783764),\n",
       " (4, 0.22277398),\n",
       " (322, 0.21047603),\n",
       " (545, 0.20628229),\n",
       " (33, 0.19854523),\n",
       " (39, 0.19281268),\n",
       " (945, 0.1882557),\n",
       " (587, 0.17807665),\n",
       " (596, 0.17715313),\n",
       " (486, 0.17436615),\n",
       " (515, 0.17257723),\n",
       " (616, 0.17185815),\n",
       " (851, 0.16632095)]"
      ]
     },
     "execution_count": 32,
     "metadata": {},
     "output_type": "execute_result"
    }
   ],
   "source": [
    "user = user_to_idx['son']\n",
    "# user가 이미 평가한 아이템은 제외\n",
    "movie_recommanded = als_model.recommend(user, csr_data, N=20,filter_already_liked_items=True)\n",
    "movie_recommanded"
   ]
  },
  {
   "cell_type": "code",
   "execution_count": 33,
   "id": "9d22cfd7",
   "metadata": {},
   "outputs": [
    {
     "data": {
      "text/plain": [
       "[movie_id\n",
       " 3114                              Toy Story 2 (1999)\n",
       " 3897                            Almost Famous (2000)\n",
       " 367                                 Mask, The (1994)\n",
       " 3911                             Best in Show (2000)\n",
       " 2115     Indiana Jones and the Temple of Doom (1984)\n",
       " 1073    Willy Wonka and the Chocolate Factory (1971)\n",
       " 1291       Indiana Jones and the Last Crusade (1989)\n",
       " 3893                              Nurse Betty (2000)\n",
       " 2355                            Bug's Life, A (1998)\n",
       " 34                                       Babe (1995)\n",
       " 317                         Santa Clause, The (1994)\n",
       " 588                                   Aladdin (1992)\n",
       " 150                                 Apollo 13 (1995)\n",
       " 1275                               Highlander (1986)\n",
       " 1377                           Batman Returns (1992)\n",
       " 3489                                     Hook (1991)\n",
       " 3916                      Remember the Titans (2000)\n",
       " 153                            Batman Forever (1995)\n",
       " 2193                                   Willow (1988)\n",
       " 2761                          Iron Giant, The (1999)\n",
       " Name: title, dtype: object]"
      ]
     },
     "execution_count": 33,
     "metadata": {},
     "output_type": "execute_result"
    }
   ],
   "source": [
    "movie_id_son = [idx_to_movie[i[0]] for i in movie_recommanded]\n",
    "[movies_idx.loc[movie_id_son,'title']]"
   ]
  },
  {
   "cell_type": "code",
   "execution_count": 34,
   "id": "e16fc09e",
   "metadata": {},
   "outputs": [],
   "source": [
    "toy_2 = movies_idx[movies_idx['title']=='Toy Story 2 (1999)'].index[0]\n",
    "toy_2 = movie_to_idx[toy_2]\n",
    "explain = als_model.explain(user, csr_data, itemid=toy_2)"
   ]
  },
  {
   "cell_type": "code",
   "execution_count": 35,
   "id": "62f72367",
   "metadata": {},
   "outputs": [
    {
     "data": {
      "text/plain": [
       "[('Toy Story (1995)', 0.40169062955280466),\n",
       " ('Jumanji (1995)', 0.04236708307417451),\n",
       " ('Meet the Parents (2000)', 0.039782017981236546),\n",
       " ('Batman (1989)', 0.022174964798917025),\n",
       " ('Johns (1996)', -0.012769375991063859)]"
      ]
     },
     "execution_count": 35,
     "metadata": {},
     "output_type": "execute_result"
    }
   ],
   "source": [
    "[(movies_idx.loc[idx_to_movie[i[0]],'title'], i[1]) for i in explain[1]]"
   ]
  },
  {
   "cell_type": "markdown",
   "id": "c46eb71e",
   "metadata": {},
   "source": [
    "### 회고"
   ]
  },
  {
   "cell_type": "markdown",
   "id": "760b58b7",
   "metadata": {},
   "source": [
    " CSR matrix를 만들 때 user_id의 갯수와 movie_id의 갯수에 맞게 counts값을 할당해서 잘 만들 수 있었습니다. \n",
    " \n",
    "내가 선호하는 영화 중 jumanji를 선택했을 때 dot product 값은 0.42512885, 이 외의 관련없는 영화를 골랐을 때 0.0033341916로 낮은 수치를 얻었습니다.\n",
    "\n",
    "그 다음 recommanded로 추천 영화를 뽑았을 때 Toy Story 2가 가장 높은 값으로 선정되었는데, 내가 선호하는 영화 중 Toy Story 1이 있다는 것을 생각하면 직관적으로도 연관있는 영화를 뽑아준 것 같습니다.\n",
    "\n",
    "explain으로 확인 해봤을 때도 Toy Story 2에 영향을 많이 준 영화는 당연하게도 0.4016으로 Toy story였습니다."
   ]
  }
 ],
 "metadata": {
  "kernelspec": {
   "display_name": "Python 3 (ipykernel)",
   "language": "python",
   "name": "python3"
  },
  "language_info": {
   "codemirror_mode": {
    "name": "ipython",
    "version": 3
   },
   "file_extension": ".py",
   "mimetype": "text/x-python",
   "name": "python",
   "nbconvert_exporter": "python",
   "pygments_lexer": "ipython3",
   "version": "3.9.7"
  }
 },
 "nbformat": 4,
 "nbformat_minor": 5
}
