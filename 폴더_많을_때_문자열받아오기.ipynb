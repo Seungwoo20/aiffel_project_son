{
 "cells": [
  {
   "cell_type": "code",
   "execution_count": 1,
   "id": "8da8a1f2",
   "metadata": {},
   "outputs": [],
   "source": [
    "import glob\n",
    "import tensorflow\n",
    "\n",
    "import glob\n",
    "import os\n",
    "\n",
    "txt_file_path = os.getenv('HOME')+'/aiffel/lyricist/data/lyrics/*'\n",
    "txt_list = glob.glob(txt_file_path) \n",
    "raw_corpus = ''\n",
    "\n",
    "for txt_file in txt_list:\n",
    "    with open(txt_file, \"r\") as f:\n",
    "        raw = f.read() #read() : \n",
    "        raw_corpus += '@@@@@@\\n\\n\\n\\n\\n'+txt_file\n",
    "        raw_corpus += raw\n",
    "        "
   ]
  },
  {
   "cell_type": "code",
   "execution_count": 6,
   "id": "ed300419",
   "metadata": {},
   "outputs": [],
   "source": [
    "txt = os.getenv('HOME')+'/aiffel/lyrics_sum.txt'\n",
    "with open('lyrics_sum.txt','w') as f:\n",
    "    f.write(raw_corpus)ㅡ"
   ]
  }
 ],
 "metadata": {
  "kernelspec": {
   "display_name": "Python 3 (ipykernel)",
   "language": "python",
   "name": "python3"
  },
  "language_info": {
   "codemirror_mode": {
    "name": "ipython",
    "version": 3
   },
   "file_extension": ".py",
   "mimetype": "text/x-python",
   "name": "python",
   "nbconvert_exporter": "python",
   "pygments_lexer": "ipython3",
   "version": "3.9.7"
  }
 },
 "nbformat": 4,
 "nbformat_minor": 5
}
