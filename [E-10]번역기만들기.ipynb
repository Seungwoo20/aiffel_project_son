{
 "cells": [
  {
   "cell_type": "code",
   "execution_count": 1,
   "id": "ee6c9ee7",
   "metadata": {},
   "outputs": [],
   "source": [
    "from tensorflow.keras.preprocessing.text import Tokenizer\n",
    "from tensorflow.keras.preprocessing.sequence import pad_sequences\n",
    "from tensorflow.keras.utils import to_categorical\n",
    "\n",
    "import pandas as pd\n",
    "import numpy as np\n",
    "import unicodedata"
   ]
  },
  {
   "cell_type": "markdown",
   "id": "956d6ab2",
   "metadata": {},
   "source": [
    "# Step 1. 데이터 준비\n",
    "---"
   ]
  },
  {
   "cell_type": "code",
   "execution_count": 2,
   "id": "cfef8537",
   "metadata": {},
   "outputs": [
    {
     "name": "stdout",
     "output_type": "stream",
     "text": [
      "전체 샘플의 수 : 217975\n"
     ]
    },
    {
     "data": {
      "text/html": [
       "<div>\n",
       "<style scoped>\n",
       "    .dataframe tbody tr th:only-of-type {\n",
       "        vertical-align: middle;\n",
       "    }\n",
       "\n",
       "    .dataframe tbody tr th {\n",
       "        vertical-align: top;\n",
       "    }\n",
       "\n",
       "    .dataframe thead th {\n",
       "        text-align: right;\n",
       "    }\n",
       "</style>\n",
       "<table border=\"1\" class=\"dataframe\">\n",
       "  <thead>\n",
       "    <tr style=\"text-align: right;\">\n",
       "      <th></th>\n",
       "      <th>eng</th>\n",
       "      <th>fra</th>\n",
       "      <th>cc</th>\n",
       "    </tr>\n",
       "  </thead>\n",
       "  <tbody>\n",
       "    <tr>\n",
       "      <th>96488</th>\n",
       "      <td>I find you very attractive.</td>\n",
       "      <td>Je te trouve très attirante.</td>\n",
       "      <td>CC-BY 2.0 (France) Attribution: tatoeba.org #3...</td>\n",
       "    </tr>\n",
       "    <tr>\n",
       "      <th>46614</th>\n",
       "      <td>I flushed the toilet.</td>\n",
       "      <td>J'ai tiré la chasse.</td>\n",
       "      <td>CC-BY 2.0 (France) Attribution: tatoeba.org #5...</td>\n",
       "    </tr>\n",
       "    <tr>\n",
       "      <th>68833</th>\n",
       "      <td>Did you mean to do that?</td>\n",
       "      <td>Est-ce que tu as fait ça exprès ?</td>\n",
       "      <td>CC-BY 2.0 (France) Attribution: tatoeba.org #6...</td>\n",
       "    </tr>\n",
       "    <tr>\n",
       "      <th>78455</th>\n",
       "      <td>I can't find what I want.</td>\n",
       "      <td>Je ne trouve pas ce que je veux.</td>\n",
       "      <td>CC-BY 2.0 (France) Attribution: tatoeba.org #4...</td>\n",
       "    </tr>\n",
       "    <tr>\n",
       "      <th>32975</th>\n",
       "      <td>I want to be clear.</td>\n",
       "      <td>Je veux être clair.</td>\n",
       "      <td>CC-BY 2.0 (France) Attribution: tatoeba.org #5...</td>\n",
       "    </tr>\n",
       "  </tbody>\n",
       "</table>\n",
       "</div>"
      ],
      "text/plain": [
       "                               eng                                fra  \\\n",
       "96488  I find you very attractive.       Je te trouve très attirante.   \n",
       "46614        I flushed the toilet.               J'ai tiré la chasse.   \n",
       "68833     Did you mean to do that?  Est-ce que tu as fait ça exprès ?   \n",
       "78455    I can't find what I want.   Je ne trouve pas ce que je veux.   \n",
       "32975          I want to be clear.                Je veux être clair.   \n",
       "\n",
       "                                                      cc  \n",
       "96488  CC-BY 2.0 (France) Attribution: tatoeba.org #3...  \n",
       "46614  CC-BY 2.0 (France) Attribution: tatoeba.org #5...  \n",
       "68833  CC-BY 2.0 (France) Attribution: tatoeba.org #6...  \n",
       "78455  CC-BY 2.0 (France) Attribution: tatoeba.org #4...  \n",
       "32975  CC-BY 2.0 (France) Attribution: tatoeba.org #5...  "
      ]
     },
     "execution_count": 2,
     "metadata": {},
     "output_type": "execute_result"
    }
   ],
   "source": [
    "import os\n",
    "file_path = os.getenv('HOME') +'/aiffel/translator_seq2seq/data/fra.txt'\n",
    "lines = pd.read_csv(file_path, names=['eng','fra','cc'], sep='\\t')\n",
    "print('전체 샘플의 수 :',len(lines))\n",
    "lines.sample(5)"
   ]
  },
  {
   "cell_type": "code",
   "execution_count": 3,
   "id": "0a34c970",
   "metadata": {},
   "outputs": [
    {
     "data": {
      "text/html": [
       "<div>\n",
       "<style scoped>\n",
       "    .dataframe tbody tr th:only-of-type {\n",
       "        vertical-align: middle;\n",
       "    }\n",
       "\n",
       "    .dataframe tbody tr th {\n",
       "        vertical-align: top;\n",
       "    }\n",
       "\n",
       "    .dataframe thead th {\n",
       "        text-align: right;\n",
       "    }\n",
       "</style>\n",
       "<table border=\"1\" class=\"dataframe\">\n",
       "  <thead>\n",
       "    <tr style=\"text-align: right;\">\n",
       "      <th></th>\n",
       "      <th>eng</th>\n",
       "      <th>fra</th>\n",
       "    </tr>\n",
       "  </thead>\n",
       "  <tbody>\n",
       "    <tr>\n",
       "      <th>32486</th>\n",
       "      <td>I heard everything.</td>\n",
       "      <td>J'entendis tout.</td>\n",
       "    </tr>\n",
       "    <tr>\n",
       "      <th>32051</th>\n",
       "      <td>I answered for him.</td>\n",
       "      <td>J'ai répondu pour lui.</td>\n",
       "    </tr>\n",
       "    <tr>\n",
       "      <th>19745</th>\n",
       "      <td>I called him Tom.</td>\n",
       "      <td>Je l'ai appelé Tom.</td>\n",
       "    </tr>\n",
       "    <tr>\n",
       "      <th>1242</th>\n",
       "      <td>I'm tough.</td>\n",
       "      <td>Je suis dure à cuire.</td>\n",
       "    </tr>\n",
       "    <tr>\n",
       "      <th>22963</th>\n",
       "      <td>Tom was upstairs.</td>\n",
       "      <td>Tom était à l'étage.</td>\n",
       "    </tr>\n",
       "  </tbody>\n",
       "</table>\n",
       "</div>"
      ],
      "text/plain": [
       "                       eng                     fra\n",
       "32486  I heard everything.        J'entendis tout.\n",
       "32051  I answered for him.  J'ai répondu pour lui.\n",
       "19745    I called him Tom.     Je l'ai appelé Tom.\n",
       "1242            I'm tough.   Je suis dure à cuire.\n",
       "22963    Tom was upstairs.    Tom était à l'étage."
      ]
     },
     "execution_count": 3,
     "metadata": {},
     "output_type": "execute_result"
    }
   ],
   "source": [
    "lines = lines[['eng','fra']][:33000]  # 3만 3천개만 사용\n",
    "lines.sample(5)"
   ]
  },
  {
   "cell_type": "code",
   "execution_count": 4,
   "id": "92c98581",
   "metadata": {},
   "outputs": [
    {
     "name": "stdout",
     "output_type": "stream",
     "text": [
      "eng null : 0\n",
      "eng null : 0\n"
     ]
    }
   ],
   "source": [
    "print('eng null :',lines['eng'].isnull().sum())\n",
    "print('eng null :',lines['fra'].isnull().sum())"
   ]
  },
  {
   "cell_type": "markdown",
   "id": "393aeb26",
   "metadata": {},
   "source": [
    "# Step 2. 데이터 정제,정규화,전처리\n",
    "--- "
   ]
  },
  {
   "cell_type": "code",
   "execution_count": 5,
   "id": "7d1a7995",
   "metadata": {},
   "outputs": [],
   "source": [
    "def to_accent(s):\n",
    "    # 프랑스어 악센트 제거\n",
    "    return \"\".join(c for c in unicodedata.normalize('NFD',s) if unicodedata.category(c) != 'Mn')"
   ]
  },
  {
   "cell_type": "code",
   "execution_count": 6,
   "id": "e067dc1c",
   "metadata": {},
   "outputs": [],
   "source": [
    "import re\n",
    "\n",
    "# 구두점 분리, 소문자처리\n",
    "def preprocess_sentence(sentence):\n",
    "    sentence = sentence.lower() # 소문자로 바꾸고, 양쪽 공백 지우기\n",
    "    sentence = to_accent(sentence)\n",
    "    sentence = re.sub(r\"([?.!,¿])\", r\" \\1\", sentence) # 특수문자 양쪽에 공백 넣기\n",
    "    sentence = re.sub(r\"[^a-zA-Z!.?]+\", r\" \", sentence)\n",
    "    sentence = re.sub(r'[\" \"]+',\" \", sentence) # 여러개의 공백은 하나의 공백으로\n",
    "    sentence = sentence.strip() # 양쪽 공백 제거\n",
    "    sentence = sentence.rstrip('.') # 뒤에 온점 지우기\n",
    "    return sentence"
   ]
  },
  {
   "cell_type": "code",
   "execution_count": 7,
   "id": "c4f707f4",
   "metadata": {},
   "outputs": [
    {
     "name": "stdout",
     "output_type": "stream",
     "text": [
      "전체 샘플 수 : 33000\n"
     ]
    },
    {
     "data": {
      "text/plain": [
       "11564        i m happy too \n",
       "29066    tom looks stunned \n",
       "17941      we re very busy \n",
       "28722    this seems stupid \n",
       "1636            what s up ?\n",
       "Name: eng, dtype: object"
      ]
     },
     "execution_count": 7,
     "metadata": {},
     "output_type": "execute_result"
    }
   ],
   "source": [
    "# english 글에 적용\n",
    "eng_sentence = lines['eng'].apply(lambda x: preprocess_sentence(x))\n",
    "print('전체 샘플 수 :',len(eng_sentence))\n",
    "eng_sentence.sample(5)"
   ]
  },
  {
   "cell_type": "code",
   "execution_count": 8,
   "id": "1e1bd7a8",
   "metadata": {},
   "outputs": [
    {
     "name": "stdout",
     "output_type": "stream",
     "text": [
      "전체 샘플 수 : 33000\n"
     ]
    },
    {
     "data": {
      "text/plain": [
       "8959                      <sos> c est un mythe  <eos>\n",
       "25689           <sos> je n ai pas ete diplomee  <eos>\n",
       "18912                <sos> aimez vous le mien ? <eos>\n",
       "32817           <sos> j ai tout d abord refuse  <eos>\n",
       "10141    <sos> elles sont toutes deux vivantes  <eos>\n",
       "Name: fra, dtype: object"
      ]
     },
     "execution_count": 8,
     "metadata": {},
     "output_type": "execute_result"
    }
   ],
   "source": [
    "# fra 적용\n",
    "fra_sentence = lines['fra'].apply(lambda x: preprocess_sentence(x))\n",
    "fra_sentence\n",
    "\n",
    "# decorder 문장 시작,종료 토큰 추가해주기\n",
    "sos_token = '<sos>'\n",
    "eos_token = '<eos>'\n",
    "fra_sentence = fra_sentence.apply(lambda x: '<sos> '+x+' <eos>')\n",
    "print('전체 샘플 수 :',len(fra_sentence))\n",
    "fra_sentence.sample(5)"
   ]
  },
  {
   "cell_type": "code",
   "execution_count": 9,
   "id": "0551ca7c",
   "metadata": {},
   "outputs": [],
   "source": [
    "# 단어 단위로 split\n",
    "\n",
    "# eng\n",
    "eng_input = []\n",
    "for i,line in enumerate(eng_sentence):\n",
    "    line_in = [w for w in line.split()]\n",
    "    eng_input.append(line_in)\n",
    "\n",
    "# fra\n",
    "fra_input,fra_target = [],[]\n",
    "for j, line in enumerate(fra_sentence):\n",
    "    # input (sos_token만 포함)\n",
    "    target_in = [w for w in line.split() if w != eos_token] \n",
    "    fra_input.append(target_in)\n",
    "    # target (eos_token만 포함)\n",
    "    target_out = [w for w in line.split() if w != sos_token]\n",
    "    fra_target.append(target_out)"
   ]
  },
  {
   "cell_type": "code",
   "execution_count": 10,
   "id": "adfa5ad8",
   "metadata": {},
   "outputs": [
    {
     "name": "stdout",
     "output_type": "stream",
     "text": [
      "encoder :  [['go'], ['go'], ['go']]\n",
      "decoder_input :  [['<sos>', 'va', '!'], ['<sos>', 'marche'], ['<sos>', 'en', 'route', '!']]\n",
      "decoder_target :  [['va', '!', '<eos>'], ['marche', '<eos>'], ['en', 'route', '!', '<eos>']]\n"
     ]
    }
   ],
   "source": [
    "print('encoder : ',eng_input[:3])\n",
    "print('decoder_input : ',fra_input[:3])\n",
    "print('decoder_target : ',fra_target[:3])"
   ]
  },
  {
   "cell_type": "markdown",
   "id": "f8334964",
   "metadata": {},
   "source": [
    "# Step 3. 케라스 토크나이저로 텍스트를 숫자로 바꾸기"
   ]
  },
  {
   "cell_type": "code",
   "execution_count": 11,
   "id": "52ca555e",
   "metadata": {},
   "outputs": [
    {
     "data": {
      "text/plain": [
       "[[26], [26], [26]]"
      ]
     },
     "execution_count": 11,
     "metadata": {},
     "output_type": "execute_result"
    }
   ],
   "source": [
    "eng_tokenizer = Tokenizer(filters=\"\",lower=False) # 단어 단위로 Tokenizer 생성\n",
    "eng_tokenizer.fit_on_texts(eng_input)   # 각행 토큰화\n",
    "\n",
    "encoder_input = eng_tokenizer.texts_to_sequences(eng_input)\n",
    "encoder_input[:3]"
   ]
  },
  {
   "cell_type": "code",
   "execution_count": 12,
   "id": "5df12427",
   "metadata": {},
   "outputs": [
    {
     "name": "stdout",
     "output_type": "stream",
     "text": [
      "[[1, 67, 9], [1, 196], [1, 24, 498, 9]]\n",
      "[[67, 9, 2], [196, 2], [24, 498, 9, 2]]\n"
     ]
    }
   ],
   "source": [
    "fra_tokenizer = Tokenizer(filters=\"\",lower=False) # 단어 단위로 Tokenizer 생성\n",
    "\n",
    "fra_tokenizer.fit_on_texts(fra_input)   # 각행 토큰화\n",
    "fra_tokenizer.fit_on_texts(fra_target)\n",
    "\n",
    "decoder_input = fra_tokenizer.texts_to_sequences(fra_input) # 정수형으로 변환\n",
    "decoder_target = fra_tokenizer.texts_to_sequences(fra_target)\n",
    "\n",
    "print(decoder_input[:3])\n",
    "print(decoder_target[:3])"
   ]
  },
  {
   "cell_type": "code",
   "execution_count": 13,
   "id": "95f4f823",
   "metadata": {},
   "outputs": [
    {
     "name": "stdout",
     "output_type": "stream",
     "text": [
      "영어 단어장 크기 : 4516\n",
      "프랑스 단어장 크기 : 7907\n"
     ]
    }
   ],
   "source": [
    "eng_vocab_size = len(eng_tokenizer.word_index) + 1 # 0번 토큰 고려\n",
    "fra_vocab_size = len(fra_tokenizer.word_index) + 1\n",
    "print('영어 단어장 크기 :',eng_vocab_size)\n",
    "print('프랑스 단어장 크기 :',fra_vocab_size)"
   ]
  },
  {
   "cell_type": "code",
   "execution_count": 14,
   "id": "c692b794",
   "metadata": {},
   "outputs": [
    {
     "name": "stdout",
     "output_type": "stream",
     "text": [
      "영어 문장 최대 길이 : 7\n",
      "프랑스 문장 최대 길이 : 15\n"
     ]
    }
   ],
   "source": [
    "max_eng_seq_len = max([len(line) for line in encoder_input])\n",
    "max_fra_seq_len = max([len(line) for line in decoder_input])\n",
    "print('영어 문장 최대 길이 :',max_eng_seq_len)\n",
    "print('프랑스 문장 최대 길이 :',max_fra_seq_len)"
   ]
  },
  {
   "cell_type": "code",
   "execution_count": 15,
   "id": "2ad45a9d",
   "metadata": {},
   "outputs": [],
   "source": [
    "eng_to_index = eng_tokenizer.word_index\n",
    "index_to_eng = eng_tokenizer.index_word\n",
    "fra_to_index = fra_tokenizer.word_index\n",
    "index_to_fra = fra_tokenizer.index_word"
   ]
  },
  {
   "cell_type": "code",
   "execution_count": 16,
   "id": "f4554294",
   "metadata": {},
   "outputs": [
    {
     "name": "stdout",
     "output_type": "stream",
     "text": [
      "eng 데이터 크기 : (33000, 7)\n",
      "fra_input 데이터 크기 : (33000, 15)\n",
      "fra_target 데이터 크기 : (33000, 15)\n"
     ]
    }
   ],
   "source": [
    "## pad 추가\n",
    "\n",
    "encoder_input = pad_sequences(encoder_input, maxlen=max_eng_seq_len, padding='post')\n",
    "decoder_input = pad_sequences(decoder_input, maxlen=max_fra_seq_len, padding='post')\n",
    "decoder_target = pad_sequences(decoder_target, maxlen=max_fra_seq_len, padding='post')\n",
    "print('eng 데이터 크기 :', np.shape(encoder_input))\n",
    "print('fra_input 데이터 크기 :', np.shape(decoder_input))\n",
    "print('fra_target 데이터 크기 :', np.shape(decoder_target))"
   ]
  },
  {
   "cell_type": "code",
   "execution_count": 17,
   "id": "b324cbde",
   "metadata": {
    "scrolled": true
   },
   "outputs": [
    {
     "name": "stdout",
     "output_type": "stream",
     "text": [
      "[26  0  0  0  0  0  0]\n"
     ]
    }
   ],
   "source": [
    "print(encoder_input[0])"
   ]
  },
  {
   "cell_type": "code",
   "execution_count": 18,
   "id": "22efaed7",
   "metadata": {},
   "outputs": [
    {
     "data": {
      "text/plain": [
       "(33000, 7)"
      ]
     },
     "execution_count": 18,
     "metadata": {},
     "output_type": "execute_result"
    }
   ],
   "source": [
    "encoder_input.shape"
   ]
  },
  {
   "cell_type": "code",
   "execution_count": 19,
   "id": "c5d6146e",
   "metadata": {},
   "outputs": [
    {
     "name": "stdout",
     "output_type": "stream",
     "text": [
      "[10674 11535  8294 ... 20258 30564 32155]\n"
     ]
    }
   ],
   "source": [
    "random_index = np.arange(encoder_input.shape[0])\n",
    "np.random.shuffle(random_index)\n",
    "print(random_index)"
   ]
  },
  {
   "cell_type": "code",
   "execution_count": 20,
   "id": "e3cf42ae",
   "metadata": {},
   "outputs": [],
   "source": [
    "encoder_input = encoder_input[random_index]\n",
    "decoder_input = decoder_input[random_index]\n",
    "decoder_target = decoder_target[random_index]"
   ]
  },
  {
   "cell_type": "code",
   "execution_count": 21,
   "id": "e524b844",
   "metadata": {},
   "outputs": [
    {
     "name": "stdout",
     "output_type": "stream",
     "text": [
      "[ 27  11  30 474   0   0   0]\n",
      "[   1   18   97   11 2195    9    0    0    0    0    0    0    0    0\n",
      "    0]\n",
      "[  18   97   11 2195    9    2    0    0    0    0    0    0    0    0\n",
      "    0]\n"
     ]
    }
   ],
   "source": [
    "print(encoder_input[30])\n",
    "print(decoder_input[30])\n",
    "print(decoder_target[30])"
   ]
  },
  {
   "cell_type": "code",
   "execution_count": 22,
   "id": "672585c5",
   "metadata": {},
   "outputs": [
    {
     "name": "stdout",
     "output_type": "stream",
     "text": [
      "영어 학습데이터의 크기(shape) : (30000, 7)\n",
      "프랑스어 학습 입력데이터의 크기(shape) : (30000, 15)\n",
      "프랑스어 학습 출력데이터의 크기(shape) : (30000, 15)\n"
     ]
    }
   ],
   "source": [
    "# validation set 나누기\n",
    "\n",
    "n_of_val = 30000\n",
    "\n",
    "encoder_input_train = encoder_input[:n_of_val]\n",
    "decoder_input_train = decoder_input[:n_of_val]\n",
    "decoder_target_train = decoder_target[:n_of_val]\n",
    "\n",
    "encoder_input_val = encoder_input[n_of_val:]\n",
    "decoder_input_val = decoder_input[n_of_val:]\n",
    "decoder_target_val = decoder_target[n_of_val:]\n",
    "\n",
    "print('영어 학습데이터의 크기(shape) :',np.shape(encoder_input_train))\n",
    "print('프랑스어 학습 입력데이터의 크기(shape) :',np.shape(decoder_input_train))\n",
    "print('프랑스어 학습 출력데이터의 크기(shape) :',np.shape(decoder_target_train))"
   ]
  },
  {
   "cell_type": "markdown",
   "id": "c912af8c",
   "metadata": {},
   "source": [
    "# Step 4. 임베딩(Embedding layer) 사용하기\n",
    "---"
   ]
  },
  {
   "cell_type": "code",
   "execution_count": 42,
   "id": "e632d7f7",
   "metadata": {},
   "outputs": [],
   "source": [
    "from tensorflow.keras.layers import Input, Embedding, Masking, LSTM,Dense\n",
    "from tensorflow.keras.models import Model\n",
    "\n",
    "embbeding_dim = 64\n",
    "hidden_units= 128\n",
    "\n",
    "# encoder\n",
    "encoder_inputs = Input(shape=(None,)) \n",
    "eng_emb = Embedding(eng_vocab_size, embbeding_dim)(encoder_inputs)\n",
    "eng_masking = Masking(mask_value=0.0)(eng_emb) # 패딩 0은 연산 제외\n",
    "encoder_lstm = LSTM(hidden_units, return_state=True) # 상태값 return\n",
    "encoder_outputs, state_h, state_c = encoder_lstm(eng_masking) # 은닉 상태,셀 리턴\n",
    "encoder_states=[state_h, state_c]"
   ]
  },
  {
   "cell_type": "code",
   "execution_count": 43,
   "id": "8a2da9a9",
   "metadata": {},
   "outputs": [],
   "source": [
    "# decoder\n",
    "decoder_inputs = Input(shape=(None,))\n",
    "fra_emb = Embedding(fra_vocab_size,hidden_units)(decoder_inputs) # 임베딩\n",
    "fra_masking = Masking(mask_value=0.0)(fra_emb) # 패딩 0 연산 제외\n",
    "decoder_lstm = LSTM(hidden_units, return_sequences=True, return_state=True)\n",
    "decoder_outputs, _, _=decoder_lstm(fra_masking, initial_state=encoder_states)"
   ]
  },
  {
   "cell_type": "code",
   "execution_count": 44,
   "id": "06ffd84e",
   "metadata": {},
   "outputs": [],
   "source": [
    "# Softmax Dense 층\n",
    "decoder_softmax_layer = Dense(fra_vocab_size, activation='softmax')\n",
    "decoder_outputs = decoder_softmax_layer(decoder_outputs)"
   ]
  },
  {
   "cell_type": "markdown",
   "id": "c2d4bc12",
   "metadata": {},
   "source": [
    "# Step 5. 모델 구현하기\n",
    "---"
   ]
  },
  {
   "cell_type": "code",
   "execution_count": 45,
   "id": "85296ec3",
   "metadata": {},
   "outputs": [
    {
     "name": "stdout",
     "output_type": "stream",
     "text": [
      "Model: \"model_3\"\n",
      "__________________________________________________________________________________________________\n",
      "Layer (type)                    Output Shape         Param #     Connected to                     \n",
      "==================================================================================================\n",
      "input_5 (InputLayer)            [(None, None)]       0                                            \n",
      "__________________________________________________________________________________________________\n",
      "input_6 (InputLayer)            [(None, None)]       0                                            \n",
      "__________________________________________________________________________________________________\n",
      "embedding_3 (Embedding)         (None, None, 64)     289024      input_5[0][0]                    \n",
      "__________________________________________________________________________________________________\n",
      "embedding_4 (Embedding)         (None, None, 128)    1012096     input_6[0][0]                    \n",
      "__________________________________________________________________________________________________\n",
      "masking_2 (Masking)             (None, None, 64)     0           embedding_3[0][0]                \n",
      "__________________________________________________________________________________________________\n",
      "masking_3 (Masking)             (None, None, 128)    0           embedding_4[0][0]                \n",
      "__________________________________________________________________________________________________\n",
      "lstm_2 (LSTM)                   [(None, 128), (None, 98816       masking_2[0][0]                  \n",
      "__________________________________________________________________________________________________\n",
      "lstm_3 (LSTM)                   [(None, None, 128),  131584      masking_3[0][0]                  \n",
      "                                                                 lstm_2[0][1]                     \n",
      "                                                                 lstm_2[0][2]                     \n",
      "__________________________________________________________________________________________________\n",
      "dense_1 (Dense)                 (None, None, 7907)   1020003     lstm_3[0][0]                     \n",
      "==================================================================================================\n",
      "Total params: 2,551,523\n",
      "Trainable params: 2,551,523\n",
      "Non-trainable params: 0\n",
      "__________________________________________________________________________________________________\n"
     ]
    }
   ],
   "source": [
    "model = Model([encoder_inputs, decoder_inputs], decoder_outputs)\n",
    "model.compile(optimizer='adam', loss='sparse_categorical_crossentropy', metrics=['acc'])\n",
    "model.summary()"
   ]
  },
  {
   "cell_type": "code",
   "execution_count": 46,
   "id": "87f5271a",
   "metadata": {
    "scrolled": true
   },
   "outputs": [
    {
     "name": "stdout",
     "output_type": "stream",
     "text": [
      "Epoch 1/50\n",
      "235/235 [==============================] - 15s 37ms/step - loss: 2.7654 - acc: 0.6531 - val_loss: 1.8645 - val_acc: 0.7098\n",
      "Epoch 2/50\n",
      "235/235 [==============================] - 7s 28ms/step - loss: 1.7478 - acc: 0.7251 - val_loss: 1.6595 - val_acc: 0.7382\n",
      "Epoch 3/50\n",
      "235/235 [==============================] - 7s 28ms/step - loss: 1.5980 - acc: 0.7397 - val_loss: 1.5456 - val_acc: 0.7463\n",
      "Epoch 4/50\n",
      "235/235 [==============================] - 6s 28ms/step - loss: 1.4726 - acc: 0.7543 - val_loss: 1.4268 - val_acc: 0.7716\n",
      "Epoch 5/50\n",
      "235/235 [==============================] - 6s 27ms/step - loss: 1.3503 - acc: 0.7791 - val_loss: 1.3256 - val_acc: 0.7868\n",
      "Epoch 6/50\n",
      "235/235 [==============================] - 7s 28ms/step - loss: 1.2452 - acc: 0.7930 - val_loss: 1.2385 - val_acc: 0.7993\n",
      "Epoch 7/50\n",
      "235/235 [==============================] - 6s 27ms/step - loss: 1.1602 - acc: 0.8038 - val_loss: 1.1785 - val_acc: 0.8083\n",
      "Epoch 8/50\n",
      "235/235 [==============================] - 6s 27ms/step - loss: 1.0893 - acc: 0.8130 - val_loss: 1.1251 - val_acc: 0.8151\n",
      "Epoch 9/50\n",
      "235/235 [==============================] - 6s 27ms/step - loss: 1.0277 - acc: 0.8202 - val_loss: 1.0813 - val_acc: 0.8199\n",
      "Epoch 10/50\n",
      "235/235 [==============================] - 6s 28ms/step - loss: 0.9711 - acc: 0.8262 - val_loss: 1.0392 - val_acc: 0.8264\n",
      "Epoch 11/50\n",
      "235/235 [==============================] - 6s 27ms/step - loss: 0.9188 - acc: 0.8315 - val_loss: 1.0065 - val_acc: 0.8293\n",
      "Epoch 12/50\n",
      "235/235 [==============================] - 6s 27ms/step - loss: 0.8705 - acc: 0.8373 - val_loss: 0.9759 - val_acc: 0.8334\n",
      "Epoch 13/50\n",
      "235/235 [==============================] - 6s 28ms/step - loss: 0.8275 - acc: 0.8421 - val_loss: 0.9497 - val_acc: 0.8368\n",
      "Epoch 14/50\n",
      "235/235 [==============================] - 7s 28ms/step - loss: 0.7882 - acc: 0.8470 - val_loss: 0.9277 - val_acc: 0.8388\n",
      "Epoch 15/50\n",
      "235/235 [==============================] - 6s 27ms/step - loss: 0.7521 - acc: 0.8510 - val_loss: 0.9095 - val_acc: 0.8412\n",
      "Epoch 16/50\n",
      "235/235 [==============================] - 6s 27ms/step - loss: 0.7183 - acc: 0.8550 - val_loss: 0.8927 - val_acc: 0.8434\n",
      "Epoch 17/50\n",
      "235/235 [==============================] - 6s 27ms/step - loss: 0.6868 - acc: 0.8586 - val_loss: 0.8732 - val_acc: 0.8464\n",
      "Epoch 18/50\n",
      "235/235 [==============================] - 6s 27ms/step - loss: 0.6570 - acc: 0.8624 - val_loss: 0.8602 - val_acc: 0.8473\n",
      "Epoch 19/50\n",
      "235/235 [==============================] - 6s 27ms/step - loss: 0.6289 - acc: 0.8663 - val_loss: 0.8455 - val_acc: 0.8495\n",
      "Epoch 20/50\n",
      "235/235 [==============================] - 6s 27ms/step - loss: 0.6020 - acc: 0.8696 - val_loss: 0.8343 - val_acc: 0.8512\n",
      "Epoch 21/50\n",
      "235/235 [==============================] - 6s 27ms/step - loss: 0.5761 - acc: 0.8740 - val_loss: 0.8223 - val_acc: 0.8527\n",
      "Epoch 22/50\n",
      "235/235 [==============================] - 6s 27ms/step - loss: 0.5510 - acc: 0.8773 - val_loss: 0.8142 - val_acc: 0.8532\n",
      "Epoch 23/50\n",
      "235/235 [==============================] - 6s 27ms/step - loss: 0.5275 - acc: 0.8807 - val_loss: 0.8030 - val_acc: 0.8547\n",
      "Epoch 24/50\n",
      "235/235 [==============================] - 6s 27ms/step - loss: 0.5049 - acc: 0.8847 - val_loss: 0.7931 - val_acc: 0.8568\n",
      "Epoch 25/50\n",
      "235/235 [==============================] - 6s 27ms/step - loss: 0.4830 - acc: 0.8881 - val_loss: 0.7846 - val_acc: 0.8588\n",
      "Epoch 26/50\n",
      "235/235 [==============================] - 6s 27ms/step - loss: 0.4622 - acc: 0.8917 - val_loss: 0.7786 - val_acc: 0.8590\n",
      "Epoch 27/50\n",
      "235/235 [==============================] - 6s 27ms/step - loss: 0.4420 - acc: 0.8954 - val_loss: 0.7712 - val_acc: 0.8598\n",
      "Epoch 28/50\n",
      "235/235 [==============================] - 6s 27ms/step - loss: 0.4228 - acc: 0.8991 - val_loss: 0.7636 - val_acc: 0.8614\n",
      "Epoch 29/50\n",
      "235/235 [==============================] - 6s 27ms/step - loss: 0.4046 - acc: 0.9028 - val_loss: 0.7591 - val_acc: 0.8625\n",
      "Epoch 30/50\n",
      "235/235 [==============================] - 6s 27ms/step - loss: 0.3873 - acc: 0.9059 - val_loss: 0.7543 - val_acc: 0.8633\n",
      "Epoch 31/50\n",
      "235/235 [==============================] - 6s 27ms/step - loss: 0.3707 - acc: 0.9092 - val_loss: 0.7492 - val_acc: 0.8657\n",
      "Epoch 32/50\n",
      "235/235 [==============================] - 6s 27ms/step - loss: 0.3546 - acc: 0.9127 - val_loss: 0.7420 - val_acc: 0.8669\n",
      "Epoch 33/50\n",
      "235/235 [==============================] - 6s 28ms/step - loss: 0.3391 - acc: 0.9156 - val_loss: 0.7432 - val_acc: 0.8681\n",
      "Epoch 34/50\n",
      "235/235 [==============================] - 6s 27ms/step - loss: 0.3253 - acc: 0.9184 - val_loss: 0.7383 - val_acc: 0.8680\n",
      "Epoch 35/50\n",
      "235/235 [==============================] - 6s 27ms/step - loss: 0.3114 - acc: 0.9214 - val_loss: 0.7369 - val_acc: 0.8692\n",
      "Epoch 36/50\n",
      "235/235 [==============================] - 6s 27ms/step - loss: 0.2986 - acc: 0.9242 - val_loss: 0.7345 - val_acc: 0.8689\n",
      "Epoch 37/50\n",
      "235/235 [==============================] - 6s 27ms/step - loss: 0.2866 - acc: 0.9265 - val_loss: 0.7343 - val_acc: 0.8697\n",
      "Epoch 38/50\n",
      "235/235 [==============================] - 6s 27ms/step - loss: 0.2750 - acc: 0.9287 - val_loss: 0.7345 - val_acc: 0.8706\n",
      "Epoch 39/50\n",
      "235/235 [==============================] - 6s 27ms/step - loss: 0.2643 - acc: 0.9311 - val_loss: 0.7316 - val_acc: 0.8712\n",
      "Epoch 40/50\n",
      "235/235 [==============================] - 6s 27ms/step - loss: 0.2541 - acc: 0.9331 - val_loss: 0.7311 - val_acc: 0.8705\n",
      "Epoch 41/50\n",
      "235/235 [==============================] - 6s 27ms/step - loss: 0.2445 - acc: 0.9351 - val_loss: 0.7322 - val_acc: 0.8722\n",
      "Epoch 42/50\n",
      "235/235 [==============================] - 6s 27ms/step - loss: 0.2359 - acc: 0.9366 - val_loss: 0.7337 - val_acc: 0.8719\n",
      "Epoch 43/50\n",
      "235/235 [==============================] - 6s 27ms/step - loss: 0.2277 - acc: 0.9382 - val_loss: 0.7368 - val_acc: 0.8713\n",
      "Epoch 44/50\n",
      "235/235 [==============================] - 6s 27ms/step - loss: 0.2195 - acc: 0.9398 - val_loss: 0.7353 - val_acc: 0.8730\n",
      "Epoch 45/50\n",
      "235/235 [==============================] - 6s 27ms/step - loss: 0.2116 - acc: 0.9415 - val_loss: 0.7366 - val_acc: 0.8734\n",
      "Epoch 46/50\n",
      "235/235 [==============================] - 6s 27ms/step - loss: 0.2043 - acc: 0.9429 - val_loss: 0.7392 - val_acc: 0.8731\n",
      "Epoch 47/50\n",
      "235/235 [==============================] - 6s 27ms/step - loss: 0.1977 - acc: 0.9442 - val_loss: 0.7394 - val_acc: 0.8738\n",
      "Epoch 48/50\n",
      "235/235 [==============================] - 6s 27ms/step - loss: 0.1917 - acc: 0.9452 - val_loss: 0.7393 - val_acc: 0.8745\n",
      "Epoch 49/50\n",
      "235/235 [==============================] - 6s 27ms/step - loss: 0.1853 - acc: 0.9464 - val_loss: 0.7416 - val_acc: 0.8748\n",
      "Epoch 50/50\n",
      "235/235 [==============================] - 6s 27ms/step - loss: 0.1797 - acc: 0.9475 - val_loss: 0.7415 - val_acc: 0.8750\n"
     ]
    }
   ],
   "source": [
    "history = model.fit(x=[encoder_input_train, decoder_input_train], y=decoder_target_train,\n",
    "         validation_data=([encoder_input_val, decoder_input_val],decoder_target_val),\n",
    "         batch_size=128, epochs=50)"
   ]
  },
  {
   "cell_type": "code",
   "execution_count": 47,
   "id": "1a3a98ac",
   "metadata": {},
   "outputs": [
    {
     "data": {
      "image/png": "[encoded data removed]",
      "text/plain": [
       "<Figure size 432x288 with 1 Axes>"
      ]
     },
     "metadata": {
      "needs_background": "light"
     },
     "output_type": "display_data"
    }
   ],
   "source": [
    "import matplotlib.pyplot as plt\n",
    "\n",
    "plt.plot(history.history['loss'])\n",
    "plt.plot(history.history['val_loss'])\n",
    "plt.xlabel('epoch')\n",
    "plt.ylabel('loss')\n",
    "plt.legend(['train','val'])\n",
    "plt.show()"
   ]
  },
  {
   "cell_type": "markdown",
   "id": "0a21a0e5",
   "metadata": {},
   "source": [
    "# Step 6. 모델 평가하기\n",
    "---"
   ]
  },
  {
   "cell_type": "code",
   "execution_count": 48,
   "id": "234dce53",
   "metadata": {},
   "outputs": [],
   "source": [
    "# 인코더\n",
    "encoder_model = Model(encoder_inputs, encoder_states)\n",
    "\n",
    "# 디코더\n",
    "decoder_state_input_h = Input(shape=(hidden_units,))\n",
    "decoder_state_input_c = Input(shape=(hidden_units,))\n",
    "decoder_states_inputs = [decoder_state_input_h,decoder_state_input_c]\n",
    "\n",
    "# 훈련 때 사용했던 임베딩 layer 재사용\n",
    "dec_emb2 = Embedding(fra_vocab_size,hidden_units)(decoder_inputs)\n",
    "\n",
    "# 다음 단어 예측을 위해 이전 시점의 상태를 현 시점의 초기 상태로 사용\n",
    "decoder_outputs2, state_h2, state_c2 = decoder_lstm(dec_emb2, initial_state=decoder_states_inputs)\n",
    "decoder_states2 = [state_h2, state_c2]\n",
    "\n",
    "# 모든 시점에 대해 단어 예측\n",
    "decoder_outputs2 = decoder_softmax_layer(decoder_outputs2)\n",
    "\n",
    "# 디코더 수정\n",
    "decoder_model = Model([decoder_inputs] + decoder_states_inputs,\n",
    "                     [decoder_outputs2] + decoder_states2)"
   ]
  },
  {
   "cell_type": "code",
   "execution_count": 49,
   "id": "07dd3e9d",
   "metadata": {},
   "outputs": [],
   "source": [
    "def decode_sequence(input_seq):\n",
    "    # 입력으로부터 인코더의 상태를 얻음\n",
    "    states_value = encoder_model.predict(input_seq)\n",
    "\n",
    "    # <sos>에 해당하는 원-핫 벡터 생성\n",
    "    target_seq = np.zeros((1,1)) \n",
    "    target_seq[0, 0] = fra_to_index['<sos>']\n",
    "    \n",
    "    stop_condition = False\n",
    "    decoded_sentence = \"\"\n",
    "\n",
    "    # stop_condition이 True가 될 때까지 루프 반복\n",
    "    while not stop_condition:\n",
    "        # 이점 시점의 상태 states_value를 현 시점의 초기 상태로 사용\n",
    "        output_tokens, h, c = decoder_model.predict([target_seq] + states_value)  # (1,1,단어 사전 갯수) 추출\n",
    "\n",
    "        # 예측 결과를 단어로 변환\n",
    "        sampled_token_index = np.argmax(output_tokens[0, -1, :]) # 한줄로 만들어줌 차원 축소\n",
    "        sampled_char = index_to_fra[sampled_token_index]\n",
    "        \n",
    "        # 현재 시점의 예측 문자를 예측 문장에 추가\n",
    "        decoded_sentence += ' ' + sampled_char\n",
    "\n",
    "        # <eos>에 도달하거나 최대 길이를 넘으면 중단.\n",
    "        if (sampled_char == '<eos>' or\n",
    "            len(decoded_sentence) > max_fra_seq_len):\n",
    "            stop_condition = True\n",
    "        \n",
    "        # 현재 시점의 예측 결과를 다음 시점의 입력으로 사용하기 위해 저장     \n",
    "        target_seq = np.zeros((1, 1))\n",
    "        target_seq[0, 0] = sampled_token_index\n",
    "\n",
    "        # 현재 시점의 상태를 다음 시점의 상태로 사용하기 위해 저장\n",
    "        states_value = [h, c]\n",
    "\n",
    "    return decoded_sentence"
   ]
  },
  {
   "cell_type": "code",
   "execution_count": 50,
   "id": "df15fa86",
   "metadata": {},
   "outputs": [],
   "source": [
    "def seq_to_eng(input_seq):\n",
    "    sentence = ''\n",
    "    for encoded_word in input_seq:\n",
    "        if (encoded_word != 0):\n",
    "            sentence += index_to_eng[encoded_word] + ' '\n",
    "    return sentence\n",
    "\n",
    "def seq_to_fra(input_seq):\n",
    "    sentence = ''\n",
    "    for encoded_word in input_seq:\n",
    "        if (encoded_word != 0 and encoded_word != fra_to_index['<sos>'] and encoded_word != fra_to_index['<eos>']):\n",
    "            sentence += index_to_fra[encoded_word] + ' '\n",
    "    return sentence"
   ]
  },
  {
   "cell_type": "code",
   "execution_count": 51,
   "id": "e399260c",
   "metadata": {},
   "outputs": [
    {
     "data": {
      "text/plain": [
       "array([[ 27,  11,  30, 474,   0,   0,   0]], dtype=int32)"
      ]
     },
     "execution_count": 51,
     "metadata": {},
     "output_type": "execute_result"
    }
   ],
   "source": [
    "encoder_input_train[30: 30+1]"
   ]
  },
  {
   "cell_type": "code",
   "execution_count": 55,
   "id": "9f77b60f",
   "metadata": {
    "scrolled": false
   },
   "outputs": [
    {
     "name": "stdout",
     "output_type": "stream",
     "text": [
      "입력문장 : tom talks tough \n",
      "정답문장 : tom parle comme un dur \n",
      "번역문장 : tom que que \n",
      "--------------------------------------------------\n",
      "입력문장 : i ll go if you go \n",
      "정답문장 : je partirai si tu le fais \n",
      "번역문장 : je je je \n",
      "--------------------------------------------------\n",
      "입력문장 : listen carefully \n",
      "정답문장 : ecoutez attentivement \n",
      "번역문장 : ecoute ecou\n",
      "--------------------------------------------------\n",
      "입력문장 : look at the meter \n",
      "정답문장 : regarde le compteur \n",
      "번역문장 : regarde re\n",
      "--------------------------------------------------\n",
      "입력문장 : tom wake up \n",
      "정답문장 : reveille toi tom ! \n",
      "번역문장 : reveille tom ! \n",
      "--------------------------------------------------\n",
      "입력문장 : have a nice trip ! \n",
      "정답문장 : bon voyage ! \n",
      "번역문장 : un une ! ! ! \n",
      "--------------------------------------------------\n"
     ]
    }
   ],
   "source": [
    "for seq_index in [3,48,1138,1576,1895,2095]:\n",
    "    input_seq = encoder_input_train[seq_index : seq_index + 1]\n",
    "    decoded_sentence = decode_sequence(input_seq)\n",
    "    \n",
    "    print(\"입력문장 :\", seq_to_eng(encoder_input_train[seq_index]))\n",
    "    print(\"정답문장 :\", seq_to_fra(decoder_input_train[seq_index]))\n",
    "    print(\"번역문장 :\", decoded_sentence[1:-5])\n",
    "    print(\"-\"*50)"
   ]
  },
  {
   "cell_type": "code",
   "execution_count": 79,
   "id": "523fb734",
   "metadata": {},
   "outputs": [
    {
     "name": "stdout",
     "output_type": "stream",
     "text": [
      "입력문장 : tom talks tough \n",
      "정답문장 : tom parle comme un dur \n",
      "번역문장 : tom a \n",
      "--------------------------------------------------\n",
      "입력문장 : we understand \n",
      "정답문장 : nous comprenons \n",
      "번역문장 : sois un to\n",
      "--------------------------------------------------\n",
      "입력문장 : they re similar \n",
      "정답문장 : elles sont similaires \n",
      "번역문장 : je me ca \n",
      "--------------------------------------------------\n",
      "입력문장 : i have blonde hair \n",
      "정답문장 : j ai les cheveux blonds \n",
      "번역문장 : je me ca \n",
      "--------------------------------------------------\n",
      "입력문장 : who believes that ? \n",
      "정답문장 : qui croit ca ? \n",
      "번역문장 : c trop trop \n",
      "--------------------------------------------------\n"
     ]
    }
   ],
   "source": [
    "for seq_index in [3,50,100,300,1001]:\n",
    "    input_seq = encoder_input_val[seq_index : seq_index + 1]\n",
    "    decoded_sentence = decode_sequence(input_seq)\n",
    "    \n",
    "    print(\"입력문장 :\", seq_to_eng(encoder_input_train[seq_index]))\n",
    "    print(\"정답문장 :\", seq_to_fra(decoder_input_train[seq_index]))\n",
    "    print(\"번역문장 :\", decoded_sentence[1:-5])\n",
    "    print(\"-\"*50)"
   ]
  },
  {
   "cell_type": "markdown",
   "id": "486bd778",
   "metadata": {},
   "source": [
    "# 회고"
   ]
  },
  {
   "attachments": {
    "image-2.png": {
     "image/png": "[encoded data removed]"
    },
    "image-3.png": {
     "image/png": "[encoded data removed]"
    },
    "image-4.png": {
     "image/png": "[encoded data removed]"
    },
    "image-5.png": {
     "image/png": "[encoded data removed]"
    },
    "image-6.png": {
     "image/png": "[encoded data removed]"
    }
   },
   "cell_type": "markdown",
   "id": "fe961401",
   "metadata": {},
   "source": [
    "![image-2.png](attachment:image-2.png)\n",
    "\n",
    "![image-3.png](attachment:image-3.png)\n",
    "\n",
    "![image-4.png](attachment:image-4.png)\n",
    "\n",
    "![image-5.png](attachment:image-5.png)\n",
    "\n",
    "![image-6.png](attachment:image-6.png)\n",
    "\n",
    "\n",
    "위에서 부터 차례대로 위의 정답문장과, 번역문장 구글 번역기로 돌려봄\n",
    "\n",
    "---\n",
    "\n",
    "이번엔 모델을 구성하고 예측을 하는 과정이 조금 특이했다. 먼저 인코딩을 위해 만든 모델에서 마지막에 LSTM으로 뽑은 output과 state를 decoding을 위해 만든 모델에 넣어주어야 한다는 것. 그리고 디코딩 모델에 예측값이 아닌 target 값을 넣어줘서 정답률을 올려준다.\n",
    "\n",
    "예측과정에서는 주제를 던져주고 작사를 하는 모델 처럼 입력문이 들어왔을 때 이를 초반 시작 문자가 들어가고부터 단어를 하나씩 예측한다.\n",
    "다만 실험 결과 초반에 들어간 단어 I,Me,You,We 등의 주어나, 명령문으로 시작하는 문장에 대해서 첫글자는 굉장히 잘 맞추는 경향을 보인다.\n",
    "하지만 글이 길어지고 동사가 주어 다음에 있을 때는 동사를 잘 맞추지 못했다. 몇몇 변역문 중에 처음 주어를 3번 반복해서 예상 문장이 만들어지는 것을 보면 예상하기로 모델이 이 전 단어에 대한 영향을 너무 많이 받고 있는 것이 아닌가 한다. 차차 알아가 봐야할 것 같다.\n",
    "\n",
    "\n",
    "그리고 빈번하게 등장하는 단어에 대해서는 잘 맞추고 잘 나타나지 않는 희소 단어들을 정확하게 맞추지는 못한 것 같다. 당연한 말이지만 더 큰 단어집, 더 많은 sample을 사용한다면 더 정확히 맞출 수 있지 않을 까 합니다.\n",
    "\n",
    "그리고 또 한가지 unicodedata를 통해 문자열의 악센트만 지우고 알파벳으로 치환 시킬 수 있다는 것을 알았다."
   ]
  },
  {
   "cell_type": "markdown",
   "id": "e0482f25",
   "metadata": {},
   "source": [
    "## 참고 문헌\n",
    "\n",
    "- accent 제거\n",
    "https://python.flowdas.com/library/unicodedata.html\n",
    "\n",
    "https://blog.naver.com/boaconic3769/222665444079\n",
    "\n",
    "\n",
    "- 번역기 만들기 a부터 z 까지\n",
    "https://wikidocs.net/86900"
   ]
  }
 ],
 "metadata": {
  "kernelspec": {
   "display_name": "Python 3 (ipykernel)",
   "language": "python",
   "name": "python3"
  },
  "language_info": {
   "codemirror_mode": {
    "name": "ipython",
    "version": 3
   },
   "file_extension": ".py",
   "mimetype": "text/x-python",
   "name": "python",
   "nbconvert_exporter": "python",
   "pygments_lexer": "ipython3",
   "version": "3.9.7"
  }
 },
 "nbformat": 4,
 "nbformat_minor": 5
}
