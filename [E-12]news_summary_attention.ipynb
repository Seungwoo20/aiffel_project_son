{
 "cells": [
  {
   "cell_type": "code",
   "execution_count": 6,
   "id": "591e629a",
   "metadata": {},
   "outputs": [
    {
     "name": "stderr",
     "output_type": "stream",
     "text": [
      "[nltk_data] Downloading package stopwords to /aiffel/nltk_data...\n",
      "[nltk_data]   Unzipping corpora/stopwords.zip.\n"
     ]
    }
   ],
   "source": [
    "from importlib.metadata import version\n",
    "import nltk\n",
    "nltk.download('stopwords')\n",
    "\n",
    "import summa\n",
    "import numpy as np\n",
    "import pandas as pd\n",
    "import os\n",
    "import re\n",
    "import matplotlib.pyplot as plt\n",
    "from nltk.corpus import stopwords\n",
    "from bs4 import BeautifulSoup \n",
    "from tensorflow.keras.preprocessing.text import Tokenizer \n",
    "from tensorflow.keras.preprocessing.sequence import pad_sequences\n",
    "import urllib.request\n",
    "import warnings\n",
    "warnings.filterwarnings(\"ignore\", category=UserWarning, module='bs4')\n"
   ]
  },
  {
   "cell_type": "markdown",
   "id": "24b66c2c",
   "metadata": {},
   "source": [
    "# Step 1. 데이터 수집하기"
   ]
  },
  {
   "cell_type": "code",
   "execution_count": 2,
   "id": "4fe1f58a",
   "metadata": {},
   "outputs": [],
   "source": [
    "import urllib.request\n",
    "urllib.request.urlretrieve(\"https://raw.githubusercontent.com/sunnysai12345/News_Summary/master/news_summary_more.csv\", filename=\"news_summary_more.csv\")\n",
    "data = pd.read_csv('news_summary_more.csv', encoding='iso-8859-1')"
   ]
  },
  {
   "cell_type": "code",
   "execution_count": 3,
   "id": "2a7b46e8",
   "metadata": {},
   "outputs": [
    {
     "data": {
      "text/html": [
       "<div>\n",
       "<style scoped>\n",
       "    .dataframe tbody tr th:only-of-type {\n",
       "        vertical-align: middle;\n",
       "    }\n",
       "\n",
       "    .dataframe tbody tr th {\n",
       "        vertical-align: top;\n",
       "    }\n",
       "\n",
       "    .dataframe thead th {\n",
       "        text-align: right;\n",
       "    }\n",
       "</style>\n",
       "<table border=\"1\" class=\"dataframe\">\n",
       "  <thead>\n",
       "    <tr style=\"text-align: right;\">\n",
       "      <th></th>\n",
       "      <th>headlines</th>\n",
       "      <th>text</th>\n",
       "    </tr>\n",
       "  </thead>\n",
       "  <tbody>\n",
       "    <tr>\n",
       "      <th>0</th>\n",
       "      <td>upGrad learner switches to career in ML &amp; Al w...</td>\n",
       "      <td>Saurav Kant, an alumnus of upGrad and IIIT-B's...</td>\n",
       "    </tr>\n",
       "    <tr>\n",
       "      <th>1</th>\n",
       "      <td>Delhi techie wins free food from Swiggy for on...</td>\n",
       "      <td>Kunal Shah's credit card bill payment platform...</td>\n",
       "    </tr>\n",
       "    <tr>\n",
       "      <th>2</th>\n",
       "      <td>New Zealand end Rohit Sharma-led India's 12-ma...</td>\n",
       "      <td>New Zealand defeated India by 8 wickets in the...</td>\n",
       "    </tr>\n",
       "    <tr>\n",
       "      <th>3</th>\n",
       "      <td>Aegon life iTerm insurance plan helps customer...</td>\n",
       "      <td>With Aegon Life iTerm Insurance plan, customer...</td>\n",
       "    </tr>\n",
       "    <tr>\n",
       "      <th>4</th>\n",
       "      <td>Have known Hirani for yrs, what if MeToo claim...</td>\n",
       "      <td>Speaking about the sexual harassment allegatio...</td>\n",
       "    </tr>\n",
       "  </tbody>\n",
       "</table>\n",
       "</div>"
      ],
      "text/plain": [
       "                                           headlines  \\\n",
       "0  upGrad learner switches to career in ML & Al w...   \n",
       "1  Delhi techie wins free food from Swiggy for on...   \n",
       "2  New Zealand end Rohit Sharma-led India's 12-ma...   \n",
       "3  Aegon life iTerm insurance plan helps customer...   \n",
       "4  Have known Hirani for yrs, what if MeToo claim...   \n",
       "\n",
       "                                                text  \n",
       "0  Saurav Kant, an alumnus of upGrad and IIIT-B's...  \n",
       "1  Kunal Shah's credit card bill payment platform...  \n",
       "2  New Zealand defeated India by 8 wickets in the...  \n",
       "3  With Aegon Life iTerm Insurance plan, customer...  \n",
       "4  Speaking about the sexual harassment allegatio...  "
      ]
     },
     "execution_count": 3,
     "metadata": {},
     "output_type": "execute_result"
    }
   ],
   "source": [
    "data.head()"
   ]
  },
  {
   "cell_type": "markdown",
   "id": "12b8369e",
   "metadata": {},
   "source": [
    "# Step 2. 데이터 전처리하기 (추상적 요약)"
   ]
  },
  {
   "cell_type": "code",
   "execution_count": 4,
   "id": "5965d671",
   "metadata": {},
   "outputs": [
    {
     "name": "stdout",
     "output_type": "stream",
     "text": [
      "Text 열에서 중복을 배제한 유일한 샘플의 수 : 98360\n",
      "Summary 열에서 중복을 배제한 유일한 샘플의 수 : 98280\n"
     ]
    }
   ],
   "source": [
    "print('Text 열에서 중복을 배제한 유일한 샘플의 수 :', data['text'].nunique())\n",
    "print('Summary 열에서 중복을 배제한 유일한 샘플의 수 :', data['headlines'].nunique())"
   ]
  },
  {
   "cell_type": "code",
   "execution_count": 5,
   "id": "720c24f9",
   "metadata": {},
   "outputs": [
    {
     "name": "stdout",
     "output_type": "stream",
     "text": [
      "전체 샘플수 : 98360\n"
     ]
    }
   ],
   "source": [
    "data.drop_duplicates(subset = ['text'], inplace=True)\n",
    "print('전체 샘플수 :', (len(data)))"
   ]
  },
  {
   "cell_type": "code",
   "execution_count": 6,
   "id": "865bc4da",
   "metadata": {},
   "outputs": [
    {
     "name": "stdout",
     "output_type": "stream",
     "text": [
      "headlines    0\n",
      "text         0\n",
      "dtype: int64\n"
     ]
    }
   ],
   "source": [
    "print(data.isnull().sum())"
   ]
  },
  {
   "cell_type": "code",
   "execution_count": 7,
   "id": "42083c94",
   "metadata": {},
   "outputs": [
    {
     "name": "stdout",
     "output_type": "stream",
     "text": [
      "정규화 사전의 수:  120\n"
     ]
    }
   ],
   "source": [
    "contractions = {\"ain't\": \"is not\", \"aren't\": \"are not\",\"can't\": \"cannot\", \"'cause\": \"because\", \"could've\": \"could have\", \"couldn't\": \"could not\",\n",
    "                           \"didn't\": \"did not\",  \"doesn't\": \"does not\", \"don't\": \"do not\", \"hadn't\": \"had not\", \"hasn't\": \"has not\", \"haven't\": \"have not\",\n",
    "                           \"he'd\": \"he would\",\"he'll\": \"he will\", \"he's\": \"he is\", \"how'd\": \"how did\", \"how'd'y\": \"how do you\", \"how'll\": \"how will\", \"how's\": \"how is\",\n",
    "                           \"I'd\": \"I would\", \"I'd've\": \"I would have\", \"I'll\": \"I will\", \"I'll've\": \"I will have\",\"I'm\": \"I am\", \"I've\": \"I have\", \"i'd\": \"i would\",\n",
    "                           \"i'd've\": \"i would have\", \"i'll\": \"i will\",  \"i'll've\": \"i will have\",\"i'm\": \"i am\", \"i've\": \"i have\", \"isn't\": \"is not\", \"it'd\": \"it would\",\n",
    "                           \"it'd've\": \"it would have\", \"it'll\": \"it will\", \"it'll've\": \"it will have\",\"it's\": \"it is\", \"let's\": \"let us\", \"ma'am\": \"madam\",\n",
    "                           \"mayn't\": \"may not\", \"might've\": \"might have\",\"mightn't\": \"might not\",\"mightn't've\": \"might not have\", \"must've\": \"must have\",\n",
    "                           \"mustn't\": \"must not\", \"mustn't've\": \"must not have\", \"needn't\": \"need not\", \"needn't've\": \"need not have\",\"o'clock\": \"of the clock\",\n",
    "                           \"oughtn't\": \"ought not\", \"oughtn't've\": \"ought not have\", \"shan't\": \"shall not\", \"sha'n't\": \"shall not\", \"shan't've\": \"shall not have\",\n",
    "                           \"she'd\": \"she would\", \"she'd've\": \"she would have\", \"she'll\": \"she will\", \"she'll've\": \"she will have\", \"she's\": \"she is\",\n",
    "                           \"should've\": \"should have\", \"shouldn't\": \"should not\", \"shouldn't've\": \"should not have\", \"so've\": \"so have\",\"so's\": \"so as\",\n",
    "                           \"this's\": \"this is\",\"that'd\": \"that would\", \"that'd've\": \"that would have\", \"that's\": \"that is\", \"there'd\": \"there would\",\n",
    "                           \"there'd've\": \"there would have\", \"there's\": \"there is\", \"here's\": \"here is\",\"they'd\": \"they would\", \"they'd've\": \"they would have\",\n",
    "                           \"they'll\": \"they will\", \"they'll've\": \"they will have\", \"they're\": \"they are\", \"they've\": \"they have\", \"to've\": \"to have\",\n",
    "                           \"wasn't\": \"was not\", \"we'd\": \"we would\", \"we'd've\": \"we would have\", \"we'll\": \"we will\", \"we'll've\": \"we will have\", \"we're\": \"we are\",\n",
    "                           \"we've\": \"we have\", \"weren't\": \"were not\", \"what'll\": \"what will\", \"what'll've\": \"what will have\", \"what're\": \"what are\",\n",
    "                           \"what's\": \"what is\", \"what've\": \"what have\", \"when's\": \"when is\", \"when've\": \"when have\", \"where'd\": \"where did\", \"where's\": \"where is\",\n",
    "                           \"where've\": \"where have\", \"who'll\": \"who will\", \"who'll've\": \"who will have\", \"who's\": \"who is\", \"who've\": \"who have\",\n",
    "                           \"why's\": \"why is\", \"why've\": \"why have\", \"will've\": \"will have\", \"won't\": \"will not\", \"won't've\": \"will not have\",\n",
    "                           \"would've\": \"would have\", \"wouldn't\": \"would not\", \"wouldn't've\": \"would not have\", \"y'all\": \"you all\",\n",
    "                           \"y'all'd\": \"you all would\",\"y'all'd've\": \"you all would have\",\"y'all're\": \"you all are\",\"y'all've\": \"you all have\",\n",
    "                           \"you'd\": \"you would\", \"you'd've\": \"you would have\", \"you'll\": \"you will\", \"you'll've\": \"you will have\",\n",
    "                           \"you're\": \"you are\", \"you've\": \"you have\"}\n",
    "\n",
    "print(\"정규화 사전의 수: \", len(contractions))"
   ]
  },
  {
   "cell_type": "code",
   "execution_count": 8,
   "id": "a4edd08e",
   "metadata": {},
   "outputs": [
    {
     "name": "stdout",
     "output_type": "stream",
     "text": [
      "불용어 개수 : 179\n",
      "['i', 'me', 'my', 'myself', 'we', 'our', 'ours', 'ourselves', 'you', \"you're\", \"you've\", \"you'll\", \"you'd\", 'your', 'yours', 'yourself', 'yourselves', 'he', 'him', 'his', 'himself', 'she', \"she's\", 'her', 'hers', 'herself', 'it', \"it's\", 'its', 'itself', 'they', 'them', 'their', 'theirs', 'themselves', 'what', 'which', 'who', 'whom', 'this', 'that', \"that'll\", 'these', 'those', 'am', 'is', 'are', 'was', 'were', 'be', 'been', 'being', 'have', 'has', 'had', 'having', 'do', 'does', 'did', 'doing', 'a', 'an', 'the', 'and', 'but', 'if', 'or', 'because', 'as', 'until', 'while', 'of', 'at', 'by', 'for', 'with', 'about', 'against', 'between', 'into', 'through', 'during', 'before', 'after', 'above', 'below', 'to', 'from', 'up', 'down', 'in', 'out', 'on', 'off', 'over', 'under', 'again', 'further', 'then', 'once', 'here', 'there', 'when', 'where', 'why', 'how', 'all', 'any', 'both', 'each', 'few', 'more', 'most', 'other', 'some', 'such', 'no', 'nor', 'not', 'only', 'own', 'same', 'so', 'than', 'too', 'very', 's', 't', 'can', 'will', 'just', 'don', \"don't\", 'should', \"should've\", 'now', 'd', 'll', 'm', 'o', 're', 've', 'y', 'ain', 'aren', \"aren't\", 'couldn', \"couldn't\", 'didn', \"didn't\", 'doesn', \"doesn't\", 'hadn', \"hadn't\", 'hasn', \"hasn't\", 'haven', \"haven't\", 'isn', \"isn't\", 'ma', 'mightn', \"mightn't\", 'mustn', \"mustn't\", 'needn', \"needn't\", 'shan', \"shan't\", 'shouldn', \"shouldn't\", 'wasn', \"wasn't\", 'weren', \"weren't\", 'won', \"won't\", 'wouldn', \"wouldn't\"]\n"
     ]
    }
   ],
   "source": [
    "print('불용어 개수 :', len(stopwords.words('english') ))\n",
    "print(stopwords.words('english'))"
   ]
  },
  {
   "cell_type": "code",
   "execution_count": 9,
   "id": "99282a98",
   "metadata": {},
   "outputs": [],
   "source": [
    "def preprocess_sentence(sentence, remove_stopwords=True):\n",
    "    sentence = sentence.lower() # 텍스트 소문자화\n",
    "    sentence = BeautifulSoup(sentence, \"lxml\").text # <br />, <a href = ...> 등의 html 태그 제거\n",
    "    sentence = re.sub(r'\\([^)]*\\)', '', sentence) # 괄호로 닫힌 문자열 (...) 제거 Ex) my husband (and myself!) for => my husband for\n",
    "    sentence = re.sub('\"','', sentence) # 쌍따옴표 \" 제거\n",
    "    sentence = ' '.join([contractions[t] if t in contractions else t for t in sentence.split(\" \")]) # 약어 정규화\n",
    "    sentence = re.sub(r\"'s\\b\",\"\", sentence) # 소유격 제거. Ex) roland's -> roland\n",
    "    sentence = re.sub(\"[^a-zA-Z]\", \" \", sentence) # 영어 외 문자(숫자, 특수문자 등) 공백으로 변환\n",
    "    sentence = re.sub('[m]{2,}', 'mm', sentence) # m이 3개 이상이면 2개로 변경. Ex) ummmmmmm yeah -> umm yeah\n",
    "    \n",
    "    # 불용어 제거 (Text)\n",
    "    if remove_stopwords:\n",
    "        tokens = ' '.join(word for word in sentence.split() if not word in stopwords.words('english') if len(word) > 1)\n",
    "    # 불용어 미제거 (Summary)\n",
    "    else:\n",
    "        tokens = ' '.join(word for word in sentence.split() if len(word) > 1)\n",
    "    return tokens"
   ]
  },
  {
   "cell_type": "code",
   "execution_count": 10,
   "id": "1f6b42bb",
   "metadata": {},
   "outputs": [
    {
     "name": "stdout",
     "output_type": "stream",
     "text": [
      "text:  everything bought great infact ordered twice third ordered wasfor mother father\n",
      "summary: great way to start the day\n"
     ]
    }
   ],
   "source": [
    "temp_text = 'Everything I bought was great, infact I ordered twice and the third ordered was<br />for my mother and father.'\n",
    "temp_summary = 'Great way to start (or finish) the day!!!'\n",
    "\n",
    "print(\"text: \", preprocess_sentence(temp_text))\n",
    "print(\"summary:\", preprocess_sentence(temp_summary, False))"
   ]
  },
  {
   "cell_type": "code",
   "execution_count": 11,
   "id": "a673fe4c",
   "metadata": {},
   "outputs": [
    {
     "name": "stdout",
     "output_type": "stream",
     "text": [
      "Text 전처리 후 결과:  ['saurav kant alumnus upgrad iiit pg program machine learning artificial intelligence sr systems engineer infosys almost years work experience program upgrad degree career support helped transition data scientist tech mahindra salary hike upgrad online power learning powered lakh careers', 'kunal shah credit card bill payment platform cred gave users chance win free food swiggy one year pranav kaushik delhi techie bagged reward spending cred coins users get one cred coin per rupee bill paid used avail rewards brands like ixigo bookmyshow ubereats cult fit', 'new zealand defeated india wickets fourth odi hamilton thursday win first match five match odi series india lost international match rohit sharma captaincy consecutive victories dating back march match witnessed india getting seventh lowest total odi cricket history', 'aegon life iterm insurance plan customers enjoy tax benefits premiums paid save taxes plan provides life cover age years also customers options insure critical illnesses disability accidental death benefit rider life cover age years', 'speaking sexual harassment allegations rajkumar hirani sonam kapoor said known hirani many years true metoo movement get derailed metoo movement always believe woman case need reserve judgment added hirani accused assistant worked sanju']\n"
     ]
    }
   ],
   "source": [
    "clean_text = []\n",
    "for s in data['text']:\n",
    "    clean_text.append(preprocess_sentence(s))\n",
    "\n",
    "# 전처리 후 출력\n",
    "print(\"Text 전처리 후 결과: \", clean_text[:5])"
   ]
  },
  {
   "cell_type": "code",
   "execution_count": 12,
   "id": "526d1cb3",
   "metadata": {},
   "outputs": [
    {
     "name": "stdout",
     "output_type": "stream",
     "text": [
      "Summary 전처리 후 결과:  ['upgrad learner switches to career in ml al with salary hike', 'delhi techie wins free food from swiggy for one year on cred', 'new zealand end rohit sharma led india match winning streak', 'aegon life iterm insurance plan helps customers save tax', 'have known hirani for yrs what if metoo claims are not true sonam']\n"
     ]
    }
   ],
   "source": [
    "clean_headlines = []\n",
    "for s in data['headlines']:\n",
    "    clean_headlines.append(preprocess_sentence(s, False))\n",
    "\n",
    "print(\"Summary 전처리 후 결과: \", clean_headlines[:5])"
   ]
  },
  {
   "cell_type": "code",
   "execution_count": 13,
   "id": "6e2796ac",
   "metadata": {},
   "outputs": [],
   "source": [
    "data['text'] = clean_text\n",
    "data['headlines'] = clean_headlines\n",
    "\n",
    "# 빈 값을 Null 값으로 변환\n",
    "data.replace('', np.nan, inplace=True)"
   ]
  },
  {
   "cell_type": "code",
   "execution_count": 14,
   "id": "9276c46c",
   "metadata": {},
   "outputs": [
    {
     "data": {
      "text/plain": [
       "headlines    0\n",
       "text         0\n",
       "dtype: int64"
      ]
     },
     "execution_count": 14,
     "metadata": {},
     "output_type": "execute_result"
    }
   ],
   "source": [
    "data.isnull().sum()"
   ]
  },
  {
   "cell_type": "code",
   "execution_count": 15,
   "id": "f7deae35",
   "metadata": {},
   "outputs": [
    {
     "name": "stdout",
     "output_type": "stream",
     "text": [
      "전체 샘플수 : 98360\n"
     ]
    }
   ],
   "source": [
    "data.dropna(axis=0, inplace=True)\n",
    "print('전체 샘플수 :', (len(data)))"
   ]
  },
  {
   "cell_type": "code",
   "execution_count": 16,
   "id": "fb5694d4",
   "metadata": {},
   "outputs": [
    {
     "name": "stdout",
     "output_type": "stream",
     "text": [
      "텍스트의 최소 길이 : 1\n",
      "텍스트의 최대 길이 : 60\n",
      "텍스트의 평균 길이 : 35.09968483123221\n",
      "요약의 최소 길이 : 1\n",
      "요약의 최대 길이 : 16\n",
      "요약의 평균 길이 : 9.299532330215534\n"
     ]
    },
    {
     "data": {
      "image/png": "[encoded data removed]",
      "text/plain": [
       "<Figure size 432x288 with 2 Axes>"
      ]
     },
     "metadata": {
      "needs_background": "light"
     },
     "output_type": "display_data"
    },
    {
     "data": {
      "image/png": "[encoded data removed]",
      "text/plain": [
       "<Figure size 432x288 with 1 Axes>"
      ]
     },
     "metadata": {
      "needs_background": "light"
     },
     "output_type": "display_data"
    },
    {
     "data": {
      "image/png": "[encoded data removed]",
      "text/plain": [
       "<Figure size 432x288 with 1 Axes>"
      ]
     },
     "metadata": {
      "needs_background": "light"
     },
     "output_type": "display_data"
    }
   ],
   "source": [
    "# 길이 분포 출력\n",
    "import matplotlib.pyplot as plt\n",
    "\n",
    "text_len = [len(s.split()) for s in data['text']]\n",
    "headlines_len = [len(s.split()) for s in data['headlines']]\n",
    "\n",
    "print('텍스트의 최소 길이 : {}'.format(np.min(text_len)))\n",
    "print('텍스트의 최대 길이 : {}'.format(np.max(text_len)))\n",
    "print('텍스트의 평균 길이 : {}'.format(np.mean(text_len)))\n",
    "print('요약의 최소 길이 : {}'.format(np.min(headlines_len)))\n",
    "print('요약의 최대 길이 : {}'.format(np.max(headlines_len)))\n",
    "print('요약의 평균 길이 : {}'.format(np.mean(headlines_len)))\n",
    "\n",
    "plt.subplot(1,2,1)\n",
    "plt.boxplot(text_len)\n",
    "plt.title('Text')\n",
    "plt.subplot(1,2,2)\n",
    "plt.boxplot(headlines_len)\n",
    "plt.title('Summary')\n",
    "plt.tight_layout()\n",
    "plt.show()\n",
    "\n",
    "plt.title('Text')\n",
    "plt.hist(text_len, bins=40)\n",
    "plt.xlabel('length of samples')\n",
    "plt.ylabel('number of samples')\n",
    "plt.show()\n",
    "\n",
    "plt.title('Headlines')\n",
    "plt.hist(headlines_len, bins=40)\n",
    "plt.xlabel('length of samples')\n",
    "plt.ylabel('number of samples')\n",
    "plt.show()"
   ]
  },
  {
   "cell_type": "code",
   "execution_count": 17,
   "id": "53f851f4",
   "metadata": {},
   "outputs": [],
   "source": [
    "text_max_len = 50\n",
    "headlines_max_len = 10"
   ]
  },
  {
   "cell_type": "code",
   "execution_count": 18,
   "id": "df26853a",
   "metadata": {},
   "outputs": [],
   "source": [
    "def below_threshold_len(max_len, nested_list):\n",
    "    cnt=0\n",
    "    for s in nested_list:\n",
    "        if(len(s.split()) <= max_len):\n",
    "            cnt+=1\n",
    "    print('전체 샘플 중 길이가 %s 이하인 샘플의 비율: %s'%(max_len, (cnt / len(nested_list))))"
   ]
  },
  {
   "cell_type": "code",
   "execution_count": 19,
   "id": "9192431c",
   "metadata": {},
   "outputs": [
    {
     "name": "stdout",
     "output_type": "stream",
     "text": [
      "전체 샘플 중 길이가 50 이하인 샘플의 비율: 0.9998576657177715\n",
      "전체 샘플 중 길이가 50 이하인 샘플의 비율: 1.0\n"
     ]
    }
   ],
   "source": [
    "below_threshold_len(text_max_len, data['text'])\n",
    "below_threshold_len(text_max_len, data['headlines'])"
   ]
  },
  {
   "cell_type": "code",
   "execution_count": 20,
   "id": "7fc35c02",
   "metadata": {},
   "outputs": [
    {
     "name": "stdout",
     "output_type": "stream",
     "text": [
      "전체 샘플수 : 80280\n"
     ]
    }
   ],
   "source": [
    "data = data[data['text'].apply(lambda x: len(x.split()) <= text_max_len)]\n",
    "data = data[data['headlines'].apply(lambda x: len(x.split()) <= headlines_max_len)]\n",
    "print('전체 샘플수 :', (len(data)))"
   ]
  },
  {
   "cell_type": "code",
   "execution_count": 21,
   "id": "2e5810d1",
   "metadata": {},
   "outputs": [
    {
     "data": {
      "text/html": [
       "<div>\n",
       "<style scoped>\n",
       "    .dataframe tbody tr th:only-of-type {\n",
       "        vertical-align: middle;\n",
       "    }\n",
       "\n",
       "    .dataframe tbody tr th {\n",
       "        vertical-align: top;\n",
       "    }\n",
       "\n",
       "    .dataframe thead th {\n",
       "        text-align: right;\n",
       "    }\n",
       "</style>\n",
       "<table border=\"1\" class=\"dataframe\">\n",
       "  <thead>\n",
       "    <tr style=\"text-align: right;\">\n",
       "      <th></th>\n",
       "      <th>headlines</th>\n",
       "      <th>text</th>\n",
       "      <th>decoder_input</th>\n",
       "      <th>decoder_target</th>\n",
       "    </tr>\n",
       "  </thead>\n",
       "  <tbody>\n",
       "    <tr>\n",
       "      <th>2</th>\n",
       "      <td>new zealand end rohit sharma led india match w...</td>\n",
       "      <td>new zealand defeated india wickets fourth odi ...</td>\n",
       "      <td>sostoken new zealand end rohit sharma led indi...</td>\n",
       "      <td>new zealand end rohit sharma led india match w...</td>\n",
       "    </tr>\n",
       "    <tr>\n",
       "      <th>3</th>\n",
       "      <td>aegon life iterm insurance plan helps customer...</td>\n",
       "      <td>aegon life iterm insurance plan customers enjo...</td>\n",
       "      <td>sostoken aegon life iterm insurance plan helps...</td>\n",
       "      <td>aegon life iterm insurance plan helps customer...</td>\n",
       "    </tr>\n",
       "    <tr>\n",
       "      <th>5</th>\n",
       "      <td>rahat fateh ali khan denies getting notice for...</td>\n",
       "      <td>pakistani singer rahat fateh ali khan denied r...</td>\n",
       "      <td>sostoken rahat fateh ali khan denies getting n...</td>\n",
       "      <td>rahat fateh ali khan denies getting notice for...</td>\n",
       "    </tr>\n",
       "    <tr>\n",
       "      <th>9</th>\n",
       "      <td>cong wins ramgarh bypoll in rajasthan takes to...</td>\n",
       "      <td>congress candidate shafia zubair ramgarh assem...</td>\n",
       "      <td>sostoken cong wins ramgarh bypoll in rajasthan...</td>\n",
       "      <td>cong wins ramgarh bypoll in rajasthan takes to...</td>\n",
       "    </tr>\n",
       "    <tr>\n",
       "      <th>10</th>\n",
       "      <td>up cousins fed human excreta for friendship wi...</td>\n",
       "      <td>two minor cousins uttar pradesh gorakhpur alle...</td>\n",
       "      <td>sostoken up cousins fed human excreta for frie...</td>\n",
       "      <td>up cousins fed human excreta for friendship wi...</td>\n",
       "    </tr>\n",
       "  </tbody>\n",
       "</table>\n",
       "</div>"
      ],
      "text/plain": [
       "                                            headlines  \\\n",
       "2   new zealand end rohit sharma led india match w...   \n",
       "3   aegon life iterm insurance plan helps customer...   \n",
       "5   rahat fateh ali khan denies getting notice for...   \n",
       "9   cong wins ramgarh bypoll in rajasthan takes to...   \n",
       "10  up cousins fed human excreta for friendship wi...   \n",
       "\n",
       "                                                 text  \\\n",
       "2   new zealand defeated india wickets fourth odi ...   \n",
       "3   aegon life iterm insurance plan customers enjo...   \n",
       "5   pakistani singer rahat fateh ali khan denied r...   \n",
       "9   congress candidate shafia zubair ramgarh assem...   \n",
       "10  two minor cousins uttar pradesh gorakhpur alle...   \n",
       "\n",
       "                                        decoder_input  \\\n",
       "2   sostoken new zealand end rohit sharma led indi...   \n",
       "3   sostoken aegon life iterm insurance plan helps...   \n",
       "5   sostoken rahat fateh ali khan denies getting n...   \n",
       "9   sostoken cong wins ramgarh bypoll in rajasthan...   \n",
       "10  sostoken up cousins fed human excreta for frie...   \n",
       "\n",
       "                                       decoder_target  \n",
       "2   new zealand end rohit sharma led india match w...  \n",
       "3   aegon life iterm insurance plan helps customer...  \n",
       "5   rahat fateh ali khan denies getting notice for...  \n",
       "9   cong wins ramgarh bypoll in rajasthan takes to...  \n",
       "10  up cousins fed human excreta for friendship wi...  "
      ]
     },
     "execution_count": 21,
     "metadata": {},
     "output_type": "execute_result"
    }
   ],
   "source": [
    "data['decoder_input'] = data['headlines'].apply(lambda x : 'sostoken '+ x)\n",
    "data['decoder_target'] = data['headlines'].apply(lambda x : x + ' eostoken')\n",
    "data.head()"
   ]
  },
  {
   "cell_type": "code",
   "execution_count": 22,
   "id": "cf3787be",
   "metadata": {},
   "outputs": [
    {
     "name": "stdout",
     "output_type": "stream",
     "text": [
      "=3\n"
     ]
    }
   ],
   "source": [
    "encoder_input = np.array(data['text']) # 인코더의 입력\n",
    "decoder_input = np.array(data['decoder_input']) # 디코더의 입력\n",
    "decoder_target = np.array(data['decoder_target']) # 디코더의 레이블\n",
    "print('=3')"
   ]
  },
  {
   "cell_type": "code",
   "execution_count": 23,
   "id": "3d030206",
   "metadata": {},
   "outputs": [
    {
     "name": "stdout",
     "output_type": "stream",
     "text": [
      "[42355 43617 69647 ... 31192   803 77319]\n"
     ]
    }
   ],
   "source": [
    "indices = np.arange(encoder_input.shape[0])\n",
    "np.random.shuffle(indices)\n",
    "print(indices)"
   ]
  },
  {
   "cell_type": "code",
   "execution_count": 24,
   "id": "9e1e8921",
   "metadata": {},
   "outputs": [
    {
     "name": "stdout",
     "output_type": "stream",
     "text": [
      "=3\n"
     ]
    }
   ],
   "source": [
    "encoder_input = encoder_input[indices]\n",
    "decoder_input = decoder_input[indices]\n",
    "decoder_target = decoder_target[indices]\n",
    "print('=3')"
   ]
  },
  {
   "cell_type": "code",
   "execution_count": 25,
   "id": "9235f174",
   "metadata": {},
   "outputs": [
    {
     "name": "stdout",
     "output_type": "stream",
     "text": [
      "테스트 데이터의 수 : 16056\n"
     ]
    }
   ],
   "source": [
    "n_of_val = int(len(encoder_input)*0.2)\n",
    "print('테스트 데이터의 수 :', n_of_val)"
   ]
  },
  {
   "cell_type": "code",
   "execution_count": 26,
   "id": "5701e180",
   "metadata": {},
   "outputs": [
    {
     "name": "stdout",
     "output_type": "stream",
     "text": [
      "훈련 데이터의 개수 : 64224\n",
      "훈련 레이블의 개수 : 64224\n",
      "테스트 데이터의 개수 : 16056\n",
      "테스트 레이블의 개수 : 16056\n"
     ]
    }
   ],
   "source": [
    "encoder_input_train = encoder_input[:-n_of_val]\n",
    "decoder_input_train = decoder_input[:-n_of_val]\n",
    "decoder_target_train = decoder_target[:-n_of_val]\n",
    "\n",
    "encoder_input_test = encoder_input[-n_of_val:]\n",
    "decoder_input_test = decoder_input[-n_of_val:]\n",
    "decoder_target_test = decoder_target[-n_of_val:]\n",
    "\n",
    "print('훈련 데이터의 개수 :', len(encoder_input_train))\n",
    "print('훈련 레이블의 개수 :', len(decoder_input_train))\n",
    "print('테스트 데이터의 개수 :', len(encoder_input_test))\n",
    "print('테스트 레이블의 개수 :', len(decoder_input_test))"
   ]
  },
  {
   "cell_type": "code",
   "execution_count": 27,
   "id": "3c53cc35",
   "metadata": {},
   "outputs": [],
   "source": [
    "src_tokenizer = Tokenizer()\n",
    "src_tokenizer.fit_on_texts(encoder_input_train)"
   ]
  },
  {
   "cell_type": "code",
   "execution_count": 28,
   "id": "ba4ef002",
   "metadata": {},
   "outputs": [
    {
     "name": "stdout",
     "output_type": "stream",
     "text": [
      "단어 집합(vocabulary)의 크기 : 64988\n",
      "등장 빈도가 6번 이하인 희귀 단어의 수: 44647\n",
      "단어 집합에서 희귀 단어를 제외시킬 경우의 단어 집합의 크기 20341\n",
      "단어 집합에서 희귀 단어의 비율: 68.70037545392995\n",
      "전체 등장 빈도에서 희귀 단어 등장 빈도 비율: 4.020000141706787\n"
     ]
    }
   ],
   "source": [
    "threshold = 7\n",
    "total_cnt = len(src_tokenizer.word_index)\n",
    "rare_cnt, total_freq, rare_freq = 0,0,0\n",
    "\n",
    "for key, value in src_tokenizer.word_counts.items():\n",
    "    total_freq += value\n",
    "    \n",
    "    if (value < threshold):\n",
    "        rare_cnt+=1\n",
    "        rare_freq+=value\n",
    "        \n",
    "print('단어 집합(vocabulary)의 크기 :', total_cnt)\n",
    "print('등장 빈도가 %s번 이하인 희귀 단어의 수: %s'%(threshold - 1, rare_cnt))\n",
    "print('단어 집합에서 희귀 단어를 제외시킬 경우의 단어 집합의 크기 %s'%(total_cnt - rare_cnt))\n",
    "print(\"단어 집합에서 희귀 단어의 비율:\", (rare_cnt / total_cnt)*100)\n",
    "print(\"전체 등장 빈도에서 희귀 단어 등장 빈도 비율:\", (rare_freq / total_freq)*100)"
   ]
  },
  {
   "cell_type": "code",
   "execution_count": 29,
   "id": "85e9c7e2",
   "metadata": {},
   "outputs": [],
   "source": [
    "src_vocab = 20000\n",
    "src_tokenizer = Tokenizer(num_words=src_vocab) # 단어 집합의 크기를 20,000으로 제한\n",
    "src_tokenizer.fit_on_texts(encoder_input_train) # 단어 집합 재생성"
   ]
  },
  {
   "cell_type": "code",
   "execution_count": 30,
   "id": "9e842a27",
   "metadata": {},
   "outputs": [
    {
     "name": "stdout",
     "output_type": "stream",
     "text": [
      "[[196, 1187, 596, 51, 1, 3962, 2146, 2147, 351, 365, 204, 238, 1919, 376, 328, 130, 2146, 6305, 11614, 4077, 413, 2277, 18957, 196, 1, 1570, 10619, 67, 154, 48], [589, 889, 35, 10, 1691, 2833, 455, 2133, 1744, 8315, 2181, 804, 7460, 589, 96, 3288, 11615, 6, 24, 4812, 315, 589, 662, 10, 470, 2133, 1], [554, 689, 8613, 1616, 316, 2550, 1884, 2524, 5381, 36, 415, 157, 3312, 1625, 3245, 1324, 325, 4362, 1616, 18, 522, 662, 1045, 325, 181, 1, 1324, 325, 232, 16863, 1616]]\n"
     ]
    }
   ],
   "source": [
    "# 텍스트 시퀀스를 정수 시퀀스로 변환\n",
    "encoder_input_train = src_tokenizer.texts_to_sequences(encoder_input_train) \n",
    "encoder_input_test = src_tokenizer.texts_to_sequences(encoder_input_test)\n",
    "\n",
    "# 잘 진행되었는지 샘플 출력\n",
    "print(encoder_input_train[:3])"
   ]
  },
  {
   "cell_type": "code",
   "execution_count": 31,
   "id": "089de4cc",
   "metadata": {},
   "outputs": [],
   "source": [
    "tar_tokenizer = Tokenizer()\n",
    "tar_tokenizer.fit_on_texts(decoder_input_train)"
   ]
  },
  {
   "cell_type": "code",
   "execution_count": 32,
   "id": "d3025709",
   "metadata": {},
   "outputs": [
    {
     "name": "stdout",
     "output_type": "stream",
     "text": [
      "단어 집합(vocabulary)의 크기 : 28403\n",
      "등장 빈도가 5번 이하인 희귀 단어의 수: 18920\n",
      "단어 집합에서 희귀 단어를 제외시킬 경우의 단어 집합의 크기 9483\n",
      "단어 집합에서 희귀 단어의 비율: 66.61268175896913\n",
      "전체 등장 빈도에서 희귀 단어 등장 빈도 비율: 5.712086634686499\n"
     ]
    }
   ],
   "source": [
    "threshold = 6\n",
    "total_cnt = len(tar_tokenizer.word_index) # 단어의 수\n",
    "rare_cnt = 0 # 등장 빈도수가 threshold보다 작은 단어의 개수를 카운트\n",
    "total_freq = 0 # 훈련 데이터의 전체 단어 빈도수 총 합\n",
    "rare_freq = 0 # 등장 빈도수가 threshold보다 작은 단어의 등장 빈도수의 총 합\n",
    "\n",
    "# 단어와 빈도수의 쌍(pair)을 key와 value로 받는다.\n",
    "for key, value in tar_tokenizer.word_counts.items():\n",
    "    total_freq = total_freq + value\n",
    "\n",
    "    # 단어의 등장 빈도수가 threshold보다 작으면\n",
    "    if(value < threshold):\n",
    "        rare_cnt = rare_cnt + 1\n",
    "        rare_freq = rare_freq + value\n",
    "\n",
    "print('단어 집합(vocabulary)의 크기 :', total_cnt)\n",
    "print('등장 빈도가 %s번 이하인 희귀 단어의 수: %s'%(threshold - 1, rare_cnt))\n",
    "print('단어 집합에서 희귀 단어를 제외시킬 경우의 단어 집합의 크기 %s'%(total_cnt - rare_cnt))\n",
    "print(\"단어 집합에서 희귀 단어의 비율:\", (rare_cnt / total_cnt)*100)\n",
    "print(\"전체 등장 빈도에서 희귀 단어 등장 빈도 비율:\", (rare_freq / total_freq)*100)"
   ]
  },
  {
   "cell_type": "code",
   "execution_count": 33,
   "id": "4468f9d0",
   "metadata": {},
   "outputs": [
    {
     "name": "stdout",
     "output_type": "stream",
     "text": [
      "input\n",
      "input  [[1, 1408, 4949, 2474, 1601, 13, 43, 610, 8], [1, 271, 691, 36, 1272, 6065, 3, 377, 1771], [1, 4229, 230, 2642, 1656, 75, 9, 4759, 6], [1, 403, 199, 62, 3, 339, 133, 7, 248, 51], [1, 20, 3, 1188, 242, 755, 5, 2028, 692, 3679, 147]]\n",
      "target\n",
      "decoder  [[1408, 4949, 2474, 1601, 13, 43, 610, 8, 2], [271, 691, 36, 1272, 6065, 3, 377, 1771, 2], [4229, 230, 2642, 1656, 75, 9, 4759, 6, 2], [403, 199, 62, 3, 339, 133, 7, 248, 51, 2], [20, 3, 1188, 242, 755, 5, 2028, 692, 3679, 147, 2]]\n"
     ]
    }
   ],
   "source": [
    "tar_vocab = 9000\n",
    "tar_tokenizer = Tokenizer(num_words=tar_vocab) \n",
    "tar_tokenizer.fit_on_texts(decoder_input_train)\n",
    "tar_tokenizer.fit_on_texts(decoder_target_train)\n",
    "\n",
    "# 텍스트 시퀀스를 정수 시퀀스로 변환\n",
    "decoder_input_train = tar_tokenizer.texts_to_sequences(decoder_input_train) \n",
    "decoder_target_train = tar_tokenizer.texts_to_sequences(decoder_target_train)\n",
    "decoder_input_test = tar_tokenizer.texts_to_sequences(decoder_input_test)\n",
    "decoder_target_test = tar_tokenizer.texts_to_sequences(decoder_target_test)\n",
    "\n",
    "# 잘 변환되었는지 확인\n",
    "print('input')\n",
    "print('input ',decoder_input_train[:5])\n",
    "print('target')\n",
    "print('decoder ',decoder_target_train[:5])"
   ]
  },
  {
   "cell_type": "code",
   "execution_count": 34,
   "id": "c6749b13",
   "metadata": {},
   "outputs": [
    {
     "name": "stdout",
     "output_type": "stream",
     "text": [
      "삭제할 훈련 데이터의 개수 : 0\n",
      "삭제할 테스트 데이터의 개수 : 1\n",
      "훈련 데이터의 개수 : 64224\n",
      "훈련 레이블의 개수 : 64224\n",
      "테스트 데이터의 개수 : 16055\n",
      "테스트 레이블의 개수 : 16055\n"
     ]
    }
   ],
   "source": [
    "drop_train = [index for index, sentence in enumerate(decoder_input_train) if len(sentence) == 1]\n",
    "drop_test = [index for index, sentence in enumerate(decoder_input_test) if len(sentence) == 1]\n",
    "\n",
    "print('삭제할 훈련 데이터의 개수 :', len(drop_train))\n",
    "print('삭제할 테스트 데이터의 개수 :', len(drop_test))\n",
    "\n",
    "encoder_input_train = [sentence for index, sentence in enumerate(encoder_input_train) if index not in drop_train]\n",
    "decoder_input_train = [sentence for index, sentence in enumerate(decoder_input_train) if index not in drop_train]\n",
    "decoder_target_train = [sentence for index, sentence in enumerate(decoder_target_train) if index not in drop_train]\n",
    "\n",
    "encoder_input_test = [sentence for index, sentence in enumerate(encoder_input_test) if index not in drop_test]\n",
    "decoder_input_test = [sentence for index, sentence in enumerate(decoder_input_test) if index not in drop_test]\n",
    "decoder_target_test = [sentence for index, sentence in enumerate(decoder_target_test) if index not in drop_test]\n",
    "\n",
    "print('훈련 데이터의 개수 :', len(encoder_input_train))\n",
    "print('훈련 레이블의 개수 :', len(decoder_input_train))\n",
    "print('테스트 데이터의 개수 :', len(encoder_input_test))\n",
    "print('테스트 레이블의 개수 :', len(decoder_input_test))"
   ]
  },
  {
   "cell_type": "code",
   "execution_count": 35,
   "id": "c6777d73",
   "metadata": {},
   "outputs": [],
   "source": [
    "encoder_input_train = pad_sequences(encoder_input_train, maxlen=text_max_len, padding='post')\n",
    "encoder_input_test = pad_sequences(encoder_input_test, maxlen=text_max_len, padding='post')\n",
    "decoder_input_train = pad_sequences(decoder_input_train, maxlen=headlines_max_len, padding='post')\n",
    "decoder_target_train = pad_sequences(decoder_target_train, maxlen=headlines_max_len, padding='post')\n",
    "decoder_input_test = pad_sequences(decoder_input_test, maxlen=headlines_max_len, padding='post')\n",
    "decoder_target_test = pad_sequences(decoder_target_test, maxlen=headlines_max_len, padding='post')"
   ]
  },
  {
   "cell_type": "code",
   "execution_count": 36,
   "id": "29d70428",
   "metadata": {},
   "outputs": [
    {
     "data": {
      "text/plain": [
       "(300,)"
      ]
     },
     "execution_count": 36,
     "metadata": {},
     "output_type": "execute_result"
    }
   ],
   "source": [
    "from urllib.request import urlretrieve, urlopen\n",
    "import gzip\n",
    "import zipfile\n",
    "import gensim\n",
    "from gensim.models import KeyedVectors\n",
    "\n",
    "word2vec_path = os.getenv('HOME') + '/aiffel/sentiment_classification/data/GoogleNews-vectors-negative300.bin.gz'\n",
    "word2vec = KeyedVectors.load_word2vec_format(word2vec_path, binary=True, limit=1000000)\n",
    "vector = word2vec['computer']\n",
    "vector.shape"
   ]
  },
  {
   "cell_type": "code",
   "execution_count": 37,
   "id": "f8162092",
   "metadata": {},
   "outputs": [],
   "source": [
    "word_vector_dim = 300\n",
    "\n",
    "src_embedding_matrix = np.random.randn(src_vocab, word_vector_dim)\n",
    "\n",
    "def get_vector(word):\n",
    "    if word in word2vec:\n",
    "        return word2vec[word]\n",
    "    else:\n",
    "        return None\n",
    "i=0\n",
    "for word, index in src_tokenizer.word_index.items():\n",
    "    # 단어와 맵핑되는 사전 훈련된 임베딩 벡터값\n",
    "    vector_value = get_vector(word)\n",
    "    if vector_value is not None:\n",
    "        src_embedding_matrix[index-1] = vector_value\n",
    "    i+=1\n",
    "    if i == 9000:\n",
    "        break"
   ]
  },
  {
   "cell_type": "code",
   "execution_count": 38,
   "id": "303b4309",
   "metadata": {},
   "outputs": [],
   "source": [
    "tar_embedding_matrix = np.random.randn(tar_vocab, word_vector_dim)\n",
    "\n",
    "i=0\n",
    "for word, index in tar_tokenizer.word_index.items():\n",
    "    # 단어와 맵핑되는 사전 훈련된 임베딩 벡터값\n",
    "    vector_value = get_vector(word)\n",
    "    if vector_value is not None:\n",
    "        tar_embedding_matrix[index-1] = vector_value\n",
    "    i+=1\n",
    "    if i == 9000:\n",
    "        break"
   ]
  },
  {
   "cell_type": "code",
   "execution_count": 39,
   "id": "99430df3",
   "metadata": {},
   "outputs": [],
   "source": [
    "from tensorflow.keras.layers import Input, LSTM, Embedding, Dense, Concatenate, TimeDistributed,Concatenate\n",
    "from tensorflow.keras.models import Model\n",
    "from tensorflow.keras.callbacks import EarlyStopping, ModelCheckpoint\n",
    "from tensorflow.keras.initializers import Constant\n",
    "\n",
    "# 인코더 설계 시작\n",
    "embedding_dim = 128\n",
    "hidden_size = 256\n",
    "\n",
    "# 인코더\n",
    "encoder_inputs = Input(shape=(text_max_len,))\n",
    "\n",
    "# 인코더의 임베딩 층\n",
    "enc_emb = Embedding(src_vocab,\n",
    "                   word_vector_dim,\n",
    "                   embeddings_initializer=Constant(src_embedding_matrix),\n",
    "                   input_length=text_max_len,\n",
    "                   trainable=True)(encoder_inputs)\n",
    "\n",
    "# 인코더의 LSTM 1\n",
    "# encoder_lstm1 = LSTM(hidden_size, return_sequences=True, return_state=True ,dropout = 0.4, recurrent_dropout = 0.4)\n",
    "encoder_lstm1 = LSTM(hidden_size, return_sequences=True, return_state=True ,dropout = 0.4)\n",
    "encoder_output1, state_h1, state_c1 = encoder_lstm1(enc_emb)\n",
    "\n",
    "# 인코더의 LSTM 2\n",
    "# encoder_lstm2 = LSTM(hidden_size, return_sequences=True, return_state=True, dropout=0.4, recurrent_dropout=0.4)\n",
    "encoder_lstm2 = LSTM(hidden_size, return_sequences=True, return_state=True, dropout=0.4)\n",
    "encoder_output2, state_h2, state_c2 = encoder_lstm2(encoder_output1)\n",
    "\n",
    "# 인코더의 LSTM 3\n",
    "# encoder_lstm3 = LSTM(hidden_size, return_state=True, return_sequences=True, dropout=0.4, recurrent_dropout=0.4)\n",
    "encoder_lstm3 = LSTM(hidden_size, return_state=True, return_sequences=True, dropout=0.4)\n",
    "encoder_outputs, state_h, state_c= encoder_lstm3(encoder_output2)"
   ]
  },
  {
   "cell_type": "code",
   "execution_count": 40,
   "id": "1beda05a",
   "metadata": {},
   "outputs": [],
   "source": [
    "# 디코더 설계\n",
    "decoder_inputs = Input(shape=(None,))\n",
    "\n",
    "# 디코더의 임베딩 층\n",
    "dec_emb_layer = Embedding(tar_vocab,\n",
    "                   word_vector_dim,\n",
    "                   embeddings_initializer=Constant(tar_embedding_matrix),\n",
    "                   input_length=headlines_max_len,\n",
    "                   trainable=True)\n",
    "dec_emb = dec_emb_layer(decoder_inputs)\n",
    "\n",
    "# 디코더의 LSTM\n",
    "decoder_lstm = LSTM(hidden_size, return_sequences=True, return_state=True, dropout=0.4)\n",
    "decoder_outputs, _, _ = decoder_lstm(dec_emb, initial_state=[state_h, state_c])"
   ]
  },
  {
   "cell_type": "code",
   "execution_count": 41,
   "id": "9c22f868",
   "metadata": {},
   "outputs": [
    {
     "name": "stdout",
     "output_type": "stream",
     "text": [
      "Model: \"model\"\n",
      "__________________________________________________________________________________________________\n",
      "Layer (type)                    Output Shape         Param #     Connected to                     \n",
      "==================================================================================================\n",
      "input_1 (InputLayer)            [(None, 50)]         0                                            \n",
      "__________________________________________________________________________________________________\n",
      "embedding (Embedding)           (None, 50, 300)      6000000     input_1[0][0]                    \n",
      "__________________________________________________________________________________________________\n",
      "lstm (LSTM)                     [(None, 50, 256), (N 570368      embedding[0][0]                  \n",
      "__________________________________________________________________________________________________\n",
      "input_2 (InputLayer)            [(None, None)]       0                                            \n",
      "__________________________________________________________________________________________________\n",
      "lstm_1 (LSTM)                   [(None, 50, 256), (N 525312      lstm[0][0]                       \n",
      "__________________________________________________________________________________________________\n",
      "embedding_1 (Embedding)         (None, None, 300)    2700000     input_2[0][0]                    \n",
      "__________________________________________________________________________________________________\n",
      "lstm_2 (LSTM)                   [(None, 50, 256), (N 525312      lstm_1[0][0]                     \n",
      "__________________________________________________________________________________________________\n",
      "lstm_3 (LSTM)                   [(None, None, 256),  570368      embedding_1[0][0]                \n",
      "                                                                 lstm_2[0][1]                     \n",
      "                                                                 lstm_2[0][2]                     \n",
      "__________________________________________________________________________________________________\n",
      "dense (Dense)                   (None, None, 9000)   2313000     lstm_3[0][0]                     \n",
      "==================================================================================================\n",
      "Total params: 13,204,360\n",
      "Trainable params: 13,204,360\n",
      "Non-trainable params: 0\n",
      "__________________________________________________________________________________________________\n"
     ]
    }
   ],
   "source": [
    "# 디코더의 출력층\n",
    "decoder_softmax_layer = Dense(tar_vocab, activation='softmax')\n",
    "decoder_softmax_outputs = decoder_softmax_layer(decoder_outputs) \n",
    "\n",
    "# 모델 정의\n",
    "model = Model([encoder_inputs, decoder_inputs], decoder_softmax_outputs)\n",
    "model.summary()"
   ]
  },
  {
   "cell_type": "markdown",
   "id": "0f7707de",
   "metadata": {},
   "source": [
    "# Step 3. 어텐션 메커니즘 사용하기 (추상적 요약)"
   ]
  },
  {
   "cell_type": "code",
   "execution_count": 42,
   "id": "ee4070f4",
   "metadata": {},
   "outputs": [
    {
     "name": "stdout",
     "output_type": "stream",
     "text": [
      "Model: \"model_1\"\n",
      "__________________________________________________________________________________________________\n",
      "Layer (type)                    Output Shape         Param #     Connected to                     \n",
      "==================================================================================================\n",
      "input_1 (InputLayer)            [(None, 50)]         0                                            \n",
      "__________________________________________________________________________________________________\n",
      "embedding (Embedding)           (None, 50, 300)      6000000     input_1[0][0]                    \n",
      "__________________________________________________________________________________________________\n",
      "lstm (LSTM)                     [(None, 50, 256), (N 570368      embedding[0][0]                  \n",
      "__________________________________________________________________________________________________\n",
      "input_2 (InputLayer)            [(None, None)]       0                                            \n",
      "__________________________________________________________________________________________________\n",
      "lstm_1 (LSTM)                   [(None, 50, 256), (N 525312      lstm[0][0]                       \n",
      "__________________________________________________________________________________________________\n",
      "embedding_1 (Embedding)         (None, None, 300)    2700000     input_2[0][0]                    \n",
      "__________________________________________________________________________________________________\n",
      "lstm_2 (LSTM)                   [(None, 50, 256), (N 525312      lstm_1[0][0]                     \n",
      "__________________________________________________________________________________________________\n",
      "lstm_3 (LSTM)                   [(None, None, 256),  570368      embedding_1[0][0]                \n",
      "                                                                 lstm_2[0][1]                     \n",
      "                                                                 lstm_2[0][2]                     \n",
      "__________________________________________________________________________________________________\n",
      "attention_layer (AdditiveAttent (None, None, 256)    256         lstm_3[0][0]                     \n",
      "                                                                 lstm_2[0][0]                     \n",
      "__________________________________________________________________________________________________\n",
      "concat_layer (Concatenate)      (None, None, 512)    0           lstm_3[0][0]                     \n",
      "                                                                 attention_layer[0][0]            \n",
      "__________________________________________________________________________________________________\n",
      "dense_1 (Dense)                 (None, None, 9000)   4617000     concat_layer[0][0]               \n",
      "==================================================================================================\n",
      "Total params: 15,508,616\n",
      "Trainable params: 15,508,616\n",
      "Non-trainable params: 0\n",
      "__________________________________________________________________________________________________\n"
     ]
    }
   ],
   "source": [
    "from tensorflow.keras.layers import AdditiveAttention\n",
    "\n",
    "# 어텐션 층(어텐션 함수)\n",
    "attn_layer = AdditiveAttention(name='attention_layer')\n",
    "\n",
    "# 인코더와 디코더의 모든 time step의 hidden state를 어텐션 층에 전달하고 결과를 리턴\n",
    "attn_out = attn_layer([decoder_outputs, encoder_outputs])\n",
    "\n",
    "\n",
    "# 어텐션의 결과와 디코더의 hidden state들을 연결\n",
    "decoder_concat_input = Concatenate(axis=-1, name='concat_layer')([decoder_outputs, attn_out])\n",
    "\n",
    "# 디코더의 출력층\n",
    "decoder_softmax_layer = Dense(tar_vocab, activation='softmax')\n",
    "decoder_softmax_outputs = decoder_softmax_layer(decoder_concat_input)\n",
    "\n",
    "# 모델 정의\n",
    "model = Model([encoder_inputs, decoder_inputs], decoder_softmax_outputs)\n",
    "model.summary()"
   ]
  },
  {
   "cell_type": "code",
   "execution_count": 43,
   "id": "4ebda346",
   "metadata": {},
   "outputs": [
    {
     "name": "stdout",
     "output_type": "stream",
     "text": [
      "Epoch 1/50\n",
      "251/251 [==============================] - 32s 98ms/step - loss: 6.2332 - val_loss: 5.8525\n",
      "Epoch 2/50\n",
      "251/251 [==============================] - 24s 95ms/step - loss: 5.7383 - val_loss: 5.4150\n",
      "Epoch 3/50\n",
      "251/251 [==============================] - 24s 97ms/step - loss: 5.3035 - val_loss: 5.0761\n",
      "Epoch 4/50\n",
      "251/251 [==============================] - 25s 100ms/step - loss: 4.9849 - val_loss: 4.8558\n",
      "Epoch 5/50\n",
      "251/251 [==============================] - 26s 103ms/step - loss: 4.7292 - val_loss: 4.6950\n",
      "Epoch 6/50\n",
      "251/251 [==============================] - 26s 102ms/step - loss: 4.5153 - val_loss: 4.5257\n",
      "Epoch 7/50\n",
      "251/251 [==============================] - 25s 101ms/step - loss: 4.3290 - val_loss: 4.4232\n",
      "Epoch 8/50\n",
      "251/251 [==============================] - 26s 102ms/step - loss: 4.1655 - val_loss: 4.3359\n",
      "Epoch 9/50\n",
      "251/251 [==============================] - 26s 102ms/step - loss: 4.0226 - val_loss: 4.2709\n",
      "Epoch 10/50\n",
      "251/251 [==============================] - 25s 101ms/step - loss: 3.8932 - val_loss: 4.2010\n",
      "Epoch 11/50\n",
      "251/251 [==============================] - 25s 102ms/step - loss: 3.7724 - val_loss: 4.1585\n",
      "Epoch 12/50\n",
      "251/251 [==============================] - 26s 102ms/step - loss: 3.6645 - val_loss: 4.1233\n",
      "Epoch 13/50\n",
      "251/251 [==============================] - 26s 102ms/step - loss: 3.5663 - val_loss: 4.0958\n",
      "Epoch 14/50\n",
      "251/251 [==============================] - 25s 101ms/step - loss: 3.4737 - val_loss: 4.0675\n",
      "Epoch 15/50\n",
      "251/251 [==============================] - 25s 102ms/step - loss: 3.3872 - val_loss: 4.0384\n",
      "Epoch 16/50\n",
      "251/251 [==============================] - 26s 102ms/step - loss: 3.3047 - val_loss: 4.0246\n",
      "Epoch 17/50\n",
      "251/251 [==============================] - 25s 102ms/step - loss: 3.2321 - val_loss: 4.0093\n",
      "Epoch 18/50\n",
      "251/251 [==============================] - 25s 101ms/step - loss: 3.1639 - val_loss: 4.0037\n",
      "Epoch 19/50\n",
      "251/251 [==============================] - 25s 101ms/step - loss: 3.0947 - val_loss: 3.9955\n",
      "Epoch 20/50\n",
      "251/251 [==============================] - 25s 101ms/step - loss: 3.0294 - val_loss: 3.9921\n",
      "Epoch 21/50\n",
      "251/251 [==============================] - 25s 102ms/step - loss: 2.9694 - val_loss: 3.9886\n",
      "Epoch 22/50\n",
      "251/251 [==============================] - 25s 102ms/step - loss: 2.9133 - val_loss: 3.9862\n",
      "Epoch 23/50\n",
      "251/251 [==============================] - 25s 102ms/step - loss: 2.8598 - val_loss: 3.9855\n",
      "Epoch 24/50\n",
      "251/251 [==============================] - 25s 102ms/step - loss: 2.8088 - val_loss: 3.9863\n",
      "Epoch 25/50\n",
      "251/251 [==============================] - 25s 101ms/step - loss: 2.7586 - val_loss: 3.9904\n",
      "Epoch 00025: early stopping\n"
     ]
    }
   ],
   "source": [
    "model.compile(optimizer='rmsprop', loss='sparse_categorical_crossentropy')\n",
    "es = EarlyStopping(monitor='val_loss', patience=2, verbose=1)\n",
    "history = model.fit(x=[encoder_input_train, decoder_input_train], y=decoder_target_train, \\\n",
    "          validation_data=([encoder_input_test, decoder_input_test], decoder_target_test), \\\n",
    "          batch_size=256, callbacks=[es], epochs=50)"
   ]
  },
  {
   "cell_type": "code",
   "execution_count": 44,
   "id": "8037e765",
   "metadata": {},
   "outputs": [
    {
     "data": {
      "image/png": "[encoded data removed]",
      "text/plain": [
       "<Figure size 432x288 with 1 Axes>"
      ]
     },
     "metadata": {
      "needs_background": "light"
     },
     "output_type": "display_data"
    }
   ],
   "source": [
    "plt.plot(history.history['loss'], label='train')\n",
    "plt.plot(history.history['val_loss'], label='test')\n",
    "plt.legend()\n",
    "plt.show()"
   ]
  },
  {
   "cell_type": "code",
   "execution_count": 45,
   "id": "3c18dedb",
   "metadata": {},
   "outputs": [],
   "source": [
    "src_index_to_word = src_tokenizer.index_word # 원문 단어 집합에서 정수 -> 단어를 얻음\n",
    "tar_word_to_index = tar_tokenizer.word_index # 요약 단어 집합에서 단어 -> 정수를 얻음\n",
    "tar_index_to_word = tar_tokenizer.index_word # 요약 단어 집합에서 정수 -> 단어를 얻음"
   ]
  },
  {
   "cell_type": "code",
   "execution_count": 46,
   "id": "dbe19d4f",
   "metadata": {},
   "outputs": [],
   "source": [
    "# 인코더 설계\n",
    "encoder_model = Model(inputs=encoder_inputs, outputs=[encoder_outputs, state_h, state_c])\n",
    "\n",
    "# 이전 시점의 상태들을 저장하는 텐서\n",
    "decoder_state_input_h = Input(shape=(hidden_size,))\n",
    "decoder_state_input_c = Input(shape=(hidden_size,))\n",
    "\n",
    "dec_emb2 = dec_emb_layer(decoder_inputs)\n",
    "\n",
    "# 문장의 다음 단어를 예측하기 위해서 초기 상태(initial_state)를 이전 시점의 상태로 사용. 이는 뒤의 함수 decode_sequence()에 구현\n",
    "# 훈련 과정에서와 달리 LSTM의 리턴하는 은닉 상태와 셀 상태인 state_h와 state_c를 버리지 않음.\n",
    "decoder_outputs2, state_h2, state_c2 = decoder_lstm(dec_emb2, initial_state=[decoder_state_input_h, decoder_state_input_c])"
   ]
  },
  {
   "cell_type": "code",
   "execution_count": 47,
   "id": "7b4f850d",
   "metadata": {},
   "outputs": [],
   "source": [
    "# 어텐션 함수\n",
    "decoder_hidden_state_input = Input(shape=(text_max_len, hidden_size))\n",
    "attn_out_inf = attn_layer([decoder_outputs2, decoder_hidden_state_input])\n",
    "decoder_inf_concat = Concatenate(axis=-1, name='concat')([decoder_outputs2, attn_out_inf])\n",
    "\n",
    "# 디코더의 출력층\n",
    "decoder_outputs2 = decoder_softmax_layer(decoder_inf_concat) \n",
    "\n",
    "# 최종 디코더 모델\n",
    "decoder_model = Model(\n",
    "    [decoder_inputs] + [decoder_hidden_state_input,decoder_state_input_h, decoder_state_input_c],\n",
    "    [decoder_outputs2] + [state_h2, state_c2])"
   ]
  },
  {
   "cell_type": "code",
   "execution_count": 48,
   "id": "a7ebbfee",
   "metadata": {},
   "outputs": [],
   "source": [
    "def decode_sequence(input_seq):\n",
    "    # 입력으로부터 인코더의 상태를 얻음\n",
    "    e_out, e_h, e_c = encoder_model.predict(input_seq)\n",
    "\n",
    "     # <SOS>에 해당하는 토큰 생성\n",
    "    target_seq = np.zeros((1,1))\n",
    "    target_seq[0, 0] = tar_word_to_index['sostoken']\n",
    "\n",
    "    stop_condition = False\n",
    "    decoded_sentence = ''\n",
    "    while not stop_condition: # stop_condition이 True가 될 때까지 루프 반복\n",
    "\n",
    "        output_tokens, h, c = decoder_model.predict([target_seq] + [e_out, e_h, e_c])\n",
    "        sampled_token_index = np.argmax(output_tokens[0, -1, :])\n",
    "        sampled_token = tar_index_to_word[sampled_token_index]\n",
    "\n",
    "        if (sampled_token!='eostoken'):\n",
    "            decoded_sentence += ' '+sampled_token\n",
    "\n",
    "        #  <eos>에 도달하거나 최대 길이를 넘으면 중단.\n",
    "        if (sampled_token == 'eostoken'  or len(decoded_sentence.split()) >= (headlines_max_len-1)):\n",
    "            stop_condition = True\n",
    "\n",
    "        # 길이가 1인 타겟 시퀀스를 업데이트\n",
    "        target_seq = np.zeros((1,1))\n",
    "        target_seq[0, 0] = sampled_token_index\n",
    "\n",
    "        # 상태를 업데이트 합니다.\n",
    "        e_h, e_c = h, c\n",
    "\n",
    "    return decoded_sentence"
   ]
  },
  {
   "cell_type": "code",
   "execution_count": 49,
   "id": "a9d0e03c",
   "metadata": {},
   "outputs": [],
   "source": [
    "# 원문의 정수 시퀀스를 텍스트 시퀀스로 변환\n",
    "def seq2text(input_seq):\n",
    "    temp=''\n",
    "    for i in input_seq:\n",
    "        if (i!=0):\n",
    "            temp = temp + src_index_to_word[i]+' '\n",
    "    return temp\n",
    "\n",
    "# 요약문의 정수 시퀀스를 텍스트 시퀀스로 변환\n",
    "def seq2summary(input_seq):\n",
    "    temp=''\n",
    "    for i in input_seq:\n",
    "        if ((i!=0 and i!=tar_word_to_index['sostoken']) and i!=tar_word_to_index['eostoken']):\n",
    "            temp = temp + tar_index_to_word[i] + ' '\n",
    "    return temp"
   ]
  },
  {
   "cell_type": "markdown",
   "id": "5053b602",
   "metadata": {},
   "source": [
    "# Step 4. 실제 결과와 요약문 비교하기 (추상적 요약)"
   ]
  },
  {
   "cell_type": "code",
   "execution_count": 50,
   "id": "e3696860",
   "metadata": {},
   "outputs": [
    {
     "name": "stdout",
     "output_type": "stream",
     "text": [
      "원문 : calling pm narendra modi democratically elected leader criticised aimim president asaduddin owaisi asked bjp cm said make us flee say anything pm proclaimed god earlier cm yogi adityanath said owaisi brother flee telangana like nizam bjp elected \n",
      "실제 요약 : has pm modi himself as god asks owaisi \n",
      "예측 요약 :  pm modi calls for remark on his resignation\n",
      "\n",
      "\n",
      "원문 : government waived merchant discount rate debit card upi aadhaar based transactions next two years starting january rate charged merchant bank providing debit credit card services charges reimbursed government banks \n",
      "실제 요약 : no fees on debit card payments of up to \n",
      "예측 요약 :  aadhaar card can be mandatory for all customers uidai\n",
      "\n",
      "\n",
      "원문 : uidai complaint newspaper tribune story alleged breach aadhaar data security act access uidai clarified official statement fir viewed targeting media shooting messenger uidai added absolutely breach aadhaar biometric database said \n",
      "실제 요약 : fir against over act of access uidai \n",
      "예측 요약 :  aadhaar data leak leaked on data breach\n",
      "\n",
      "\n",
      "원문 : awaited oneplus available outlets across india starting st may one avail cashback offers paytm standard chartered axis icici hdfc cards addition sbi cards first touch feel try experience buy \n",
      "실제 요약 : oneplus to be available at outlets starting may \n",
      "예측 요약 :  oneplus to launch program in india\n",
      "\n",
      "\n",
      "원문 : rajkummar rao starrer newton compete films foreign language film category oscars fifth time last six years record countries submitted films consideration th academy awards nominations awards announced january \n",
      "실제 요약 : rajkummar newton to compete against films at oscars \n",
      "예측 요약 :  newton wins newton award in newton in india\n",
      "\n",
      "\n",
      "원문 : editorial global times chinese newspaper said indian products would take another years catch chinese calling india rising star world manufacturing arena editorial stated india long wanted overtake china global manufacturing hub cannot achieved overnight \n",
      "실제 요약 : indian products yrs behind chinese china daily \n",
      "예측 요약 :  india should be china on its own web series\n",
      "\n",
      "\n",
      "원문 : kochi police registered case organisers event kochi attended sunny leone blocking road city hours complaint filed owner mobile store others reported police resort lathi charging control crowd \n",
      "실제 요약 : police file complaint against sunny kochi event organisers \n",
      "예측 요약 :  police officer booked for demanding lakh people\n",
      "\n",
      "\n",
      "원문 : australian batsman david warner said bigger bats assist hitting sixes better misleading warner comment comes icc implemented bat size restrictions starting september added new rules would impact game already changed bats two weeks ago \n",
      "실제 요약 : bigger bats do not help in hitting sixes better warner \n",
      "예측 요약 :  david warner calls for not ball tampering\n",
      "\n",
      "\n",
      "원문 : number dengue chikungunya cases reported delhi hospitals seen massive rise year compared last year per reports number chikungunya cases risen nearly times number dengue cases doubled far year cases reported period \n",
      "실제 요약 : cases rise by times in delhi \n",
      "예측 요약 :  dengue cases reported in delhi this year report\n",
      "\n",
      "\n",
      "원문 : infosys thursday named ravi venkatesan former chairman microsoft india co chairman board already independent director appointment comes public disagreement co founder narayana murthy raised concerns company governance pay hikes top executives notably venkatesan infosys board since \n",
      "실제 요약 : infosys names ravi as co chairman post murthy row \n",
      "예측 요약 :  infosys board appoints murthy as chairman\n",
      "\n",
      "\n",
      "원문 : bjp mla uttar pradesh meerut sangeet called taj mahal indian culture monument built traitors added creator taj mahal imprisoned father wanted wipe hindus people part history sad change history \n",
      "실제 요약 : taj mahal on indian culture bjp leader sangeet \n",
      "예측 요약 :  taj mahal bjp mla receives taj mahal\n",
      "\n",
      "\n",
      "원문 : google parent alphabet thursday reported year year increase revenues million quarter ended september alphabet net income also rose million million last year alphabet shares surged hours trading since company reported third quarter results \n",
      "실제 요약 : google parent alphabet up in \n",
      "예측 요약 :  alphabet profit jumps to crore in march quarter\n",
      "\n",
      "\n",
      "원문 : german astronaut alexander gerst reportedly put finger hole space station soyuz capsule crew members used tape close nasa earlier confirmed two millimetre wide tear leaking oxygen space created minor pressure drop space agency said six member crew featuring three americans two russians gerst safe \n",
      "실제 요약 : astronaut space station leak with finger before using tape \n",
      "예측 요약 :  nasa captures image of iss from iss\n",
      "\n",
      "\n",
      "원문 : india retail inflation rose five month high month march compared february government data released wednesday stated rise due costlier protein items edible non food products like fuel light food inflation february \n",
      "실제 요약 : retail inflation hits month high of in march \n",
      "예측 요약 :  retail inflation hits month low of in october\n",
      "\n",
      "\n",
      "원문 : bengaluru based food delivery startup swiggy appointed former executive rahul first ever chief financial officer rahul worked years joining singapore based business company chartered accountant qualification also worked wipro \n",
      "실제 요약 : swiggy appoints former exec as its first ever cfo \n",
      "예측 요약 :  swiggy to get its first truck unit for years\n",
      "\n",
      "\n",
      "원문 : three days left thomas cook flagship holiday sale great indian sale started september offers flat holidays himachal maldives sri lanka flat discount trips singapore bali dubai thailand mauritius customers also get additional cashback icici bank credit cards \n",
      "실제 요약 : thomas cook grand indian holiday sale to end in days \n",
      "예측 요약 :  to sell rafale to buy air india\n",
      "\n",
      "\n",
      "원문 : taxis operating mumbai chhatrapati shivaji maharaj international airport went flash strike friday airport authorities reduced parking space allotted taxi drivers took part strike stopped taking pre paid bookings also demanded exclusive parking spots airport \n",
      "실제 요약 : taxis on strike at mumbai international airport \n",
      "예측 요약 :  airport gets its security check in delhi airport\n",
      "\n",
      "\n",
      "원문 : reporting first ever quarterly loss january march quarter axis bank posted decline june quarter profit crore private lender net interest income core income operations increased crore provisions bad loans fell crore crore previous quarter \n",
      "실제 요약 : axis bank june quarter profit down to crore \n",
      "예측 요약 :  kotak mahindra posts first ever quarterly loss of crore\n",
      "\n",
      "\n",
      "원문 : year old woman gujarat travelled long distance trains three days without food water escape torture laws police said admitted hospital maharashtra found unconscious train woman claimed married wish husband laws tortured mentally \n",
      "실제 요약 : woman spends days in trains to escape in laws torture \n",
      "예측 요약 :  woman falls into gorge after being falls into gorge\n",
      "\n",
      "\n",
      "원문 : china tuesday announced plans link economic corridor pakistan belt road initiative involving india part china initiative link europe asia notably india raised concerns china pakistan economic corridor passes pok threat sovereignty \n",
      "실제 요약 : china to link pak economic corridor to indian project \n",
      "예측 요약 :  china to launch military aid to china\n",
      "\n",
      "\n",
      "원문 : uttar pradesh special task force arrested four people recovered smartphones worth crore robbed gang accused belong official said july gang looted truck carrying smartphones added later arrested nine members gang relation case \n",
      "실제 요약 : phones worth cr recovered in up arrested \n",
      "예측 요약 :  up held for stealing fake notes worth cr\n",
      "\n",
      "\n",
      "원문 : congress suspended party youth leader mohammed son congress mla na six years friends allegedly beat youth bengaluru saturday assaulted victim stretching feet towards table sitting reports said fir registered ten others \n",
      "실제 요약 : congress suspends youth leader for years for thrashing man \n",
      "예측 요약 :  congress leader son shot dead in mp\n",
      "\n",
      "\n",
      "원문 : german football fan created flag using women undergarments black red yellow show support german world cup team michael installed flag bicycle initially concerned people would find indecent caused sensation everything perfect said \n",
      "실제 요약 : fan designs german flag with women underwear for world cup \n",
      "예측 요약 :  fans chant wc match winning pitch in match\n",
      "\n",
      "\n",
      "원문 : russia conducted large scale military exercises mediterranean sea near syria amid recent tensions us syrian province idlib drills conducted shores syria province involved participation russian navy well air force russia claimed us deploying additional military assets towards syria \n",
      "실제 요약 : russia conducts drills near syria amid tensions with us \n",
      "예측 요약 :  russia warns us against air force near syria\n",
      "\n",
      "\n",
      "원문 : padmaavat director sanjay leela bhansali said gave note finished filming jauhar scene overwhelmed handled scene added sure token appreciation valuable precious entire remuneration got film \n",
      "실제 요약 : gave deepika after padmaavat scene bhansali \n",
      "예측 요약 :  my padmavati was not an for my life sanjay\n",
      "\n",
      "\n",
      "원문 : upgraded version indigenous rocket successfully test fired proof experimental establishment odisha wednesday two rounds tests conducted rounds planned earlier version rocket new rocket includes guidance navigation control kit \n",
      "실제 요약 : indigenous rocket test fired successfully \n",
      "예측 요약 :  isro test fires satellite for st time in years\n",
      "\n",
      "\n",
      "원문 : us monday imposed sanctions venezuelan president nicol maduro response country constituent assembly elections sanctions freeze maduro assets us jurisdiction prohibit us persons business notably million venezuelans voted symbolic election setting assembly expected expand maduro powers \n",
      "실제 요약 : us imposes sanctions on venezuela prez in response to polls \n",
      "예측 요약 :  us sanctions against venezuela for sanctions\n",
      "\n",
      "\n",
      "원문 : delhi high court sentenced ex congress leader sajjan kumar life imprisonment involvement anti sikh riots punjab cm captain amarinder singh termed case justice finally delivered statement issued office said cm however reiterated stand neither congress party gandhi family role play rioting \n",
      "실제 요약 : justice delivered punjab cm on sajjan kumar verdict \n",
      "예측 요약 :  congress leader arrested for yrs in punjab\n",
      "\n",
      "\n",
      "원문 : french cosmetics firm al friday said buying canadian beauty technology company undisclosed amount toronto based startup employs nearly people allows smartphone users try buy makeup using artificial intelligence augmented reality louis vuitton parent lvmh also uses technology \n",
      "실제 요약 : or al acquires beauty company \n",
      "예측 요약 :  firm offers to make million for its customers\n",
      "\n",
      "\n",
      "원문 : google owned video sharing platform youtube ceo susan wojcicki revealed users watch million hours youtube tv screens every day blog post also revealed platform billion monthly active users overall interactions likes comments chats grew year year added \n",
      "실제 요약 : youtube videos watched for million hours ceo \n",
      "예측 요약 :  youtube to let users share location on day\n",
      "\n",
      "\n",
      "원문 : speeding audi car hit shared auto bystanders coimbatore tamil nadu wednesday killing six people car owner found unconscious car identified owner college city died accident included four men two women one college student \n",
      "실제 요약 : college owner speeding audi hits auto killing in tn \n",
      "예측 요약 :  driver dies after being crashes into truck in delhi\n",
      "\n",
      "\n",
      "원문 : actress anushka sharma shared video wedding india cricket team captain virat kohli occasion st marriage anniversary tuesday heaven sense time passing heaven marry good man wrote anushka virat got married last year italy \n",
      "실제 요약 : anushka shares st official wedding video on marriage anniversary \n",
      "예측 요약 :  anushka sharma shares video of anushka sharma\n",
      "\n",
      "\n",
      "원문 : production held maruti suzuki manesar factory thursday morning leopard spotted cctv footage factory premises seven member team deployed rescue leopard gurugram wildlife vinod kumar said unable spot leopard plant processing unit basement dark added \n",
      "실제 요약 : leopard spotted at maruti suzuki factory \n",
      "예측 요약 :  vehicle rams into crowd in bengaluru\n",
      "\n",
      "\n",
      "원문 : ojha purple cap taking wickets ipl went unsold third straight ipl auction sunday ojha base price lakh year compared lakh last year left arm spinner represented chargers mumbai indians taken wickets ipl matches \n",
      "실제 요약 : ipl purple cap winner goes unsold for rd straight year \n",
      "예측 요약 :  ipl auction has lost ipl auction in ipl auction\n",
      "\n",
      "\n",
      "원문 : material engineers working european space agency printed bricks simulated lunar dust solar team built cubic cm brick five hours focusing sunlight lunar material layer layer technique could improvised build colonies moon said esa \n",
      "실제 요약 : engineers print bricks out of \n",
      "예측 요약 :  solar wind solar wind to be made\n",
      "\n",
      "\n",
      "원문 : supreme court issued notice centre ban sale cattle slaughter sought response within two weeks court served notice based two pils stating order unconstitutional violated fundamental rights including freedom conscience religion right livelihood \n",
      "실제 요약 : sc issues notice to centre over ban on cattle sale \n",
      "예측 요약 :  sc bans centre ban on cattle slaughter in\n",
      "\n",
      "\n",
      "원문 : senior us presidential adviser stephen miller got argument reporter statue liberty poem inscribed statue reporter claimed speaking english required become immigrant administration new policy favours miller responded poem part original statue liberty \n",
      "실제 요약 : video trump aide with journo over statue of \n",
      "예측 요약 :  who is the behind the wax statue of\n",
      "\n",
      "\n",
      "원문 : us based engineers developed nano optical fibre sensitive enough hear beating heart muscle cells feel forces generated swimming bacteria intensity light reflected fibre placed cell solutions indicates sound force strength researchers aim improve fibre listening capability create ultra sensitive biological \n",
      "실제 요약 : nano fibre can hear heart cells beat feel forces \n",
      "예측 요약 :  scientists develop self healing self driving\n",
      "\n",
      "\n",
      "원문 : recently appointed interlocutor talks dineshwar sharma monday said peace must restored kashmir talk people effort bring solution sharma initiate sustained dialogue state elected representatives political parties different organisations understand legitimate aspirations people \n",
      "실제 요약 : will talk to all people in for peace govt \n",
      "예측 요약 :  will not allow independence to solve defence secy\n",
      "\n",
      "\n",
      "원문 : korean air employees wore masks hide faces protest company founding family airline chairman slammed bad behaviour daughters cho yang ho elder daughter reportedly lost temper way served younger daughter accused throwing drink people meeting \n",
      "실제 요약 : airline employees wear masks to protest against founders \n",
      "예측 요약 :  airline issues fatwa against airline over alcohol\n",
      "\n",
      "\n",
      "원문 : uk based researchers discovered new marine predatory mechanism called involves attacking prey eaten snatch meal behaviour combination direct behaviour like case distracting lions steal kill researchers observed sea preferred eat recently \n",
      "실제 요약 : marine scientists discover new predatory behaviour \n",
      "예측 요약 :  scientists identify genes to study\n",
      "\n",
      "\n",
      "원문 : man us claimed one apple airpods started emitting white smoke inside ear using gym claimed removed placed gym equipment went seek help however return saw traces flame damage \n",
      "실제 요약 : us man claims apple airpods smoke in ear \n",
      "예측 요약 :  apple responds to us engineer as its machine\n",
      "\n",
      "\n",
      "원문 : japanese monk sued temple lakh citing heavy workload monk working temple nearly years claimed became depressed result working non stop attending tourists lawsuit claimed monk forced perform paid labour beyond spiritual duties \n",
      "실제 요약 : japanese monk sues temple for lakh over heavy \n",
      "예측 요약 :  japanese village of mn stolen from japanese temple\n",
      "\n",
      "\n",
      "원문 : sri lanka tuesday imposed day nation wide state emergency due clashes buddhist muslim communities kandy district move aimed preventing spread violence parts country government spokesperson said government warned take stern action instigating violence social media \n",
      "실제 요약 : sri lanka imposes state of emergency over communal violence \n",
      "예측 요약 :  sri lanka sri lanka to stop sri lanka\n",
      "\n",
      "\n",
      "원문 : actor ranveer singh portuguese model victoria secret angel sara featured cover th anniversary issue fashion magazine vogue india ranveer sara seen wearing sabyasachi floral collection styled shroff welcome age lines wrote vogue india sharing cover instagram \n",
      "실제 요약 : ranveer and victoria secret angel on vogue india cover \n",
      "예측 요약 :  ranveer singh features on cover of vogue india\n",
      "\n",
      "\n",
      "원문 : china launched first ever ray space telescope also second space telescope thursday study evolution black holes tonne telescope sent orbit km earth telescope would also help scientists study use pulsars spacecraft navigation look gamma ray bursts corresponding gravitational waves \n",
      "실제 요약 : china launches its first ever ray space telescope \n",
      "예측 요약 :  astronomers stars stars to earth\n",
      "\n",
      "\n",
      "원문 : delhi daredevils wicketkeeper batsman rishabh pant took twitter clarify parody news account shared statement attributed claimed angry selectors picking senior indian team pant said never said anything like urged people spread rumours \n",
      "실제 요약 : rishabh pant clarifies after fake statement goes viral \n",
      "예측 요약 :  am not crime against me says vijay sharma\n",
      "\n",
      "\n",
      "원문 : ravi shastri formally named team india head coach till world cup bcci earlier denied reports appointment shastri team director selected ahead virender sehwag tom moody also interviewed post zaheer khan appointed team india bowling coach \n",
      "실제 요약 : ravi shastri formally appointed head coach of team india \n",
      "예측 요약 :  ravi shastri to clash with shastri in india reports\n",
      "\n",
      "\n",
      "원문 : survivor maharashtra elphinstone station stampede said crowd mistook vendor phool gir gaya comment gir gaya survivor said might caused stampede senior railway official stated yet ascertain sole cause mishap \n",
      "실제 요약 : mob gir gaya as maha stampede survivor \n",
      "예측 요약 :  maharashtra police to stop people in mumbai\n",
      "\n",
      "\n",
      "원문 : philippe coutinho recently became world second expensive footballer made debut barcelona win copa del rey thursday former liverpool player made million move earlier month replaced barcelona captain andr iniesta minute mark match saw first half goals luis suarez lionel messi \n",
      "실제 요약 : world nd costliest player debuts for barcelona in win \n",
      "예측 요약 :  messi becomes world most expensive player at crore\n",
      "\n",
      "\n"
     ]
    }
   ],
   "source": [
    "for i in range(50, 100):\n",
    "    print(\"원문 :\", seq2text(encoder_input_test[i]))\n",
    "    print(\"실제 요약 :\", seq2summary(decoder_input_test[i]))\n",
    "    print(\"예측 요약 :\", decode_sequence(encoder_input_test[i].reshape(1, text_max_len)))\n",
    "    print(\"\\n\")"
   ]
  },
  {
   "cell_type": "markdown",
   "id": "73af2863",
   "metadata": {},
   "source": [
    "# Step 5. Summa을 이용해서 추출적 요약해보기"
   ]
  },
  {
   "cell_type": "code",
   "execution_count": 25,
   "id": "742a2a8d",
   "metadata": {},
   "outputs": [],
   "source": [
    "import requests\n",
    "from summa.summarizer import summarize"
   ]
  },
  {
   "cell_type": "code",
   "execution_count": 26,
   "id": "2ea789f4",
   "metadata": {},
   "outputs": [],
   "source": [
    "urllib.request.urlretrieve(\"https://raw.githubusercontent.com/sunnysai12345/News_Summary/master/news_summary_more.csv\", filename=\"news_summary_more.csv\")\n",
    "s_data = pd.read_csv('news_summary_more.csv', encoding='iso-8859-1')  # data load"
   ]
  },
  {
   "cell_type": "code",
   "execution_count": 27,
   "id": "15c2adc0",
   "metadata": {},
   "outputs": [],
   "source": [
    "s_data.drop_duplicates(subset = ['text'], inplace=True) # 중복값 제거\n",
    "s_data.dropna(axis=0, inplace=True)"
   ]
  },
  {
   "cell_type": "code",
   "execution_count": 28,
   "id": "ee51d0d5",
   "metadata": {},
   "outputs": [
    {
     "data": {
      "text/plain": [
       "'Boeing sales cross $100bn for 1st time in its 102-yr history'"
      ]
     },
     "execution_count": 28,
     "metadata": {},
     "output_type": "execute_result"
    }
   ],
   "source": [
    "s_data.loc[51,'headlines']"
   ]
  },
  {
   "cell_type": "code",
   "execution_count": 31,
   "id": "5967afc8",
   "metadata": {},
   "outputs": [
    {
     "name": "stdout",
     "output_type": "stream",
     "text": [
      "Summary:\n",
      "59 Sreesanth further said the bookie tried dragging him into spot-fixing but he didn't fall for it. \n",
      "\n",
      "Summary:\n",
      "60 The Finance Ministry on Wednesday said the government will present an Interim Budget on February 1. \n",
      "\n",
      "Summary:\n",
      "70 \"WeÃ¢ÂÂve decided to go back to (iPhone prices) more commensurate with...local prices...a year ago,\" Cook added. \n",
      "\n",
      "Summary:\n",
      "78 \"North Korean leaders view nuclear arms as critical to regime survival,\" he added. \n",
      "\n",
      "Summary:\n",
      "79 Further, three aircraft have been temporarily grounded to carry out an engine normalisation exercise, it added. \n",
      "\n",
      "Summary:\n",
      "82 Tanya accused Perera of meeting country's Sports Minister to secure his place in the team. \n",
      "\n",
      "Summary:\n",
      "84 PM Modi then asked his officers to urgently arrange for an ambulance for the cameraman. \n",
      "\n",
      "Summary:\n",
      "92 \"This is an insult to [the] beauty of marriage,\" an Instagram user commented on her post. \n",
      "\n",
      "Summary:\n",
      "98 He said the Opposition is thinking about leading the country but does not have a leader. \n",
      "\n"
     ]
    }
   ],
   "source": [
    "i=50\n",
    "for text in s_data['text'][50:100]:\n",
    "    s = summarize(text, words=8)\n",
    "    if s != '':\n",
    "        print('Summary:')\n",
    "        print(i,s,'\\n')\n",
    "    i+=1"
   ]
  },
  {
   "cell_type": "code",
   "execution_count": 36,
   "id": "663a6aba",
   "metadata": {},
   "outputs": [
    {
     "data": {
      "text/plain": [
       "'Prime Minister Narendra Modi stopped his speech at the inauguration of the new terminal building at Surat airport after observing that a cameraman had fainted. PM Modi then asked his officers to urgently arrange for an ambulance for the cameraman. \"It\\'s good that PM was paying attention to his surroundings during his speech,\" the cameraman later said from a hospital. '"
      ]
     },
     "execution_count": 36,
     "metadata": {},
     "output_type": "execute_result"
    }
   ],
   "source": [
    "s_data.iloc[84,1]"
   ]
  },
  {
   "cell_type": "markdown",
   "id": "6e970569",
   "metadata": {},
   "source": [
    "- seq2seq와 어텐션의 자체의 조합을 좀 더 좋게 수정하는 방법\n",
    "- 빔 서치(beam search), 사전 훈련된 워드 임베딩(pre-trained word embedding)\n",
    "- 인코더 - 디코더 자체의 구조를 새로이 변경한 하는 트랜스포머(Transformer)"
   ]
  },
  {
   "cell_type": "markdown",
   "id": "be311d4b",
   "metadata": {},
   "source": [
    "# 회고\n",
    "\n",
    "text 지문과 headline으로 쓸 문장이 다르기 때문에 decoder와 encoder의 단어사전을 다르게 가져가는 게 특이했음\n",
    "\n",
    "그리고 고정된 벡터에 정보를 압축하여 정보손실이 있을 수 있고, 본질적인 RNN의 문제점으로 Gradient vanishing이 있을 수 있다.\n",
    "\n",
    "그래서 이를 해결하기 위해 Attention layer와 concat시키고 예측하는 시점마다 연관있는 데이터에 더 집중해서 encoder에 들어가는 문장을 다시 한번 검토할 수 있게 만들어준다고 한다.\n",
    "\n",
    "이렇게 기본적인 것들만 해줘도 충분히 성능이 나오기는 했지만 인간의 욕심은 끝이 없다.\n",
    "\n",
    "먼저 사전에 훈련된 embedding vector인 word2vec으로 초기 embedding 값을 설정해주고 다시 확인해보았다"
   ]
  },
  {
   "cell_type": "markdown",
   "id": "1a5ec888",
   "metadata": {},
   "source": [
    "- Absractive 요약\n",
    "\n",
    "| index |구분 기호| Absractive 요약 | Extractive 요약|\n",
    "|---|---|---|---|\n",
    "| 9 | 실제요약 | infosys names ravi as co chairman post murthy row |Banned cricketer Sreesanth has told Supreme Court he initially confessed to Delhi Police about his alleged involvement in 2013 IPL spot-fixing scandal to escape continuous police torture. Sreesanth further said the bookie tried dragging him into spot-fixing but he didn\\'t fall for it. Citing Sreesanth not informing BCCI about fixing approach, the apex court said Sreesanth\\'s conduct \"wasn\\'t good\".|\n",
    "| 9 | 예측요약 |  infosys board appoints murthy as chairman | Sreesanth further said the bookie tried dragging him into spot-fixing but he didn't fall for it.\n",
    "|||\n",
    "|10 |실제요약 | taj mahal on indian culture bjp leader sangeet| The Finance Ministry on Wednesday said the government will present an Interim Budget on February 1. The clarification came amid speculations that a full Budget may be presented during the session. The government recently assigned Piyush Goyal temporary additional charge of the Finance and Corporate Affairs ministries in the absence of Arun Jaitley, who is in the US for treatment.\n",
    "| 10 | 예측요약 |  taj mahal bjp mla receives taj mahal | The Finance Ministry on Wednesday said the government will present an Interim Budget on February 1.|\n",
    "|||\n",
    "| 30 | 실제요약 | youtube videos watched for million hours ceo\n",
    "| 30 | 예측요약 |  youtube to let users share location on day\n",
    "|||\n",
    "| 32 | 실제요약 | anushka shares st official wedding video on marriage anniversary|Sri Lanka all-rounder Thisara Perera has written to Sri Lanka Cricket CEO Ashley de Silva, asking the board to intervene after ODI captain Lasith Malinga\\'s wife Tanya targeted him on Facebook. Tanya accused Perera of meeting country\\'s Sports Minister to secure his place in the team. \"We\\'ve become laughing stock of whole country...because of one person\\'s personal vendetta,\" Perera wrote.\n",
    "| 32 | 예측요약 |  anushka sharma shares video of anushka sharma|Tanya accused Perera of meeting country's Sports Minister to secure his place in the team.\n",
    "|||\n",
    "| 34 |실제요약 | ipl purple cap winner goes unsold for rd straight year |Prime Minister Narendra Modi stopped his speech at the inauguration of the new terminal building at Surat airport after observing that a cameraman had fainted. PM Modi then asked his officers to urgently arrange for an ambulance for the cameraman. \"It\\'s good that PM was paying attention to his surroundings during his speech,\" the cameraman later said from a hospital.\n",
    "| 34 |예측요약 |  ipl auction has lost ipl auction in ipl auction |PM Modi then asked his officers to urgently arrange for an ambulance for the cameraman.\n"
   ]
  },
  {
   "cell_type": "markdown",
   "id": "7ff8694a",
   "metadata": {},
   "source": [
    "불용어와 결측치를 제거하면서 추출적요약과 추상적요약에 사용된 데이터의 index가 맞지않아 위 표의 한줄에 나온 두 요약은 서로 다른 기사를 요약한 것이다.\n",
    "\n",
    "추상적 요약에서는 youtube나 ifosys같이 특정 중요한 단어가 들어가있는 것을 볼 수 있다. 하지만 단어의 중요도에 따라 만들어 진 것이라 그렇게 문법적으로 맞는 문장은 아니다. 인덱스 34와 같이 중간에 어느 정도 잘 맞아떨어지는 부분도 있지만 대부분 완전한 문장을 이루고 있지는 않았다.\n",
    "\n",
    "추출적 요약에서는 추상적 요약과 다르게 당연하게도 문법적으로는 거의 완벽했다. 그런데 본문에 있는 한 줄을 그대로 가져와서 전체 문장을 함축한다고 보기에는 조금 어려움이 있다. 이번 실험에서는 띄어쓰기 기준 최대 60개의 길이를 갖지만, 100개,1000개,10000개로 늘어날 시에 손실되는 정보량이 상당해질 것 같다는 생각이 듬.\n",
    "\n",
    "그래서 뉴스기사와 같이 긴 글에는 문단별로 중요한 내용을 추출하고, 추출한 요약을 통해 추상적 요약으로 headline을 만들면 쪼금 더 내용을 축약해서 만들 수 있지 않을까하는 생각이 들었습니다."
   ]
  },
  {
   "cell_type": "markdown",
   "id": "9a61b868",
   "metadata": {},
   "source": [
    "### 참고 문헌\n",
    "\n",
    "- word2vec\n",
    "https://wikidocs.net/33793"
   ]
  }
 ],
 "metadata": {
  "kernelspec": {
   "display_name": "Python 3 (ipykernel)",
   "language": "python",
   "name": "python3"
  },
  "language_info": {
   "codemirror_mode": {
    "name": "ipython",
    "version": 3
   },
   "file_extension": ".py",
   "mimetype": "text/x-python",
   "name": "python",
   "nbconvert_exporter": "python",
   "pygments_lexer": "ipython3",
   "version": "3.9.7"
  }
 },
 "nbformat": 4,
 "nbformat_minor": 5
}
