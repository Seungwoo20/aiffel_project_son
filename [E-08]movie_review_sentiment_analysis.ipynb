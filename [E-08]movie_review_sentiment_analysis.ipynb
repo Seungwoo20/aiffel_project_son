{
 "cells": [
  {
   "cell_type": "code",
   "execution_count": 169,
   "id": "603f0888",
   "metadata": {},
   "outputs": [],
   "source": [
    "import pandas\n",
    "import konlpy\n",
    "import gensim\n",
    "import numpy as np\n",
    "import warnings\n",
    "warnings.filterwarnings(action='ignore')"
   ]
  },
  {
   "cell_type": "markdown",
   "id": "9d61c6f9",
   "metadata": {},
   "source": [
    "## 01. 데이터 준비와 확인"
   ]
  },
  {
   "cell_type": "code",
   "execution_count": 170,
   "id": "6fef420a",
   "metadata": {},
   "outputs": [
    {
     "data": {
      "text/html": [
       "<div>\n",
       "<style scoped>\n",
       "    .dataframe tbody tr th:only-of-type {\n",
       "        vertical-align: middle;\n",
       "    }\n",
       "\n",
       "    .dataframe tbody tr th {\n",
       "        vertical-align: top;\n",
       "    }\n",
       "\n",
       "    .dataframe thead th {\n",
       "        text-align: right;\n",
       "    }\n",
       "</style>\n",
       "<table border=\"1\" class=\"dataframe\">\n",
       "  <thead>\n",
       "    <tr style=\"text-align: right;\">\n",
       "      <th></th>\n",
       "      <th>id</th>\n",
       "      <th>document</th>\n",
       "      <th>label</th>\n",
       "    </tr>\n",
       "  </thead>\n",
       "  <tbody>\n",
       "    <tr>\n",
       "      <th>0</th>\n",
       "      <td>9976970</td>\n",
       "      <td>아 더빙.. 진짜 짜증나네요 목소리</td>\n",
       "      <td>0</td>\n",
       "    </tr>\n",
       "    <tr>\n",
       "      <th>1</th>\n",
       "      <td>3819312</td>\n",
       "      <td>흠...포스터보고 초딩영화줄....오버연기조차 가볍지 않구나</td>\n",
       "      <td>1</td>\n",
       "    </tr>\n",
       "    <tr>\n",
       "      <th>2</th>\n",
       "      <td>10265843</td>\n",
       "      <td>너무재밓었다그래서보는것을추천한다</td>\n",
       "      <td>0</td>\n",
       "    </tr>\n",
       "    <tr>\n",
       "      <th>3</th>\n",
       "      <td>9045019</td>\n",
       "      <td>교도소 이야기구먼 ..솔직히 재미는 없다..평점 조정</td>\n",
       "      <td>0</td>\n",
       "    </tr>\n",
       "    <tr>\n",
       "      <th>4</th>\n",
       "      <td>6483659</td>\n",
       "      <td>사이몬페그의 익살스런 연기가 돋보였던 영화!스파이더맨에서 늙어보이기만 했던 커스틴 ...</td>\n",
       "      <td>1</td>\n",
       "    </tr>\n",
       "  </tbody>\n",
       "</table>\n",
       "</div>"
      ],
      "text/plain": [
       "         id                                           document  label\n",
       "0   9976970                                아 더빙.. 진짜 짜증나네요 목소리      0\n",
       "1   3819312                  흠...포스터보고 초딩영화줄....오버연기조차 가볍지 않구나      1\n",
       "2  10265843                                  너무재밓었다그래서보는것을추천한다      0\n",
       "3   9045019                      교도소 이야기구먼 ..솔직히 재미는 없다..평점 조정      0\n",
       "4   6483659  사이몬페그의 익살스런 연기가 돋보였던 영화!스파이더맨에서 늙어보이기만 했던 커스틴 ...      1"
      ]
     },
     "execution_count": 170,
     "metadata": {},
     "output_type": "execute_result"
    }
   ],
   "source": [
    "import pandas as pd\n",
    "\n",
    "# 데이터를 읽어봅시다. \n",
    "train_data = pd.read_table('~/aiffel/sentiment_classification/data/ratings_train.txt')\n",
    "test_data = pd.read_table('~/aiffel/sentiment_classification/data/ratings_test.txt')\n",
    "\n",
    "train_data.head()"
   ]
  },
  {
   "cell_type": "code",
   "execution_count": 171,
   "id": "7bef0d9f",
   "metadata": {},
   "outputs": [
    {
     "data": {
      "text/plain": [
       "(150000, 3)"
      ]
     },
     "execution_count": 171,
     "metadata": {},
     "output_type": "execute_result"
    }
   ],
   "source": [
    "temp=train_data.copy()\n",
    "temp.shape"
   ]
  },
  {
   "cell_type": "code",
   "execution_count": 172,
   "id": "15631cca",
   "metadata": {},
   "outputs": [
    {
     "data": {
      "text/plain": [
       "id          0\n",
       "document    5\n",
       "label       0\n",
       "dtype: int64"
      ]
     },
     "execution_count": 172,
     "metadata": {},
     "output_type": "execute_result"
    }
   ],
   "source": [
    "temp.isna().sum()"
   ]
  },
  {
   "cell_type": "code",
   "execution_count": 173,
   "id": "8334f4b7",
   "metadata": {},
   "outputs": [
    {
     "data": {
      "text/html": [
       "<div>\n",
       "<style scoped>\n",
       "    .dataframe tbody tr th:only-of-type {\n",
       "        vertical-align: middle;\n",
       "    }\n",
       "\n",
       "    .dataframe tbody tr th {\n",
       "        vertical-align: top;\n",
       "    }\n",
       "\n",
       "    .dataframe thead th {\n",
       "        text-align: right;\n",
       "    }\n",
       "</style>\n",
       "<table border=\"1\" class=\"dataframe\">\n",
       "  <thead>\n",
       "    <tr style=\"text-align: right;\">\n",
       "      <th></th>\n",
       "      <th>id</th>\n",
       "      <th>document</th>\n",
       "      <th>label</th>\n",
       "    </tr>\n",
       "  </thead>\n",
       "  <tbody>\n",
       "    <tr>\n",
       "      <th>25857</th>\n",
       "      <td>2172111</td>\n",
       "      <td>NaN</td>\n",
       "      <td>1</td>\n",
       "    </tr>\n",
       "    <tr>\n",
       "      <th>55737</th>\n",
       "      <td>6369843</td>\n",
       "      <td>NaN</td>\n",
       "      <td>1</td>\n",
       "    </tr>\n",
       "    <tr>\n",
       "      <th>110014</th>\n",
       "      <td>1034280</td>\n",
       "      <td>NaN</td>\n",
       "      <td>0</td>\n",
       "    </tr>\n",
       "    <tr>\n",
       "      <th>126782</th>\n",
       "      <td>5942978</td>\n",
       "      <td>NaN</td>\n",
       "      <td>0</td>\n",
       "    </tr>\n",
       "    <tr>\n",
       "      <th>140721</th>\n",
       "      <td>1034283</td>\n",
       "      <td>NaN</td>\n",
       "      <td>0</td>\n",
       "    </tr>\n",
       "  </tbody>\n",
       "</table>\n",
       "</div>"
      ],
      "text/plain": [
       "             id document  label\n",
       "25857   2172111      NaN      1\n",
       "55737   6369843      NaN      1\n",
       "110014  1034280      NaN      0\n",
       "126782  5942978      NaN      0\n",
       "140721  1034283      NaN      0"
      ]
     },
     "execution_count": 173,
     "metadata": {},
     "output_type": "execute_result"
    }
   ],
   "source": [
    "temp[temp.isna()['document']==True]"
   ]
  },
  {
   "cell_type": "code",
   "execution_count": 174,
   "id": "9310b274",
   "metadata": {},
   "outputs": [],
   "source": [
    "temp.dropna(how='any',inplace=True)"
   ]
  },
  {
   "cell_type": "code",
   "execution_count": 175,
   "id": "ddd1a5dc",
   "metadata": {},
   "outputs": [
    {
     "data": {
      "text/plain": [
       "(149995, 3)"
      ]
     },
     "execution_count": 175,
     "metadata": {},
     "output_type": "execute_result"
    }
   ],
   "source": [
    "temp.shape"
   ]
  },
  {
   "cell_type": "code",
   "execution_count": 176,
   "id": "ed711d6d",
   "metadata": {},
   "outputs": [
    {
     "data": {
      "text/plain": [
       "(50000, 3)"
      ]
     },
     "execution_count": 176,
     "metadata": {},
     "output_type": "execute_result"
    }
   ],
   "source": [
    "test_data.shape"
   ]
  },
  {
   "cell_type": "code",
   "execution_count": 177,
   "id": "033672fe",
   "metadata": {},
   "outputs": [
    {
     "data": {
      "text/html": [
       "<div>\n",
       "<style scoped>\n",
       "    .dataframe tbody tr th:only-of-type {\n",
       "        vertical-align: middle;\n",
       "    }\n",
       "\n",
       "    .dataframe tbody tr th {\n",
       "        vertical-align: top;\n",
       "    }\n",
       "\n",
       "    .dataframe thead th {\n",
       "        text-align: right;\n",
       "    }\n",
       "</style>\n",
       "<table border=\"1\" class=\"dataframe\">\n",
       "  <thead>\n",
       "    <tr style=\"text-align: right;\">\n",
       "      <th></th>\n",
       "      <th>id</th>\n",
       "      <th>document</th>\n",
       "      <th>label</th>\n",
       "    </tr>\n",
       "  </thead>\n",
       "  <tbody>\n",
       "    <tr>\n",
       "      <th>0</th>\n",
       "      <td>6270596</td>\n",
       "      <td>굳 ㅋ</td>\n",
       "      <td>1</td>\n",
       "    </tr>\n",
       "    <tr>\n",
       "      <th>1</th>\n",
       "      <td>9274899</td>\n",
       "      <td>GDNTOPCLASSINTHECLUB</td>\n",
       "      <td>0</td>\n",
       "    </tr>\n",
       "    <tr>\n",
       "      <th>2</th>\n",
       "      <td>8544678</td>\n",
       "      <td>뭐야 이 평점들은.... 나쁘진 않지만 10점 짜리는 더더욱 아니잖아</td>\n",
       "      <td>0</td>\n",
       "    </tr>\n",
       "    <tr>\n",
       "      <th>3</th>\n",
       "      <td>6825595</td>\n",
       "      <td>지루하지는 않은데 완전 막장임... 돈주고 보기에는....</td>\n",
       "      <td>0</td>\n",
       "    </tr>\n",
       "    <tr>\n",
       "      <th>4</th>\n",
       "      <td>6723715</td>\n",
       "      <td>3D만 아니었어도 별 다섯 개 줬을텐데.. 왜 3D로 나와서 제 심기를 불편하게 하죠??</td>\n",
       "      <td>0</td>\n",
       "    </tr>\n",
       "  </tbody>\n",
       "</table>\n",
       "</div>"
      ],
      "text/plain": [
       "        id                                           document  label\n",
       "0  6270596                                                굳 ㅋ      1\n",
       "1  9274899                               GDNTOPCLASSINTHECLUB      0\n",
       "2  8544678             뭐야 이 평점들은.... 나쁘진 않지만 10점 짜리는 더더욱 아니잖아      0\n",
       "3  6825595                   지루하지는 않은데 완전 막장임... 돈주고 보기에는....      0\n",
       "4  6723715  3D만 아니었어도 별 다섯 개 줬을텐데.. 왜 3D로 나와서 제 심기를 불편하게 하죠??      0"
      ]
     },
     "execution_count": 177,
     "metadata": {},
     "output_type": "execute_result"
    }
   ],
   "source": [
    "test_data.head()"
   ]
  },
  {
   "cell_type": "markdown",
   "id": "c2268c69",
   "metadata": {},
   "source": [
    "## 02. 데이터로더 구성"
   ]
  },
  {
   "cell_type": "code",
   "execution_count": 178,
   "id": "b85fbe74",
   "metadata": {},
   "outputs": [
    {
     "name": "stderr",
     "output_type": "stream",
     "text": [
      "100%|██████████| 145393/145393 [00:16<00:00, 8907.16it/s] \n",
      "100%|██████████| 48852/48852 [00:04<00:00, 10777.22it/s]\n"
     ]
    }
   ],
   "source": [
    "from konlpy.tag import Mecab\n",
    "from konlpy.tag import Okt\n",
    "import numpy as np\n",
    "from collections import Counter\n",
    "from tensorflow.keras.preprocessing.text import Tokenizer\n",
    "from tqdm import tqdm\n",
    "\n",
    "mecab = Mecab()\n",
    "okt = Okt()\n",
    "tokenizer=Tokenizer() # num_words : 최대 단어갯수\n",
    "stopwords = ['의','가','이','은','들','는','좀','잘','걍','과','도','를','으로','자','에','와','한','하다'] # 불용어 list\n",
    "\n",
    "#텍스트 스트링을 사전 인덱스 스트링으로 변환\n",
    "#X_train, y_train, X_test, y_test, word_to_index 리턴하는 함수\n",
    "#def load_data(train_data,test_data):\n",
    "  \n",
    "    #중복값 제거\n",
    "test_data.drop_duplicates(subset='document',inplace=True)\n",
    "train_data.drop_duplicates(subset='document',inplace=True)\n",
    "    \n",
    "    #특수문자 제거 한글,공백만 남겨놈\n",
    "train_data['document'] = train_data['document'].str.replace(\"[^ㄱ-ㅎㅏ-ㅣ가-힣 ]\",\"\")\n",
    "test_data['document'] = test_data['document'].str.replace(\"[^ㄱ-ㅎㅏ-ㅣ가-힣 ]\",\"\")\n",
    "    \n",
    "    # 특수문자, 영어를 제거하기 때문에 공백만 남아 있을 수도 있음.\n",
    "    # 공백을 빈 문자열로 만들어 준다. 그 다음 공백 null 값으로 변경\n",
    "train_data['document'] = train_data['document'].str.replace('^ +',\"\")\n",
    "train_data['document'].replace('', np.nan, inplace=True)\n",
    "    \n",
    "test_data['document'] = test_data['document'].str.replace('^ +',\"\")\n",
    "test_data['document'].replace('', np.nan, inplace=True)\n",
    "    \n",
    "    #NaN 결측치 제거\n",
    "test_data.dropna(how='any',inplace=True)\n",
    "train_data.dropna(how='any',inplace=True)\n",
    "    \n",
    "X_train=[]\n",
    "for sentence in tqdm(train_data['document']):\n",
    "    temp_X = mecab.morphs(sentence) # 형태소 기준 토큰화\n",
    "    #temp_X = okt.morphs(sentence, stem=True) # 형태소 기준 토큰화\n",
    "    temp_X = [word for word in temp_X if not word in stopwords] #불용어(Stopwords) 제거\n",
    "    X_train.append(temp_X)\n",
    "    \n",
    "X_test=[]\n",
    "for sentence in tqdm(test_data['document']):\n",
    "    temp_X = mecab.morphs(sentence) # 형태소 기준 토큰화\n",
    "    #temp_X = okt.morphs(sentence, stem=True) # 형태소 기준 토큰화, stem=True 줄 시 어느정도 단어 정규화 시켜줌 (이런 >> 이렇다) \n",
    "    temp_X = [word for word in temp_X if not word in stopwords] #불용어(Stopwords) 제거\n",
    "    X_test.append(temp_X)\n"
   ]
  },
  {
   "cell_type": "code",
   "execution_count": 179,
   "id": "3435afc7",
   "metadata": {
    "scrolled": true
   },
   "outputs": [],
   "source": [
    "total_data_text = list(X_train) + list(X_test)\n",
    "tokenizer.fit_on_texts(total_data_text)\n",
    "#print(tokenizer.word_index)"
   ]
  },
  {
   "cell_type": "code",
   "execution_count": 180,
   "id": "b68a024f",
   "metadata": {},
   "outputs": [
    {
     "data": {
      "text/plain": [
       "56556"
      ]
     },
     "execution_count": 180,
     "metadata": {},
     "output_type": "execute_result"
    }
   ],
   "source": [
    "len(tokenizer.word_index)"
   ]
  },
  {
   "cell_type": "code",
   "execution_count": 181,
   "id": "162cf7a8",
   "metadata": {},
   "outputs": [
    {
     "name": "stdout",
     "output_type": "stream",
     "text": [
      "단어 집합(vocabulary)의 크기 : 56556\n",
      "등장 빈도가 1번 이하인 희귀 단어의 수: 23843\n",
      "단어 집합에서 희귀 단어의 비율: 42.15821486668081\n",
      "전체 등장 빈도에서 희귀 단어 등장 빈도 비율: 0.889762783412938\n"
     ]
    }
   ],
   "source": [
    "# 단어 빈도수 확인\n",
    "\n",
    "threshold = 2\n",
    "total_cnt = len(tokenizer.word_index)\n",
    "rare_cnt,total_freq, rare_freq=0,0,0\n",
    "\n",
    "for key,value in tokenizer.word_counts.items():  # 단어 : 빈도수 쌍\n",
    "    total_freq += value\n",
    "    \n",
    "    if(value < threshold):\n",
    "        rare_cnt += 1\n",
    "        rare_freq += value\n",
    "        \n",
    "print('단어 집합(vocabulary)의 크기 :',total_cnt)\n",
    "print('등장 빈도가 %s번 이하인 희귀 단어의 수: %s'%(threshold - 1, rare_cnt))\n",
    "print(\"단어 집합에서 희귀 단어의 비율:\", (rare_cnt / total_cnt)*100)\n",
    "print(\"전체 등장 빈도에서 희귀 단어 등장 빈도 비율:\", (rare_freq / total_freq)*100)"
   ]
  },
  {
   "cell_type": "markdown",
   "id": "94d0d569",
   "metadata": {},
   "source": [
    "휘기 단어 비율이 42퍼센트 정도나 됨.\n",
    "\n",
    "근데 전체 등장 빈도에서 휘기 단어 비율 0.8퍼센트 정도밖에 안되니 오히려 이상치로 작용될 수 있다."
   ]
  },
  {
   "cell_type": "code",
   "execution_count": 183,
   "id": "6f84fe7c",
   "metadata": {},
   "outputs": [
    {
     "data": {
      "text/plain": [
       "32713"
      ]
     },
     "execution_count": 183,
     "metadata": {},
     "output_type": "execute_result"
    }
   ],
   "source": [
    "vocab_size = total_cnt - rare_cnt\n",
    "vocab_size"
   ]
  },
  {
   "cell_type": "code",
   "execution_count": 184,
   "id": "dbd52a21",
   "metadata": {},
   "outputs": [],
   "source": [
    "# 정수 인덱스 부여\n",
    "\n",
    "words = np.concatenate(X_train).tolist()  # 1차원으로 합치고 리스트화\n",
    "counter = Counter(words)\n",
    "counter = counter.most_common(vocab_size)# 단어와 그 단어의 빈도 저장\n",
    "vocab = ['<PAD>','<BOS>'] + [key for key, _ in counter]\n",
    "word_to_index = {word:index for index,word in enumerate(vocab)}\n",
    "\n",
    "\n",
    "# 텍스트 스트링을 사전 인덱스 스트링으로 변환\n",
    "def wordlist_to_indexlist(wordlist):\n",
    "    return [word_to_index[word] for word in wordlist if word in word_to_index]\n",
    "    \n",
    "X_train = list(map(wordlist_to_indexlist, X_train))\n",
    "X_test = list(map(wordlist_to_indexlist,X_test))\n",
    "\n",
    "# 라벨 데이터 저장\n",
    "y_train = np.array(list(train_data['label']))\n",
    "y_test = np.array(list(test_data['label']))\n",
    "\n",
    "# 빈도수 적은 단어로만 구성된 문장은 빈 문자열이 될 수 있음.\n",
    "# 따라서 없애준다.\n",
    "drop_train = [idx for idx, sentence in enumerate(X_train) if len(sentence) < 1]\n",
    "    \n",
    "X_train = np.delete(X_train, drop_train, axis=0)\n",
    "y_train = np.delete(y_train, drop_train, axis=0)\n"
   ]
  },
  {
   "cell_type": "code",
   "execution_count": 185,
   "id": "b2df5cd4",
   "metadata": {},
   "outputs": [
    {
     "name": "stdout",
     "output_type": "stream",
     "text": [
      "[[    0     1]\n",
      " [72968 72293]]\n"
     ]
    }
   ],
   "source": [
    "unique_elements, counts_elements = np.unique(y_train, return_counts=True)\n",
    "print(np.asarray((unique_elements, counts_elements)))"
   ]
  },
  {
   "cell_type": "code",
   "execution_count": 186,
   "id": "f34ca38e",
   "metadata": {},
   "outputs": [
    {
     "name": "stdout",
     "output_type": "stream",
     "text": [
      "32715\n"
     ]
    }
   ],
   "source": [
    "# index >> word\n",
    "index_to_word = {index:word for word, index in word_to_index.items()}\n",
    "print(len(index_to_word))"
   ]
  },
  {
   "cell_type": "code",
   "execution_count": 187,
   "id": "1ec2eed3",
   "metadata": {},
   "outputs": [
    {
     "data": {
      "text/plain": [
       "array([list([25, 65, 893, 31, 212, 13, 26, 697]),\n",
       "       list([975, 479, 489, 634, 2, 108, 1552, 46, 862, 947, 9, 36, 362]),\n",
       "       list([17, 190, 28635])], dtype=object)"
      ]
     },
     "execution_count": 187,
     "metadata": {},
     "output_type": "execute_result"
    }
   ],
   "source": [
    "X_train[:3]"
   ]
  },
  {
   "cell_type": "code",
   "execution_count": 188,
   "id": "0068097c",
   "metadata": {},
   "outputs": [],
   "source": [
    "# 단어 인덱스 리스트 벡터화 함수\n",
    "def get_encoded_sentence(sentence,word_to_index):\n",
    "    return [word_to_index['<BOS>']]+[word_to_index[word] for word in sentence if word in word_to_index]\n",
    "\n",
    "# 여러 문장일 시 한번에 단어 인덱스 리스트 벡터로 encode해주는 함수\n",
    "def get_encoded_sentences(sentences, word_to_index):\n",
    "    return [get_encoded_sentence(sentence, word_to_index) for sentence in sentences]\n",
    "\n",
    "# 숫자벡터로 encode된 문장 decoding\n",
    "def get_decoded_sentence(encoded_sentence, index_to_word):\n",
    "    return [index_to_word[index] for index in encoded_sentence if index in index_to_word] # <BOS>제거\n",
    "\n",
    "# 여러문장 한번에 decoding\n",
    "def get_decoded_sentences(encoded_sentences, index_to_word):\n",
    "    return [get_decoded_sentence(encoded_sentence, index_to_word) for encoded_sentence in encoded_sentences]"
   ]
  },
  {
   "cell_type": "code",
   "execution_count": 189,
   "id": "f3196a70",
   "metadata": {},
   "outputs": [
    {
     "name": "stdout",
     "output_type": "stream",
     "text": [
      "[[1, 25, 65, 893, 31, 212, 13, 26, 697], [1, 975, 479, 489, 634, 2, 108, 1552, 46, 862, 947, 9, 36, 362], [1, 17, 190, 28635], [1, 8033, 141, 4132, 275, 83, 11, 3, 50, 3324]]\n"
     ]
    }
   ],
   "source": [
    "X_train_temp= get_decoded_sentences(X_train, index_to_word)\n",
    "X_train = get_encoded_sentences(X_train_temp, word_to_index)\n",
    "\n",
    "X_test_temp= get_decoded_sentences(X_test, index_to_word)\n",
    "X_test = get_encoded_sentences(X_test_temp, word_to_index)\n",
    "\n",
    "print(X_train[:4])"
   ]
  },
  {
   "cell_type": "markdown",
   "id": "83240cbb",
   "metadata": {},
   "source": [
    "## 03. 모델 구성을 위한 데이터 분석및 가공"
   ]
  },
  {
   "cell_type": "code",
   "execution_count": 190,
   "id": "248c5b08",
   "metadata": {},
   "outputs": [
    {
     "name": "stdout",
     "output_type": "stream",
     "text": [
      "문장길이 평균 : 14.658915167969173\n",
      "문장 최대길이 : 84\n",
      "문장길이 표준편차 : 11.34446169766283\n"
     ]
    },
    {
     "data": {
      "image/png": "[encoded data removed]",
      "text/plain": [
       "<Figure size 432x288 with 1 Axes>"
      ]
     },
     "metadata": {
      "needs_background": "light"
     },
     "output_type": "display_data"
    }
   ],
   "source": [
    "# 데이터셋 내 문장 길이 분포\n",
    "\n",
    "import matplotlib.pyplot as plt\n",
    "\n",
    "total_data_text = list(X_train) + list(X_test) # maxlen 값 설정도 모델 성능에 영향을 줌. 전체 데이터 문장 고려\n",
    "num_tokens = [len(tokens) for tokens in total_data_text]\n",
    "num_tokens = np.array(num_tokens) # 계산하기 편하게 numpy로 변환\n",
    "print('문장길이 평균 :',np.mean(num_tokens))\n",
    "print('문장 최대길이 :',np.max(num_tokens))\n",
    "print('문장길이 표준편차 :',np.std(num_tokens))\n",
    "\n",
    "plt.hist([len(review) for review in total_data_text], bins=50)\n",
    "plt.xlabel('length of samples')\n",
    "plt.ylabel('number of samples')\n",
    "plt.show()"
   ]
  },
  {
   "cell_type": "code",
   "execution_count": 191,
   "id": "421af33e",
   "metadata": {},
   "outputs": [
    {
     "name": "stdout",
     "output_type": "stream",
     "text": [
      "pad_sequences maxlen :  60\n",
      "전체 문장의 0.9975890331920068%가 maxlen 설정값 이내에 포함.\n"
     ]
    }
   ],
   "source": [
    "# 최대 길이를 (평균 + 2.2*표준편차)로 설정\n",
    "\n",
    "max_tokens = np.mean(num_tokens) + 4*np.std(num_tokens)\n",
    "maxlen = int(max_tokens)\n",
    "print('pad_sequences maxlen : ', maxlen)\n",
    "print('전체 문장의 {}%가 maxlen 설정값 이내에 포함.'.format(np.sum(num_tokens < max_tokens) / len(num_tokens)))"
   ]
  },
  {
   "cell_type": "markdown",
   "id": "e29eea9d",
   "metadata": {},
   "source": [
    "최대 60개 단어로 만들어진 문장이 전체의 99%를 차지하니 maxlen 60으로 설정"
   ]
  },
  {
   "cell_type": "code",
   "execution_count": 192,
   "id": "1a4902a5",
   "metadata": {},
   "outputs": [],
   "source": [
    "import tensorflow as tf\n",
    "\n",
    "# 패딩 추가\n",
    "\n",
    "X_train = tf.keras.preprocessing.sequence.pad_sequences(X_train, value=word_to_index['<PAD>'],\n",
    "                                                      padding='pre',\n",
    "                                                      maxlen=maxlen)\n",
    "\n",
    "X_test = tf.keras.preprocessing.sequence.pad_sequences(X_test, value=word_to_index['<PAD>'],\n",
    "                                                      padding='pre',\n",
    "                                                      maxlen=maxlen)"
   ]
  },
  {
   "cell_type": "code",
   "execution_count": 193,
   "id": "fd9a3589",
   "metadata": {},
   "outputs": [
    {
     "data": {
      "text/plain": [
       "(145261, 60)"
      ]
     },
     "execution_count": 193,
     "metadata": {},
     "output_type": "execute_result"
    }
   ],
   "source": [
    "X_train.shape"
   ]
  },
  {
   "cell_type": "markdown",
   "id": "44f42be5",
   "metadata": {},
   "source": [
    "## 04. 모델 구성 및 validation set 구성"
   ]
  },
  {
   "cell_type": "code",
   "execution_count": 194,
   "id": "99064818",
   "metadata": {},
   "outputs": [
    {
     "name": "stdout",
     "output_type": "stream",
     "text": [
      "Model: \"sequential_19\"\n",
      "_________________________________________________________________\n",
      "Layer (type)                 Output Shape              Param #   \n",
      "=================================================================\n",
      "embedding_22 (Embedding)     (None, None, 16)          355088    \n",
      "_________________________________________________________________\n",
      "lstm_11 (LSTM)               (None, None, 128)         74240     \n",
      "_________________________________________________________________\n",
      "dense_42 (Dense)             (None, None, 8)           1032      \n",
      "_________________________________________________________________\n",
      "dense_43 (Dense)             (None, None, 1)           9         \n",
      "=================================================================\n",
      "Total params: 430,369\n",
      "Trainable params: 430,369\n",
      "Non-trainable params: 0\n",
      "_________________________________________________________________\n"
     ]
    }
   ],
   "source": [
    "# 모델 구성\n",
    "\n",
    "from tensorflow.keras.layers import Embedding,LSTM,Dense,GlobalMaxPooling1D\n",
    "\n",
    "vocab_size = 22193\n",
    "word_vector_dim = 16\n",
    "\n",
    "model = tf.keras.Sequential()\n",
    "model.add(Embedding(vocab_size, word_vector_dim, input_shape=(None,)))\n",
    "model.add(LSTM(128, return_sequences=True))\n",
    "model.add(Dense(8, activation='relu'))\n",
    "model.add(Dense(1, activation='sigmoid'))\n",
    "\n",
    "model.summary()"
   ]
  },
  {
   "cell_type": "code",
   "execution_count": 195,
   "id": "c951d079",
   "metadata": {},
   "outputs": [],
   "source": [
    "val_num=round(145186*0.2)"
   ]
  },
  {
   "cell_type": "code",
   "execution_count": 196,
   "id": "0b03251e",
   "metadata": {},
   "outputs": [
    {
     "name": "stdout",
     "output_type": "stream",
     "text": [
      "(29037, 60) (29037,)\n"
     ]
    }
   ],
   "source": [
    "from sklearn.model_selection import train_test_split\n",
    "\n",
    "# validation set\n",
    "X_val,y_val = X_train[:val_num], y_train[:val_num]\n",
    "X_train_part, y_train_part = X_train[:val_num], y_train[:val_num]\n",
    "print(X_train_part.shape, y_train_part.shape)"
   ]
  },
  {
   "cell_type": "markdown",
   "id": "505bb27f",
   "metadata": {},
   "source": [
    "## 05. 모델 훈련"
   ]
  },
  {
   "cell_type": "code",
   "execution_count": 197,
   "id": "5f0160ca",
   "metadata": {},
   "outputs": [
    {
     "name": "stdout",
     "output_type": "stream",
     "text": [
      "Epoch 1/30\n",
      "57/57 [==============================] - 4s 26ms/step - loss: 0.6915 - accuracy: 0.5041 - val_loss: 0.6840 - val_accuracy: 0.5379\n",
      "Epoch 2/30\n",
      "57/57 [==============================] - 1s 18ms/step - loss: 0.6691 - accuracy: 0.5498 - val_loss: 0.6443 - val_accuracy: 0.5663\n",
      "Epoch 3/30\n",
      "57/57 [==============================] - 1s 18ms/step - loss: 0.6393 - accuracy: 0.5657 - val_loss: 0.6252 - val_accuracy: 0.5738\n",
      "Epoch 4/30\n",
      "57/57 [==============================] - 1s 18ms/step - loss: 0.6246 - accuracy: 0.5735 - val_loss: 0.6163 - val_accuracy: 0.5779\n",
      "Epoch 5/30\n",
      "57/57 [==============================] - 1s 18ms/step - loss: 0.6153 - accuracy: 0.5766 - val_loss: 0.6084 - val_accuracy: 0.5820\n",
      "Epoch 6/30\n",
      "57/57 [==============================] - 1s 18ms/step - loss: 0.6081 - accuracy: 0.5809 - val_loss: 0.6008 - val_accuracy: 0.5852\n",
      "Epoch 7/30\n",
      "57/57 [==============================] - 1s 18ms/step - loss: 0.6034 - accuracy: 0.5840 - val_loss: 0.5970 - val_accuracy: 0.5867\n",
      "Epoch 8/30\n",
      "57/57 [==============================] - 1s 18ms/step - loss: 0.5993 - accuracy: 0.5852 - val_loss: 0.5944 - val_accuracy: 0.5881\n",
      "Epoch 9/30\n",
      "57/57 [==============================] - 1s 18ms/step - loss: 0.5968 - accuracy: 0.5824 - val_loss: 0.5936 - val_accuracy: 0.5888\n",
      "Epoch 10/30\n",
      "57/57 [==============================] - 1s 18ms/step - loss: 0.5951 - accuracy: 0.5871 - val_loss: 0.5909 - val_accuracy: 0.5894\n",
      "Epoch 11/30\n",
      "57/57 [==============================] - 1s 18ms/step - loss: 0.5925 - accuracy: 0.5845 - val_loss: 0.5882 - val_accuracy: 0.5897\n",
      "Epoch 12/30\n",
      "57/57 [==============================] - 1s 18ms/step - loss: 0.5905 - accuracy: 0.5888 - val_loss: 0.5870 - val_accuracy: 0.5908\n",
      "Epoch 13/30\n",
      "57/57 [==============================] - 1s 18ms/step - loss: 0.5896 - accuracy: 0.5872 - val_loss: 0.5868 - val_accuracy: 0.5901\n",
      "Epoch 14/30\n",
      "57/57 [==============================] - 1s 19ms/step - loss: 0.5904 - accuracy: 0.5875 - val_loss: 0.5867 - val_accuracy: 0.5903\n",
      "Epoch 15/30\n",
      "57/57 [==============================] - 1s 18ms/step - loss: 0.5876 - accuracy: 0.5869 - val_loss: 0.5838 - val_accuracy: 0.5913\n",
      "Epoch 16/30\n",
      "57/57 [==============================] - 1s 18ms/step - loss: 0.5856 - accuracy: 0.5904 - val_loss: 0.5825 - val_accuracy: 0.5919\n",
      "Epoch 17/30\n",
      "57/57 [==============================] - 1s 18ms/step - loss: 0.5845 - accuracy: 0.5888 - val_loss: 0.5820 - val_accuracy: 0.5918\n",
      "Epoch 18/30\n",
      "57/57 [==============================] - 1s 18ms/step - loss: 0.5846 - accuracy: 0.5885 - val_loss: 0.6262 - val_accuracy: 0.5764\n",
      "Epoch 19/30\n",
      "57/57 [==============================] - 1s 18ms/step - loss: 0.5944 - accuracy: 0.5864 - val_loss: 0.5860 - val_accuracy: 0.5898\n",
      "Epoch 20/30\n",
      "57/57 [==============================] - 1s 18ms/step - loss: 0.5867 - accuracy: 0.5897 - val_loss: 0.5835 - val_accuracy: 0.5907\n",
      "Epoch 21/30\n",
      "57/57 [==============================] - 1s 18ms/step - loss: 0.5835 - accuracy: 0.5892 - val_loss: 0.5817 - val_accuracy: 0.5915\n",
      "Epoch 22/30\n",
      "57/57 [==============================] - 1s 18ms/step - loss: 0.5903 - accuracy: 0.5867 - val_loss: 0.5826 - val_accuracy: 0.5917\n",
      "Epoch 23/30\n",
      "57/57 [==============================] - 1s 18ms/step - loss: 0.5831 - accuracy: 0.5884 - val_loss: 0.5807 - val_accuracy: 0.5913\n",
      "Epoch 24/30\n",
      "57/57 [==============================] - 1s 18ms/step - loss: 0.5808 - accuracy: 0.5913 - val_loss: 0.5788 - val_accuracy: 0.5923\n",
      "Epoch 25/30\n",
      "57/57 [==============================] - 1s 18ms/step - loss: 0.5795 - accuracy: 0.5917 - val_loss: 0.5779 - val_accuracy: 0.5930\n",
      "Epoch 26/30\n",
      "57/57 [==============================] - 1s 18ms/step - loss: 0.5789 - accuracy: 0.5902 - val_loss: 0.5776 - val_accuracy: 0.5930\n",
      "Epoch 27/30\n",
      "57/57 [==============================] - 1s 18ms/step - loss: 0.5788 - accuracy: 0.5909 - val_loss: 0.5772 - val_accuracy: 0.5931\n",
      "Epoch 28/30\n",
      "57/57 [==============================] - 1s 18ms/step - loss: 0.5790 - accuracy: 0.5884 - val_loss: 0.5791 - val_accuracy: 0.5918\n",
      "Epoch 29/30\n",
      "57/57 [==============================] - 1s 18ms/step - loss: 0.5793 - accuracy: 0.5895 - val_loss: 0.5768 - val_accuracy: 0.5928\n",
      "Epoch 30/30\n",
      "57/57 [==============================] - 1s 18ms/step - loss: 0.5779 - accuracy: 0.5906 - val_loss: 0.5764 - val_accuracy: 0.5932\n"
     ]
    }
   ],
   "source": [
    "from keras.callbacks import EarlyStopping,ModelCheckpoint\n",
    "\n",
    "model.compile(optimizer='adam',\n",
    "             loss='binary_crossentropy',\n",
    "             metrics=['accuracy'])\n",
    "\n",
    "epochs=30\n",
    "\n",
    "earlystop = EarlyStopping(monitor='val_loss',mode='min',verbose=1,patience=6, restore_best_weights=True)\n",
    "\n",
    "history = model.fit(X_train_part,\n",
    "                    y_train_part,\n",
    "                    epochs=epochs,\n",
    "                    batch_size=512,\n",
    "                    validation_data=(X_val,y_val),\n",
    "                    callbacks=[earlystop],\n",
    "                    verbose=1)"
   ]
  },
  {
   "cell_type": "code",
   "execution_count": 198,
   "id": "fbc41928",
   "metadata": {},
   "outputs": [
    {
     "name": "stdout",
     "output_type": "stream",
     "text": [
      "1527/1527 - 5s - loss: 0.8219 - accuracy: 0.5443\n",
      "[0.8218740820884705, 0.5443472266197205]\n"
     ]
    }
   ],
   "source": [
    "results = model.evaluate(X_test, y_test, verbose=2)\n",
    "print(results)"
   ]
  },
  {
   "cell_type": "markdown",
   "id": "a3338b2f",
   "metadata": {},
   "source": [
    "## 06. Loss, Accuracy 그래프 시각화"
   ]
  },
  {
   "cell_type": "code",
   "execution_count": 199,
   "id": "1462c983",
   "metadata": {},
   "outputs": [
    {
     "name": "stdout",
     "output_type": "stream",
     "text": [
      "dict_keys(['loss', 'accuracy', 'val_loss', 'val_accuracy'])\n"
     ]
    }
   ],
   "source": [
    "hist_dict = history.history\n",
    "print(hist_dict.keys())"
   ]
  },
  {
   "cell_type": "code",
   "execution_count": 200,
   "id": "05809d6c",
   "metadata": {},
   "outputs": [
    {
     "data": {
      "image/png": "[encoded data removed]",
      "text/plain": [
       "<Figure size 432x288 with 1 Axes>"
      ]
     },
     "metadata": {
      "needs_background": "light"
     },
     "output_type": "display_data"
    }
   ],
   "source": [
    "import matplotlib.pyplot as plt\n",
    "\n",
    "acc = hist_dict['accuracy']\n",
    "val_acc = hist_dict['val_accuracy']\n",
    "loss = hist_dict['loss']\n",
    "val_loss = hist_dict['val_loss']\n",
    "\n",
    "epoch = range(1, len(acc)+1)\n",
    "\n",
    "plt.plot(epoch, loss, 'b-',label='Train loss')\n",
    "plt.plot(epoch, val_loss, 'y-', label='validation loss')\n",
    "plt.xlabel('epoch')\n",
    "plt.ylabel('Loss')\n",
    "plt.legend()\n",
    "plt.show()"
   ]
  },
  {
   "cell_type": "code",
   "execution_count": 201,
   "id": "c4e18c25",
   "metadata": {},
   "outputs": [
    {
     "data": {
      "image/png": "[encoded data removed]",
      "text/plain": [
       "<Figure size 432x288 with 1 Axes>"
      ]
     },
     "metadata": {
      "needs_background": "light"
     },
     "output_type": "display_data"
    }
   ],
   "source": [
    "plt.clf() # 그림 초기화\n",
    "\n",
    "plt.plot(epoch,acc,'b-',label='train accuracy')\n",
    "plt.plot(epoch,val_acc,'y-',label='validation accuracy')\n",
    "plt.xlabel('epoch')\n",
    "plt.ylabel('accuracy')\n",
    "plt.legend()\n",
    "\n",
    "plt.show()"
   ]
  },
  {
   "cell_type": "markdown",
   "id": "5fbbcd00",
   "metadata": {},
   "source": [
    "## 07. 학습된 Embedding 레이어 분석"
   ]
  },
  {
   "cell_type": "code",
   "execution_count": 202,
   "id": "6ac3ee5e",
   "metadata": {},
   "outputs": [
    {
     "name": "stdout",
     "output_type": "stream",
     "text": [
      "(22193, 16)\n"
     ]
    }
   ],
   "source": [
    "embedding_layer = model.layers[0]\n",
    "embedding_weights = embedding_layer.get_weights()[0]\n",
    "print(embedding_weights.shape) # shape : (vocab_size, embedding_dim)"
   ]
  },
  {
   "cell_type": "code",
   "execution_count": 203,
   "id": "aebc39d6",
   "metadata": {},
   "outputs": [],
   "source": [
    "import os\n",
    "word2vec_file_path = os.getenv('HOME') + '/aiffel/sentiment_classification/data/word2vec02.txt'\n",
    "f = open(word2vec_file_path, 'w')\n",
    "f.write('{} {}\\n'.format(vocab_size-2,word_vector_dim)) \n",
    "\n",
    "# 단어 개수(문자 2개 제외)만큼의 워드벡터를 파일에 기록\n",
    "vectors = model.get_weights()[0]\n",
    "for i in range(2, vocab_size):\n",
    "    f.write('{} {}\\n'.format(index_to_word[i], ' '.join(map(str, list(vectors[i,:])))))\n",
    "f.close()"
   ]
  },
  {
   "cell_type": "code",
   "execution_count": 204,
   "id": "f5e3bcd9",
   "metadata": {},
   "outputs": [
    {
     "data": {
      "text/plain": [
       "array([-0.02042387,  0.05507753,  0.11629713,  0.08310223, -0.22576441,\n",
       "       -0.1824933 , -0.01660588, -0.02621477, -0.09148172,  0.07855389,\n",
       "        0.00415381, -0.02091918, -0.03472083, -0.15439335,  0.01105978,\n",
       "        0.1068193 ], dtype=float32)"
      ]
     },
     "execution_count": 204,
     "metadata": {},
     "output_type": "execute_result"
    }
   ],
   "source": [
    "# 저장된 weight 확인\n",
    "from gensim.models.keyedvectors import Word2VecKeyedVectors\n",
    "\n",
    "word_vectors = Word2VecKeyedVectors.load_word2vec_format(word2vec_file_path, binary=False)\n",
    "vector = word_vectors['개그']\n",
    "vector"
   ]
  },
  {
   "cell_type": "code",
   "execution_count": 205,
   "id": "f263fea4",
   "metadata": {},
   "outputs": [
    {
     "data": {
      "text/plain": [
       "[('가슴', 0.9468823075294495),\n",
       " ('짱', 0.9306953549385071),\n",
       " ('재미있', 0.9263238906860352),\n",
       " ('유쾌', 0.9104794263839722),\n",
       " ('사중', 0.8983908891677856),\n",
       " ('올라가', 0.891254723072052),\n",
       " ('인생', 0.8892821073532104),\n",
       " ('멋있', 0.8861639499664307),\n",
       " ('사회', 0.8858396410942078),\n",
       " ('낮', 0.8841150999069214)]"
      ]
     },
     "execution_count": 205,
     "metadata": {},
     "output_type": "execute_result"
    }
   ],
   "source": [
    "# 유사도 확인 실험\n",
    "\n",
    "word_vectors.similar_by_word('사랑')"
   ]
  },
  {
   "cell_type": "markdown",
   "id": "495bbeff",
   "metadata": {},
   "source": [
    "## 08. 한국어 Word2Vec 임베딩 활용하여 성능 개선 "
   ]
  },
  {
   "cell_type": "code",
   "execution_count": 206,
   "id": "44e06d17",
   "metadata": {},
   "outputs": [],
   "source": [
    "#from gensim.models import KeyedVectors\n",
    "\n",
    "#word2vec_path = os.getenv('HOME') + '/aiffel/sentiment_classification/data/GoogleNews-vectors-negative300.bin.gz'\n",
    "#word2vec = KeyedVectors.load_word2vec_format(word2vec_path, binary=True, limit=1000000)\n",
    "#vector = word2vec['computer']\n",
    "#vector"
   ]
  },
  {
   "cell_type": "code",
   "execution_count": 207,
   "id": "1568cb35",
   "metadata": {},
   "outputs": [],
   "source": [
    "#word2vec.similar_by_word('love')"
   ]
  },
  {
   "cell_type": "code",
   "execution_count": 208,
   "id": "a1593793",
   "metadata": {},
   "outputs": [
    {
     "data": {
      "text/plain": [
       "(100,)"
      ]
     },
     "execution_count": 208,
     "metadata": {},
     "output_type": "execute_result"
    }
   ],
   "source": [
    "# 한국어 버전\n",
    "\n",
    "from gensim.models.keyedvectors import Word2VecKeyedVectors\n",
    "\n",
    "word2vec_file_path = os.getenv('HOME') + '/aiffel/sentiment_classification/data/word2vec_ko.model'\n",
    "word_vectors = Word2VecKeyedVectors.load(word2vec_file_path)\n",
    "vector = word_vectors.wv['끝']\n",
    "vector.shape"
   ]
  },
  {
   "cell_type": "code",
   "execution_count": 209,
   "id": "0c171f10",
   "metadata": {},
   "outputs": [
    {
     "data": {
      "text/plain": [
       "302960"
      ]
     },
     "execution_count": 209,
     "metadata": {},
     "output_type": "execute_result"
    }
   ],
   "source": [
    "temp=word_vectors.wv\n",
    "len(temp)"
   ]
  },
  {
   "cell_type": "code",
   "execution_count": 210,
   "id": "1f7bc979",
   "metadata": {},
   "outputs": [
    {
     "data": {
      "text/plain": [
       "[('성대모사', 0.7761198878288269),\n",
       " ('만담', 0.7282556295394897),\n",
       " ('버라이어티', 0.7226384878158569),\n",
       " ('유머', 0.6828283667564392),\n",
       " ('서스펜스', 0.682684600353241),\n",
       " ('콤비', 0.6776537299156189),\n",
       " ('아니메', 0.6666383147239685),\n",
       " ('패러디', 0.6661104559898376),\n",
       " ('미소녀', 0.6641975045204163),\n",
       " ('만화', 0.6637367606163025)]"
      ]
     },
     "execution_count": 210,
     "metadata": {},
     "output_type": "execute_result"
    }
   ],
   "source": [
    "word_vectors.wv.similar_by_word('개그')"
   ]
  },
  {
   "cell_type": "code",
   "execution_count": 211,
   "id": "d967a22c",
   "metadata": {},
   "outputs": [],
   "source": [
    "vocab_size=len(index_to_word)\n",
    "word_vector_dim = 100\n",
    "embedding_matrix = np.random.randn(vocab_size, word_vector_dim)\n",
    "\n",
    "for i in range(2, vocab_size):\n",
    "    if index_to_word[i] in word_vectors.wv:\n",
    "        embedding_matrix[i] = word_vectors.wv[index_to_word[i]]"
   ]
  },
  {
   "cell_type": "code",
   "execution_count": 212,
   "id": "017e28e5",
   "metadata": {},
   "outputs": [
    {
     "data": {
      "text/plain": [
       "(22193, 100)"
      ]
     },
     "execution_count": 212,
     "metadata": {},
     "output_type": "execute_result"
    }
   ],
   "source": [
    "embedding_matrix.shape"
   ]
  },
  {
   "cell_type": "code",
   "execution_count": 283,
   "id": "2357c1f3",
   "metadata": {},
   "outputs": [
    {
     "name": "stdout",
     "output_type": "stream",
     "text": [
      "Model: \"sequential_33\"\n",
      "_________________________________________________________________\n",
      "Layer (type)                 Output Shape              Param #   \n",
      "=================================================================\n",
      "embedding_37 (Embedding)     (None, 60, 100)           2219300   \n",
      "_________________________________________________________________\n",
      "conv1d_25 (Conv1D)           (None, 60, 64)            32064     \n",
      "_________________________________________________________________\n",
      "max_pooling1d_12 (MaxPooling (None, 12, 64)            0         \n",
      "_________________________________________________________________\n",
      "lstm_21 (LSTM)               (None, 128)               98816     \n",
      "_________________________________________________________________\n",
      "dropout_14 (Dropout)         (None, 128)               0         \n",
      "_________________________________________________________________\n",
      "dense_59 (Dense)             (None, 1)                 129       \n",
      "=================================================================\n",
      "Total params: 2,350,309\n",
      "Trainable params: 2,350,309\n",
      "Non-trainable params: 0\n",
      "_________________________________________________________________\n"
     ]
    }
   ],
   "source": [
    "from tensorflow.keras.initializers import Constant\n",
    "from tensorflow.keras.layers import Dense,GlobalMaxPooling1D,Conv1D,MaxPooling1D,BatchNormalization,Input,Concatenate,Dropout,Bidirectional\n",
    "from tensorflow.keras.layers import GRU\n",
    "# 모델 구성\n",
    "\n",
    "'''\n",
    "# LSTM만\n",
    "model = tf.keras.Sequential()\n",
    "model.add(Embedding(vocab_size,\n",
    "                   word_vector_dim,\n",
    "                   embeddings_initializer=Constant(embedding_matrix),\n",
    "                   input_length=maxlen,\n",
    "                   trainable=True))  # trainable = True 줄 시 Fine-tuning함 특정 도메인에 맞게 미세조정됨.\n",
    "                                 # 특정 레이블이 지정된 예제 세트가 제공된 다음 역전파 계산하게됨.\n",
    "\n",
    "model.add(LSTM(128))\n",
    "#model.add(LSTM(64))\n",
    "model.add(Dense(128, activation='relu'))\n",
    "model.add(Dense(1, activation='sigmoid'))\n",
    "'''\n",
    "\n",
    "#CONV+LSTM\n",
    "model = tf.keras.Sequential()\n",
    "model.add(Embedding(vocab_size,\n",
    "                   word_vector_dim,\n",
    "                   embeddings_initializer=Constant(embedding_matrix),\n",
    "                   input_length=maxlen,\n",
    "                   trainable=True))\n",
    "                   \n",
    "model.add(Conv1D(filters=64, kernel_size=5, padding='same', activation='relu'))\n",
    "model.add(MaxPooling1D(pool_size=5))\n",
    "\n",
    "model.add(LSTM(128))\n",
    "#model.add(Bidirectional(LSTM(128)))\n",
    "model.add(Dropout(0.4))\n",
    "model.add(Dense(1, activation='sigmoid'))\n",
    "\n",
    "'''\n",
    "#CONV만\n",
    "\n",
    "model_input = Input(shape = (maxlen,))\n",
    "z = Embedding(vocab_size,\n",
    "                   word_vector_dim,\n",
    "                   embeddings_initializer=Constant(embedding_matrix),\n",
    "                   input_length=maxlen,\n",
    "                   trainable=True)(model_input)\n",
    "conv_blocks = []\n",
    "\n",
    "for sz in [2, 4, 5]:\n",
    "    conv = Conv1D(filters = 256,\n",
    "                         kernel_size = sz,\n",
    "                         padding = \"valid\",\n",
    "                         activation = \"relu\",\n",
    "                         strides = 1)(z)\n",
    "    conv = GlobalMaxPooling1D()(conv)\n",
    "    conv_blocks.append(conv)\n",
    "\n",
    "z = Concatenate()(conv_blocks) if len(conv_blocks) > 1 else conv_blocks[0]\n",
    "z = Dropout(0.4)(z)\n",
    "z = Dense(32, activation=\"relu\")(z)\n",
    "model_output = Dense(1, activation=\"sigmoid\")(z)\n",
    "\n",
    "model = tf.keras.Model(model_input, model_output)\n",
    "'''\n",
    "'''\n",
    "#Dense만\n",
    "model = tf.keras.Sequential()\n",
    "model.add(Embedding(vocab_size,\n",
    "                   word_vector_dim,\n",
    "                   embeddings_initializer=Constant(embedding_matrix),\n",
    "                   input_length=maxlen,\n",
    "                   trainable=True))\n",
    "model.add(tf.keras.layers.GlobalMaxPooling1D())\n",
    "model.add(Dense(128, activation='relu'))\n",
    "model.add(Dense(1, activation='sigmoid'))\n",
    "'''\n",
    "'''\n",
    "#GRU\n",
    "model = tf.keras.Sequential()\n",
    "model.add(Embedding(vocab_size,\n",
    "                   word_vector_dim,\n",
    "                   embeddings_initializer=Constant(embedding_matrix),\n",
    "                   input_length=maxlen,\n",
    "                   trainable=True))\n",
    "\n",
    "model.add(GRU(128, activation='relu'))\n",
    "model.add(Dense(1, activation='sigmoid'))\n",
    "'''\n",
    "\n",
    "model.summary()"
   ]
  },
  {
   "cell_type": "code",
   "execution_count": 284,
   "id": "525d08fe",
   "metadata": {},
   "outputs": [
    {
     "name": "stdout",
     "output_type": "stream",
     "text": [
      "Epoch 1/15\n",
      "454/454 [==============================] - 6s 9ms/step - loss: 0.5697 - accuracy: 0.6980 - val_loss: 0.4453 - val_accuracy: 0.7959\n",
      "Epoch 2/15\n",
      "454/454 [==============================] - 4s 8ms/step - loss: 0.4456 - accuracy: 0.7912 - val_loss: 0.3720 - val_accuracy: 0.8367\n",
      "Epoch 3/15\n",
      "454/454 [==============================] - 4s 8ms/step - loss: 0.3782 - accuracy: 0.8317 - val_loss: 0.3024 - val_accuracy: 0.8736\n",
      "Epoch 4/15\n",
      "454/454 [==============================] - 4s 9ms/step - loss: 0.3275 - accuracy: 0.8566 - val_loss: 0.2872 - val_accuracy: 0.8787\n",
      "Epoch 5/15\n",
      "454/454 [==============================] - 4s 8ms/step - loss: 0.2822 - accuracy: 0.8780 - val_loss: 0.2255 - val_accuracy: 0.9106\n",
      "Epoch 6/15\n",
      "454/454 [==============================] - 4s 8ms/step - loss: 0.2432 - accuracy: 0.8994 - val_loss: 0.1718 - val_accuracy: 0.9335\n",
      "Epoch 7/15\n",
      "454/454 [==============================] - 4s 8ms/step - loss: 0.2074 - accuracy: 0.9157 - val_loss: 0.2057 - val_accuracy: 0.9167\n",
      "Epoch 8/15\n",
      "454/454 [==============================] - 4s 8ms/step - loss: 0.1767 - accuracy: 0.9300 - val_loss: 0.1355 - val_accuracy: 0.9482\n",
      "Epoch 9/15\n",
      "454/454 [==============================] - 4s 8ms/step - loss: 0.1495 - accuracy: 0.9411 - val_loss: 0.1161 - val_accuracy: 0.9580\n",
      "Epoch 10/15\n",
      "454/454 [==============================] - 4s 8ms/step - loss: 0.1243 - accuracy: 0.9527 - val_loss: 0.0804 - val_accuracy: 0.9747\n",
      "Epoch 11/15\n",
      "454/454 [==============================] - 4s 8ms/step - loss: 0.1065 - accuracy: 0.9595 - val_loss: 0.0775 - val_accuracy: 0.9730\n",
      "Epoch 12/15\n",
      "454/454 [==============================] - 4s 8ms/step - loss: 0.0901 - accuracy: 0.9668 - val_loss: 0.1238 - val_accuracy: 0.9508\n",
      "Epoch 13/15\n",
      "454/454 [==============================] - 4s 8ms/step - loss: 0.0806 - accuracy: 0.9701 - val_loss: 0.0413 - val_accuracy: 0.9876\n",
      "Epoch 14/15\n",
      "454/454 [==============================] - 4s 8ms/step - loss: 0.0690 - accuracy: 0.9753 - val_loss: 0.0467 - val_accuracy: 0.9835\n",
      "Epoch 15/15\n",
      "454/454 [==============================] - 4s 8ms/step - loss: 0.0594 - accuracy: 0.9784 - val_loss: 0.0343 - val_accuracy: 0.9879\n"
     ]
    }
   ],
   "source": [
    "model.compile(optimizer='rmsprop',\n",
    "             loss='binary_crossentropy',\n",
    "             metrics=['accuracy'])\n",
    "epochs=15\n",
    "\n",
    "early_stop = EarlyStopping(monitor='val_loss',mode='min',min_delta=0.001,verbose=1,patience=4, restore_best_weights=True)\n",
    "\n",
    "history=model.fit(X_train_part,\n",
    "                  y_train_part,\n",
    "                  epochs=epochs,\n",
    "                  batch_size=64,\n",
    "                  validation_data=(X_val,y_val),\n",
    "                  verbose=1,\n",
    "                  callbacks=[early_stop]\n",
    "                 )"
   ]
  },
  {
   "cell_type": "code",
   "execution_count": 285,
   "id": "3fd4acdc",
   "metadata": {},
   "outputs": [
    {
     "name": "stdout",
     "output_type": "stream",
     "text": [
      "1527/1527 - 3s - loss: 0.9282 - accuracy: 0.8103\n",
      "[0.9282099604606628, 0.8102636337280273]\n"
     ]
    }
   ],
   "source": [
    "results= model.evaluate(X_test,y_test,verbose=2)\n",
    "print(results)"
   ]
  },
  {
   "cell_type": "code",
   "execution_count": 286,
   "id": "ec5188d2",
   "metadata": {},
   "outputs": [],
   "source": [
    "hist_dict = history.history\n",
    "\n",
    "acc= hist_dict['accuracy']\n",
    "val_acc = hist_dict['val_accuracy']\n",
    "loss = hist_dict['loss']\n",
    "val_loss = hist_dict['val_loss']\n"
   ]
  },
  {
   "cell_type": "code",
   "execution_count": 287,
   "id": "038276a8",
   "metadata": {},
   "outputs": [
    {
     "data": {
      "image/png": "[encoded data removed]",
      "text/plain": [
       "<Figure size 432x288 with 1 Axes>"
      ]
     },
     "metadata": {
      "needs_background": "light"
     },
     "output_type": "display_data"
    }
   ],
   "source": [
    "epoch = range(1, len(acc)+1)\n",
    "\n",
    "plt.plot(epoch, loss, 'b-',label='Train loss')\n",
    "plt.plot(epoch, val_loss, 'y-', label='validation loss')\n",
    "plt.xlabel('epoch')\n",
    "plt.ylabel('Loss')\n",
    "\n",
    "plt.legend()\n",
    "plt.show()"
   ]
  },
  {
   "cell_type": "code",
   "execution_count": null,
   "id": "c83d89b9",
   "metadata": {},
   "outputs": [],
   "source": [
    "plt.clf() # 그림 초기화\n",
    "\n",
    "plt.plot(epoch,acc,'b-',label='train accuracy')\n",
    "plt.plot(epoch,val_acc,'y-',label='validation accuracy')\n",
    "plt.xlabel('epoch')\n",
    "plt.ylabel('accuracy')\n",
    "plt.legend()\n",
    "\n",
    "plt.show()\n"
   ]
  },
  {
   "cell_type": "markdown",
   "id": "ce55fefd",
   "metadata": {},
   "source": [
    "## 회고"
   ]
  },
  {
   "cell_type": "markdown",
   "id": "8443e70b",
   "metadata": {},
   "source": [
    "문제점.\n",
    "\n",
    "1. 특수문자는 단어 사전에 없기 때문에 학습 시키기 힘들다. \n",
    "\n",
    "2. 소리나는 대로 해석이 가능한 한국어 특성 상 그에 맞는 단어가 단어사전에 없을 수도 있다. 그래서 단어 사전의 UNK으로 분류되고 성능이 나빠질 수 있는 위험이 있다.\n",
    "\n",
    "위 문제점들에 따라 먼저 리뷰 데이터들의 특수문자를 제거하고, 한국어를 토큰화할 때는 영어와 같이 띄어쓰기 기준이 아니라 형태소에 따라 분류한다.\n",
    "\n",
    "그래서 형태소 분석기인 Okt의 morphs를 이용해서 토큰화 해주었다. 즉 '만드는'이 만들다가 되어 저장되는 것. 소리나는 대로 적어놓은 단어도 정규화 시켜준다.\n",
    "\n",
    "그리고 단어 사전 빈도수가 3보다 작은 경우 들에 해당하는 단어는 다 빼주었다. 전체 빈도수 중에 희소 빈도수가 차지하는 비율이 1.5퍼센트 대밖에 안되기 때문에 정답에 영향을 준다고 하기 어렵고 오히려 노이즈로 작용할 거라 추측했음\n",
    "\n",
    "감성분석을 다양한 방법을 통해 할 수 있다는 것을 알았다.\n",
    "\n",
    "RNN 뿐만 아니라 CNN을 1차원으로 층을 넣어주는 방법 등 다른 이론들을 적용시켜 만들 수 있는 방법이 상당히 많은 것 같다. 그런데 CNN으로 했을 때 이번 분석에서는 성능이 별로 좋지가 않았다.\n",
    "\n",
    "한동안 실험해보면서 val_loss만 줄일려고 노력했었다. epoch를 100까지 주는 지경까지 갔었는데 오히려 적당히 20정도로 끊어주는 게 test점수가 더 잘나왔다. 아무래도 validation 데이터도 정제된 트레이닝 데이터에서 뽑아왔기 때문에 과도하게 훈련시킨 overfitting 된 것 같습니다. 머든 적당히가 좋은 것.\n",
    "\n",
    "그리고 GRU가 LSTM보다 epoch 한번 당 학습 속도는 오래 걸리지만 loss최저점으로 가는 epoch 횟수가 LSTM보다 적다는 것을 알게됬습니다. 그러니까 전체 학습속도가 더 빠르다는 것.\n",
    "\n",
    "그리고 양방향 LSTM! 아무래도 시계열데이터와 비슷하게 순서에 따라 데이터의 분포, 정보가 다르게 다가올 수 있어서 이를 고려해주는 것.\n",
    "성능도 그냥 LSTM쓸 때보다 학습이 잘 되는 것 같았다."
   ]
  },
  {
   "cell_type": "markdown",
   "id": "6d27567e",
   "metadata": {},
   "source": [
    "## 참고 자료\n",
    "\n",
    "fine-tuning\n",
    "\n",
    "https://blog.naver.com/mynameistk/223036912084\n",
    "\n",
    "감성분류\n",
    "\n",
    "https://wikidocs.net/44249\n",
    "\n",
    "optimizer\n",
    "\n",
    "- RMSprop https://blog.naver.com/ssj860520/222831527189\n",
    "\n",
    "tokenizer\n",
    "\n",
    "- https://blog.naver.com/jude_712/223064420207\n",
    "- https://konlpy.org/en/latest/api/konlpy.tag/\n",
    "\n",
    "NLP 종류별 코드\n",
    "https://blog.naver.com/nobemver96/223026446546\n",
    "\n",
    "GRU\n",
    "https://wikidocs.net/22889\n",
    "\n",
    "sentiment twitter kaggle\n",
    "https://www.kaggle.com/code/kritanjalijain/twitter-sentiment-analysis-lstm"
   ]
  }
 ],
 "metadata": {
  "kernelspec": {
   "display_name": "Python 3 (ipykernel)",
   "language": "python",
   "name": "python3"
  },
  "language_info": {
   "codemirror_mode": {
    "name": "ipython",
    "version": 3
   },
   "file_extension": ".py",
   "mimetype": "text/x-python",
   "name": "python",
   "nbconvert_exporter": "python",
   "pygments_lexer": "ipython3",
   "version": "3.10.6"
  }
 },
 "nbformat": 4,
 "nbformat_minor": 5
}
